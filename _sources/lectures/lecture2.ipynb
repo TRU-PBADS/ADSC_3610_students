{
 "cells": [
  {
   "cell_type": "markdown",
   "metadata": {},
   "source": [
    "# Lecture 2: Introduction to MongoDB and the document model"
   ]
  },
  {
   "cell_type": "markdown",
   "metadata": {},
   "source": [
    "## Learning objectives\n",
    "\n",
    "By the end of this lecture, students should be able to:\n",
    "- Explain the data structure of a document model and its key features\n",
    "- Explain how data are stored in BSON format\n",
    "- Define a collection in a document model\n"
   ]
  },
  {
   "cell_type": "markdown",
   "metadata": {},
   "source": [
    "## Slides\n",
    "\n"
   ]
  },
  {
   "cell_type": "markdown",
   "metadata": {},
   "source": [
    "<iframe src=\"https://docs.google.com/presentation/d/1W_UVreGQh81MUt7aznPJgVvr5QgibIZImNZrBauY_T0/embed?start=false&loop=false&delayms=60000\" frameborder=\"0\" width=\"960\" height=\"569\" allowfullscreen=\"true\" mozallowfullscreen=\"true\" webkitallowfullscreen=\"true\"></iframe>"
   ]
  },
  {
   "cell_type": "markdown",
   "metadata": {},
   "source": [
    "\n",
    "```{note}\n",
    "Download a PDF version [here](https://docs.google.com/presentation/d/1W_UVreGQh81MUt7aznPJgVvr5QgibIZImNZrBauY_T0/export/pdf)\n",
    "```"
   ]
  },
  {
   "cell_type": "markdown",
   "metadata": {},
   "source": [
    "## Supplemental materials\n"
   ]
  },
  {
   "cell_type": "markdown",
   "metadata": {},
   "source": [
    "MongoDB stores data in a document-oriented model, which is quite different from the table-based model of traditional SQL databases. \n",
    "\n",
    "### Data Storage in MongoDB\n",
    "\n",
    "1. **Documents and Collections**:\n",
    "   - **Documents**: In MongoDB, data is stored in documents, which are similar to JSON objects. Each document consists of key-value pairs, where the keys are strings, and the values can be various data types, including strings, numbers, arrays, and even nested documents.\n",
    "   - **Collections**: Documents are grouped into collections, which are analogous to tables in SQL databases. However, unlike SQL tables, collections do not enforce a fixed schema, allowing each document to have a different structure.\n",
    "\n",
    "   **Example**:\n",
    "   ```json\n",
    "   {\n",
    "      \"_id\": ObjectId(\"507f1f77bcf86cd799439011\"),\n",
    "      \"name\": \"John Doe\",\n",
    "      \"age\": 29,\n",
    "      \"address\": {\n",
    "         \"street\": \"123 Main St\",\n",
    "         \"city\": \"New York\",\n",
    "         \"zip\": \"10001\"\n",
    "      },\n",
    "      \"hobbies\": [\"reading\", \"travelling\"]\n",
    "   }\n",
    "   ```\n",
    "   In this document, the `address` field is a nested document, and the `hobbies` field is an array.\n",
    "\n",
    "2. **Flexibility and Schema**:\n",
    "   - MongoDB does not require a predefined schema for documents within a collection. This allows different documents in the same collection to have different fields, which provides flexibility in handling diverse data.\n",
    "   - **SQL**: In contrast, SQL databases require a rigid schema where each row in a table must conform to the predefined structure, with all rows having the same columns.\n",
    "\n",
    "   **Example** (Different documents in the same collection):\n",
    "   ```json\n",
    "   {\n",
    "      \"_id\": ObjectId(\"507f191e810c19729de860ea\"),\n",
    "      \"name\": \"Jane Smith\",\n",
    "      \"email\": \"jane.smith@example.com\"\n",
    "   }\n",
    "   ```\n",
    "\n",
    "3. **Data Types and Relationships**:\n",
    "   - **Embedded Documents**: MongoDB allows embedding documents within other documents, which is a way to represent one-to-many relationships within a single document.\n",
    "   - **SQL**: In SQL, relationships between tables (e.g., one-to-many) are typically handled using foreign keys and JOIN operations.\n",
    "\n",
    "   **Example** (One-to-many relationship in MongoDB):\n",
    "   ```json\n",
    "   {\n",
    "      \"_id\": ObjectId(\"5f1f77bcf86cd799439011a\"),\n",
    "      \"name\": \"Alice\",\n",
    "      \"orders\": [\n",
    "         {\n",
    "            \"order_id\": 1,\n",
    "            \"product\": \"Laptop\",\n",
    "            \"price\": 1200\n",
    "         },\n",
    "         {\n",
    "            \"order_id\": 2,\n",
    "            \"product\": \"Phone\",\n",
    "            \"price\": 800\n",
    "         }\n",
    "      ]\n",
    "   }\n",
    "   ```\n",
    "\n",
    "   **Comparison**:\n",
    "   - In MongoDB, related data (e.g., `orders`) can be embedded within a document, avoiding the need for JOINs and making data retrieval faster in many cases.\n",
    "   - In SQL, this would typically require two tables (`Customers` and `Orders`) and a JOIN operation to retrieve related data."
   ]
  },
  {
   "cell_type": "markdown",
   "metadata": {},
   "source": [
    "### JSON (JavaScript Object Notation)\n",
    "- **Text-Based Format**: JSON is a lightweight, text-based data interchange format. It’s human-readable and easy to understand, making it ideal for data exchange in web applications.\n",
    "- **Data Types**: JSON supports a limited set of data types, including:\n",
    "  - Strings\n",
    "  - Numbers\n",
    "  - Booleans (true/false)\n",
    "  - Arrays\n",
    "  - Objects (key-value pairs)\n",
    "  - Null\n",
    "\n",
    "- **Example**:\n",
    "   ```json\n",
    "   {\n",
    "      \"name\": \"John Doe\",\n",
    "      \"age\": 29,\n",
    "      \"isStudent\": false,\n",
    "      \"courses\": [\"Math\", \"Science\"],\n",
    "      \"address\": {\n",
    "         \"street\": \"123 Main St\",\n",
    "         \"city\": \"New York\"\n",
    "      }\n",
    "   }\n",
    "   ```\n",
    "\n",
    "- **Usage**: JSON is commonly used for data exchange between a client and a server, particularly in web APIs and configurations. It's supported by virtually all programming languages.\n"
   ]
  },
  {
   "cell_type": "markdown",
   "metadata": {},
   "source": [
    "\n",
    "### BSON (Binary JSON)\n",
    "- **Binary Format**: BSON is a binary-encoded serialization of JSON-like documents. While it retains the JSON data structure, BSON is designed to be more efficient for storage and speed in databases like MongoDB.\n",
    "- **Extended Data Types**: BSON supports all the JSON data types but also includes additional data types that JSON does not natively support, such as:\n",
    "  - **ObjectId**: A unique identifier used by MongoDB.\n",
    "  - **Date**: Represents dates and times.\n",
    "  - **Binary Data**: Allows storage of binary data, such as images and files.\n",
    "  - **32-bit/64-bit integers**: Specific integer types for efficient storage.\n",
    "  - **Min/Max Keys**: Special types for internal MongoDB usage to define a minimum or maximum value.\n",
    "  \n",
    "- **Example**:\n",
    "   In BSON, the JSON example would be stored in a more compact binary form, but let's look at how an ObjectId and a Date might be represented:\n",
    "   ```json\n",
    "   {\n",
    "      \"_id\": ObjectId(\"507f1f77bcf86cd799439011\"),\n",
    "      \"name\": \"John Doe\",\n",
    "      \"age\": 29,\n",
    "      \"enrollmentDate\": ISODate(\"2024-09-02T00:00:00Z\"),\n",
    "      \"isStudent\": false,\n",
    "      \"courses\": [\"Math\", \"Science\"],\n",
    "      \"address\": {\n",
    "         \"street\": \"123 Main St\",\n",
    "         \"city\": \"New York\"\n",
    "      }\n",
    "   }\n",
    "   ```\n",
    "   - **ObjectId**: The `_id` field is an ObjectId, a unique identifier used by MongoDB.\n",
    "   - **Date**: The `enrollmentDate` field is an ISODate, which stores the date in a more precise and efficient format.\n",
    "\n",
    "- **Usage in MongoDB**: BSON is used by MongoDB for internal storage because it’s more efficient to parse and manipulate at the database level than JSON. It allows MongoDB to support richer data types and enables faster read/write operations, especially with large datasets.\n"
   ]
  },
  {
   "cell_type": "markdown",
   "metadata": {},
   "source": [
    "\n",
    "### Key differences between JSON & BSON\n",
    "\n",
    "| **Feature**                | **JSON**                                                | **BSON**                                                                                           | **Example**                                           |\n",
    "|----------------------------|---------------------------------------------------------|-----------------------------------------------------------------------------------------------------|-------------------------------------------------------|\n",
    "| **Data Format**            | Text-based, human-readable format.                      | Binary-encoded format, efficient for storage and transport.                                          | -                                                     |\n",
    "| **Supported Data Types**   | Limited to basic types: string, number, object, array, boolean, null. | Supports all JSON types and additional types like ObjectId, Date, Binary, 32-bit/64-bit integers, Min/Max Keys. | -                                                     |\n",
    "| **ObjectId**               | Not natively supported.                                 | Supported as a 12-byte unique identifier.                                                           | **JSON**: N/A  <br> **BSON**: `ObjectId(\"64f68a4f8a0b8b7f5434e001\")`|\n",
    "| **Date**                   | Not natively supported, usually represented as a string. | Native support for dates with millisecond precision.                                                | **JSON**: `\"1990-05-20T00:00:00Z\"` <br> **BSON**: `ISODate(\"1990-05-20T00:00:00Z\")` |\n",
    "| **Binary Data**            | Not supported, requires encoding (e.g., Base64).        | Native support for binary data, stored as `BinData`.                                                | **JSON**: `\"Qk0oAQAAAAAAADYAAAAoAAAAEAAA...\"` (Base64-encoded) <br> **BSON**: `BinData(0, \"Qk0oAQAAAAAAADYAAAAoAAAAEAAA...\")` |\n",
    "| **Integers (32-bit/64-bit)**| Only supports number (treated as a floating-point).     | Supports both 32-bit and 64-bit integers for efficient storage.                                      | **JSON**: `1234567890` <br> **BSON**: `NumberLong(1234567890)` (64-bit) |\n",
    "| **Min/Max Keys**           | Not supported.                                          | Special types for defining minimum and maximum values, used internally by MongoDB.                  | **JSON**: N/A <br> **BSON**: `MinKey()` / `MaxKey()` |\n",
    "| **Data Size**              | Larger, since it’s text-based.                          | More compact due to binary encoding, especially for complex or large documents.                     | -                                                     |\n",
    "| **Readability**            | Human-readable, easy to read and write.                 | Not human-readable, designed for efficient machine processing.                                      | -                                                     |\n"
   ]
  },
  {
   "cell_type": "markdown",
   "metadata": {},
   "source": [
    "**Summary**\n",
    "\n",
    "BSON is specifically designed for use in databases like MongoDB, where performance and storage efficiency are critical. JSON, while more universally readable and widely used in web applications, lacks the extended data types and binary efficiency of BSON. MongoDB's use of BSON allows it to efficiently store and query complex data structures that go beyond what JSON can offer."
   ]
  }
 ],
 "metadata": {
  "kernelspec": {
   "display_name": "adsc_3610",
   "language": "python",
   "name": "python3"
  },
  "language_info": {
   "codemirror_mode": {
    "name": "ipython",
    "version": 3
   },
   "file_extension": ".py",
   "mimetype": "text/x-python",
   "name": "python",
   "nbconvert_exporter": "python",
   "pygments_lexer": "ipython3",
   "version": "3.12.5"
  }
 },
 "nbformat": 4,
 "nbformat_minor": 2
}

{
 "cells": [
  {
   "cell_type": "markdown",
   "metadata": {
    "application/vnd.databricks.v1+cell": {
     "cellMetadata": {},
     "inputWidgets": {},
     "nuid": "8d894202-16a1-4ad4-a057-b2f05282c3e2",
     "showTitle": false,
     "title": ""
    }
   },
   "source": [
    "# Lecture 9: Introduction to PySpark\n"
   ]
  },
  {
   "cell_type": "markdown",
   "metadata": {
    "application/vnd.databricks.v1+cell": {
     "cellMetadata": {},
     "inputWidgets": {},
     "nuid": "7b62e6e7-43a2-46aa-a9f3-123485859825",
     "showTitle": false,
     "title": ""
    }
   },
   "source": [
    "## Learning Objectives\n",
    "\n",
    "By the end of this lecture, students should be able to:\n",
    "\n",
    "- Understand what is Spark and its main components\n",
    "- How Spark is different from Hadoop's Map Reduce\n",
    "- What are the key use case of Spark\n",
    "- Set up a databricks workspace"
   ]
  },
  {
   "cell_type": "markdown",
   "metadata": {
    "application/vnd.databricks.v1+cell": {
     "cellMetadata": {},
     "inputWidgets": {},
     "nuid": "97748f14-7479-4297-83b5-42d14461ceb6",
     "showTitle": false,
     "title": ""
    }
   },
   "source": [
    "## Apache Spark - An unified engine for large-scale analysis \n",
    "\n",
    "Apache Spark is an unified analytics engine designed for large-scale data processing. It offers high-level APIs in Java, Scala, Python, and R, along with an optimized engine that supports general execution graphs. Additionally, Spark includes a robust suite of higher-level tools such as Spark SQL for SQL and structured data processing, pandas API on Spark for handling pandas workloads, MLlib for machine learning, GraphX for graph processing, and Structured Streaming for incremental computation and stream processing.\n",
    "\n",
    "![](https://www.databricks.com/en-website-assets/static/fc5d7c6f8bc8dab49fefccf3e36b9f7f/19830.png)"
   ]
  },
  {
   "cell_type": "markdown",
   "metadata": {
    "application/vnd.databricks.v1+cell": {
     "cellMetadata": {},
     "inputWidgets": {},
     "nuid": "5a168a63-7c04-49ca-9943-254021aa828c",
     "showTitle": false,
     "title": ""
    }
   },
   "source": [
    "### Key benefits of Spark:\n",
    "\n",
    "**Speed**\n",
    "\n",
    "Engineered from the bottom-up for performance, **Spark can be 100x faster than Hadoop for large scale data processing** by exploiting in memory computing and other optimizations. Spark is also fast when data is stored on disk, and currently holds the world record for large-scale on-disk sorting.\n",
    "\n",
    "**Ease of Use**\n",
    "\n",
    "Spark has easy-to-use APIs for operating on large datasets. This includes a collection of over 100 operators for transforming data and familiar data frame APIs for manipulating semi-structured data.\n",
    "\n",
    "**A Unified Engine**\n",
    "\n",
    "Spark comes packaged with higher-level libraries, including support for SQL queries, streaming data, machine learning and graph processing. These standard libraries increase developer productivity and can be seamlessly combined to create complex workflows."
   ]
  },
  {
   "cell_type": "markdown",
   "metadata": {
    "application/vnd.databricks.v1+cell": {
     "cellMetadata": {},
     "inputWidgets": {},
     "nuid": "be523324-cf24-4293-8274-3ba47e5fd0e8",
     "showTitle": false,
     "title": ""
    }
   },
   "source": [
    "\n",
    "<img src=\"https://cdn.prod.website-files.com/5e724862760345325327026c/5fa7ecda6639f6566345729b_Apache%20Spark%20Ecosystem%20PNG.png\" alt=\"\" width=\"500\"/>\n"
   ]
  },
  {
   "cell_type": "markdown",
   "metadata": {
    "application/vnd.databricks.v1+cell": {
     "cellMetadata": {},
     "inputWidgets": {},
     "nuid": "e7b14ac3-f87a-452e-b30d-8a1d455c8cc3",
     "showTitle": false,
     "title": ""
    }
   },
   "source": [
    "## The big idea behind distributed computing"
   ]
  },
  {
   "cell_type": "markdown",
   "metadata": {
    "application/vnd.databricks.v1+cell": {
     "cellMetadata": {},
     "inputWidgets": {},
     "nuid": "6c259578-9141-4201-b603-7e5ac20610d1",
     "showTitle": false,
     "title": ""
    }
   },
   "source": [
    "Distributed computing is a model in which components of a software system are shared among multiple computers to improve efficiency and performance. To understand this concept, let's use the analogy of searching through a yellow phone book.\n",
    "\n",
    "### The Yellow Phone Book Analogy\n",
    "Imagine you have a massive yellow phone book with millions of entries, and you need to find the phone number of a specific person. Doing this task alone would be time-consuming and tedious. Now, let's break down how distributed computing can make this process faster and more efficient.\n",
    "\n",
    "\n",
    "<img src=\"https://i.redd.it/ly7a0bgzsq721.jpg\" alt=\"\" width=\"300\"/>\n",
    "\n",
    "\n",
    "#### Single Worker (Non-Distributed Computing)\n",
    "- **Scenario**: One person (a single computer) is tasked with finding the phone number.\n",
    "- **Process**: The person starts from the first page and goes through each entry sequentially until they find the desired phone number.\n",
    "- **Time**: This process can take a long time, especially if the phone book is enormous.\n",
    "- **Vertical scaling**: Enhancing the capabilities of a single computer by adding more CPU, memory, or faster storage.\n",
    "\n",
    "#### Multiple Workers (Distributed Computing)\n",
    "- **Scenario**: You have a team of people (multiple computers) to help you search through the phone book.\n",
    "- **Process**:\n",
    "  1. **Divide the Task**: Split the phone book into equal sections and assign each section to a different person.\n",
    "  2. **Parallel Search**: Each person searches their assigned section simultaneously.\n",
    "  3. **Combine Results**: Once a person finds the phone number, they inform the rest of the team, and the search stops.\n",
    "- **Time**: The search process is significantly faster because multiple sections are being searched at the same time.\n",
    "- **Horizontal scaling**: Adding more computers to the system to share the workload.\n",
    "\n",
    "#### Key Concepts in Distributed Computing\n",
    "- **Parallelism**: Just like multiple people searching different sections of the phone book simultaneously, distributed computing involves multiple processors working on different parts of a task at the same time.\n",
    "- **Scalability**: Adding more workers (computers) can further speed up the search process. Similarly, distributed systems can scale by adding more nodes to handle larger workloads.\n",
    "- **Fault Tolerance**: If one person gets tired or makes a mistake, others can continue the search. In distributed computing, if one node fails, other nodes can take over its tasks, ensuring the system remains operational.\n",
    "- **Coordination**: Effective communication and coordination are essential. In our analogy, workers need to inform each other when the phone number is found. In distributed systems, nodes must coordinate to share data and results.\n"
   ]
  },
  {
   "cell_type": "markdown",
   "metadata": {
    "application/vnd.databricks.v1+cell": {
     "cellMetadata": {},
     "inputWidgets": {},
     "nuid": "ecb762ac-f7eb-48e3-99e9-e057d5109e4c",
     "showTitle": false,
     "title": ""
    }
   },
   "source": [
    "<img src=\"https://miro.medium.com/v2/resize:fit:1122/1*gee5Zkih2dZ7tYWRgmRbkw.png\" alt=\"\" width=\"600\"/>\n"
   ]
  },
  {
   "cell_type": "markdown",
   "metadata": {
    "application/vnd.databricks.v1+cell": {
     "cellMetadata": {},
     "inputWidgets": {},
     "nuid": "f8d172a4-127b-4cf8-bf47-7ddeb6005a13",
     "showTitle": false,
     "title": ""
    }
   },
   "source": [
    "## Spark and Hadoop's ecosystem\n",
    "\n",
    "![](https://tutorials.freshersnow.com/wp-content/uploads/2020/06/Hadoop-Ecosystem.png)\n",
    "\n",
    "Credit: https://tutorials.freshersnow.com/hadoop-tutorial/hadoop-ecosystem-components/"
   ]
  },
  {
   "cell_type": "markdown",
   "metadata": {
    "application/vnd.databricks.v1+cell": {
     "cellMetadata": {},
     "inputWidgets": {},
     "nuid": "cc4e6505-8339-41a1-bb9f-a731e9c4bf3c",
     "showTitle": false,
     "title": ""
    }
   },
   "source": [
    "### Hadoop Ecosystem\n",
    "- **Hadoop Distributed File System (HDFS)**: is a special file system that stores large datasets across multiple computers. These computers are called Hadoop clusters. \n",
    "- **MapReduce**: allows programs to break large data processing tasks into smaller ones and runs them in parallel on multiple servers.\n",
    "- **YARN (Yet Another Resource Negotiator)**: schedules tasks and allocates resources to applications running on Hadoop.\n"
   ]
  },
  {
   "cell_type": "markdown",
   "metadata": {
    "application/vnd.databricks.v1+cell": {
     "cellMetadata": {},
     "inputWidgets": {},
     "nuid": "5dda70b0-0f1a-4635-96ee-1637a92a9ef6",
     "showTitle": false,
     "title": ""
    }
   },
   "source": [
    "\n",
    "\n",
    "### Spark Ecosystem\n",
    "- **Spark Core**: The foundation of the Spark framework, responsible for basic I/O functionalities, task scheduling, and memory management.\n",
    "- **Spark SQL**: Allows querying of structured data via SQL and supports integration with various data sources.\n",
    "- **Spark Streaming**: Enables real-time data processing and analytics.\n",
    "- **MLlib**: A library for scalable machine learning algorithms.\n",
    "- **GraphX**: A library for graph processing and analysis.\n",
    "- **SparkR**: An R package that provides a lightweight frontend to use Apache Spark from R.\n"
   ]
  },
  {
   "cell_type": "markdown",
   "metadata": {
    "application/vnd.databricks.v1+cell": {
     "cellMetadata": {},
     "inputWidgets": {},
     "nuid": "828d2ef6-0df6-4804-9051-0ffb0a1c8b64",
     "showTitle": false,
     "title": ""
    }
   },
   "source": [
    "### Key Differences: Hadoop vs. Spark\n",
    "\n",
    "|                  | Hadoop                                                                               | Spark                                                                                                           |\n",
    "|------------------|--------------------------------------------------------------------------------------|-----------------------------------------------------------------------------------------------------------------|\n",
    "| Architecture     | Hadoop stores and processes data on external storage.                                | Spark stores and process data on internal memory.                                                               |\n",
    "| Performance      | Hadoop processes data in batches.                                                    | Spark processes data in real time.                                                                              |\n",
    "| Cost             | Hadoop is affordable.                                                                | Spark is comparatively more expensive.                                                                          |\n",
    "| Scalability      | Hadoop is easily scalable by adding more nodes.                                      | Spark is comparatively more challenging.                                                                        |\n",
    "| Machine learning | Hadoop integrates with external libraries to provide machine learning capabilities.  | Spark has built-in machine learning libraries.                                                                  |\n",
    "| Security         | Hadoop has strong security features, storage encryption, and access control.         | Spark has basic security. IT relies on you setting up a secure operating environment for the Spark deployment.  |\n",
    "  \n"
   ]
  },
  {
   "cell_type": "markdown",
   "metadata": {
    "application/vnd.databricks.v1+cell": {
     "cellMetadata": {},
     "inputWidgets": {},
     "nuid": "a03e152e-795e-44ac-985b-5b4d8acdfe30",
     "showTitle": false,
     "title": ""
    }
   },
   "source": [
    "#### Hadoop use cases\n",
    "\n",
    "Hadoop is most effective for scenarios that involve the following:\n",
    "\n",
    "- Processing big data sets in environments where data size exceeds available memory\n",
    "- Batch processing with tasks that exploit disk read and write operations\n",
    "- Building data analysis infrastructure with a limited budget\n",
    "- Completing jobs that are not time-sensitive\n",
    "- Historical and archive data analysis\n",
    "\n",
    "\n",
    "#### Spark use cases\n",
    "Spark is most effective for scenarios that involve the following:\n",
    "\n",
    "- Dealing with chains of parallel operations by using iterative algorithms\n",
    "- Achieving quick results with in-memory computations\n",
    "- Analyzing stream data analysis in real time\n",
    "- Graph-parallel processing to model data\n",
    "- All ML applications"
   ]
  },
  {
   "cell_type": "markdown",
   "metadata": {
    "application/vnd.databricks.v1+cell": {
     "cellMetadata": {},
     "inputWidgets": {},
     "nuid": "a13657fd-aeda-46bf-920c-8526a028f845",
     "showTitle": false,
     "title": ""
    }
   },
   "source": [
    "<img src=\"img/hadoop_spark.png\" alt=\"Googletrend\" width=\"600\"/>"
   ]
  },
  {
   "cell_type": "markdown",
   "metadata": {
    "application/vnd.databricks.v1+cell": {
     "cellMetadata": {},
     "inputWidgets": {},
     "nuid": "d8cb6292-d2c3-4142-8a91-25f76d93beeb",
     "showTitle": false,
     "title": ""
    }
   },
   "source": [
    "## Spark and Databricks"
   ]
  },
  {
   "cell_type": "markdown",
   "metadata": {
    "application/vnd.databricks.v1+cell": {
     "cellMetadata": {},
     "inputWidgets": {},
     "nuid": "191577cb-69d9-45a0-8b26-8200e300dc40",
     "showTitle": false,
     "title": ""
    }
   },
   "source": [
    "### Introduction to Databricks\n",
    "- **Databricks**: A cloud-based platform designed to simplify big data processing and analytics. It was founded by the creators of Apache Spark and provides a unified environment for data engineering, data science, and machine learning.\n",
    "\n",
    "### Key Features of Databricks\n",
    "- **Managed Spark Environment**: Databricks offers a fully managed Spark environment, which simplifies the deployment, management, and scaling of Spark applications.\n",
    "- **Collaborative Workspace**: Provides a collaborative workspace where data engineers, data scientists, and analysts can work together on data projects.\n",
    "- **Optimized Spark Engine**: Includes performance optimizations over open-source Spark, making it faster and more efficient.\n",
    "- **Integrated Machine Learning**: Simplifies the process of building, training, and deploying machine learning models.\n",
    "- **Interactive Notebooks**: Supports interactive notebooks that allow users to write code, visualize data, and share insights in a single document.\n",
    "\n",
    "### Relation to Apache Spark\n",
    "- **Founders**: Databricks was founded by the original creators of Apache Spark, ensuring deep integration and optimization for Spark workloads.\n",
    "- **Enhanced Spark Capabilities**: Databricks enhances Spark's capabilities by providing additional features such as optimized performance, collaborative tools, and integrated machine learning.\n",
    "- **Unified Analytics Platform**: Combines the power of Spark with additional tools and services to create a comprehensive platform for big data analytics and machine learning.\n",
    "\n",
    "### Benefits of Using Databricks with Spark\n",
    "- **Ease of Use**: Simplifies the setup and management of Spark clusters, allowing users to focus on data processing and analysis.\n",
    "- **Scalability**: Automatically scales resources based on workload demands, ensuring efficient use of resources.\n",
    "- **Performance**: Provides performance improvements over open-source Spark, making data processing faster and more efficient.\n",
    "- **Collaboration**: Facilitates collaboration among team members through shared notebooks and integrated workflows.\n",
    "- **Security**: Offers robust security features, including data encryption, access controls, and compliance with industry standards.\n"
   ]
  },
  {
   "cell_type": "markdown",
   "metadata": {
    "application/vnd.databricks.v1+cell": {
     "cellMetadata": {},
     "inputWidgets": {},
     "nuid": "51016727-eb50-4a16-adac-84eb43f580e5",
     "showTitle": false,
     "title": ""
    }
   },
   "source": [
    "## Sign up for Databricks Community edition\n",
    "\n",
    "1. Click [Try Databricks](https://databricks.com/try-databricks) here\n",
    "2. Enter your name, company, email, and title, and click Continue.\n",
    "3. On the Choose a cloud provider dialog, click the **Get started with Community Edition** link. You’ll see a page announcing that an email has been sent to the address you provided.\n",
    "\n",
    "<img src=\"img/databricks2.png\" alt=\"Databricks\" width=\"400\"/>"
   ]
  },
  {
   "cell_type": "markdown",
   "metadata": {
    "application/vnd.databricks.v1+cell": {
     "cellMetadata": {},
     "inputWidgets": {},
     "nuid": "2ccf0e4d-b352-431e-a822-804aa69681f4",
     "showTitle": false,
     "title": ""
    }
   },
   "source": [
    "4. Look for the welcome email and click the link to verify your email address. You are prompted to create your Databricks password.\n",
    "5. When you click Submit, you’ll be taken to the Databricks Community Edition home page\n",
    "\n",
    "<img src=\"https://docs.databricks.com/en/_images/landing-aws-ce.png\" alt=\"Databricks\" width=\"600\"/>"
   ]
  },
  {
   "cell_type": "markdown",
   "metadata": {
    "application/vnd.databricks.v1+cell": {
     "cellMetadata": {},
     "inputWidgets": {},
     "nuid": "25880129-516c-4a33-b6d8-8a5e7c08893d",
     "showTitle": false,
     "title": ""
    }
   },
   "source": [
    "## Getting started with PySpark on databricks"
   ]
  },
  {
   "cell_type": "markdown",
   "metadata": {
    "application/vnd.databricks.v1+cell": {
     "cellMetadata": {},
     "inputWidgets": {},
     "nuid": "5e717e7a-ce6a-4d83-a08f-21d474b6cbfa",
     "showTitle": false,
     "title": ""
    }
   },
   "source": [
    "\n",
    "**Spark session** \n",
    "\n",
    "A Spark session is the entry point to programming with Spark. It allows you to create DataFrames, register DataFrames as tables, execute SQL queries, and read data from various sources\n",
    "\n",
    "You initialize a Spark session using `SparkSession.builder`. The `appName` method sets the name of your application, which can be useful for debugging and monitoring."
   ]
  },
  {
   "cell_type": "code",
   "execution_count": 0,
   "metadata": {
    "application/vnd.databricks.v1+cell": {
     "cellMetadata": {
      "byteLimit": 2048000,
      "rowLimit": 10000
     },
     "inputWidgets": {},
     "nuid": "0a47af29-322b-4ef9-989e-aa4d5e37f232",
     "showTitle": false,
     "title": ""
    }
   },
   "outputs": [
    {
     "output_type": "execute_result",
     "data": {
      "text/html": [
       "\n",
       "            <div>\n",
       "                <p><b>SparkSession - hive</b></p>\n",
       "                \n",
       "        <div>\n",
       "            <p><b>SparkContext</b></p>\n",
       "\n",
       "            <p><a href=\"/?o=839460616079745#setting/sparkui/1008-013007-p8s54f28/driver-7474117560089113638\">Spark UI</a></p>\n",
       "\n",
       "            <dl>\n",
       "              <dt>Version</dt>\n",
       "                <dd><code>v3.5.0</code></dd>\n",
       "              <dt>Master</dt>\n",
       "                <dd><code>local[*, 4]</code></dd>\n",
       "              <dt>AppName</dt>\n",
       "                <dd><code>Databricks Shell</code></dd>\n",
       "            </dl>\n",
       "        </div>\n",
       "        \n",
       "            </div>\n",
       "        "
      ],
      "text/plain": [
       "<pyspark.sql.session.SparkSession at 0x7f1882364210>"
      ]
     },
     "execution_count": 9,
     "metadata": {},
     "output_type": "execute_result"
    }
   ],
   "source": [
    "from pyspark.sql import SparkSession\n",
    "\n",
    "# Initialize Spark Session\n",
    "spark = SparkSession.builder.appName(\"DataFrame Example\").getOrCreate()\n",
    "\n",
    "spark\n",
    "\n"
   ]
  },
  {
   "cell_type": "code",
   "execution_count": 0,
   "metadata": {
    "application/vnd.databricks.v1+cell": {
     "cellMetadata": {
      "byteLimit": 2048000,
      "rowLimit": 10000
     },
     "inputWidgets": {},
     "nuid": "31ba5721-2910-4768-b0b9-42ca6ef34c7a",
     "showTitle": false,
     "title": ""
    }
   },
   "outputs": [
    {
     "output_type": "display_data",
     "data": {
      "text/html": [
       "<style scoped>\n",
       "  .table-result-container {\n",
       "    max-height: 300px;\n",
       "    overflow: auto;\n",
       "  }\n",
       "  table, th, td {\n",
       "    border: 1px solid black;\n",
       "    border-collapse: collapse;\n",
       "  }\n",
       "  th, td {\n",
       "    padding: 5px;\n",
       "  }\n",
       "  th {\n",
       "    text-align: left;\n",
       "  }\n",
       "</style><div class='table-result-container'><table class='table-result'><thead style='background-color: white'><tr><th>id</th><th>name</th></tr></thead><tbody><tr><td>1</td><td>Alice</td></tr><tr><td>2</td><td>Bob</td></tr><tr><td>3</td><td>Cathy</td></tr></tbody></table></div>"
      ]
     },
     "metadata": {
      "application/vnd.databricks.v1+output": {
       "addedWidgets": {},
       "aggData": [],
       "aggError": "",
       "aggOverflow": false,
       "aggSchema": [],
       "aggSeriesLimitReached": false,
       "aggType": "",
       "arguments": {},
       "columnCustomDisplayInfos": {},
       "data": [
        [
         1,
         "Alice"
        ],
        [
         2,
         "Bob"
        ],
        [
         3,
         "Cathy"
        ]
       ],
       "datasetInfos": [],
       "dbfsResultPath": null,
       "isJsonSchema": true,
       "metadata": {},
       "overflow": false,
       "plotOptions": {
        "customPlotOptions": {},
        "displayType": "table",
        "pivotAggregation": null,
        "pivotColumns": null,
        "xColumns": null,
        "yColumns": null
       },
       "removedWidgets": [],
       "schema": [
        {
         "metadata": "{}",
         "name": "id",
         "type": "\"long\""
        },
        {
         "metadata": "{}",
         "name": "name",
         "type": "\"string\""
        }
       ],
       "type": "table"
      }
     },
     "output_type": "display_data"
    }
   ],
   "source": [
    "# Create a DataFrame from a list of tuples\n",
    "data = [(1, \"Alice\"), (2, \"Bob\"), (3, \"Cathy\")]\n",
    "columns = [\"id\", \"name\"]\n",
    "df = spark.createDataFrame(data, columns)\n",
    "\n",
    "# show data using databrick display function\n",
    "display(df)"
   ]
  },
  {
   "cell_type": "code",
   "execution_count": 0,
   "metadata": {
    "application/vnd.databricks.v1+cell": {
     "cellMetadata": {
      "byteLimit": 2048000,
      "rowLimit": 10000
     },
     "inputWidgets": {},
     "nuid": "898e6a0b-7c98-453d-b94d-56db32cd380e",
     "showTitle": false,
     "title": ""
    }
   },
   "outputs": [
    {
     "output_type": "stream",
     "name": "stdout",
     "output_type": "stream",
     "text": [
      "+---+-----+\n| id| name|\n+---+-----+\n|  1|Alice|\n|  2|  Bob|\n|  3|Cathy|\n+---+-----+\n\n"
     ]
    }
   ],
   "source": [
    "# show data using pyspark show() function\n",
    "df.show()"
   ]
  }
 ],
 "metadata": {
  "application/vnd.databricks.v1+notebook": {
   "dashboards": [],
   "environmentMetadata": null,
   "language": "python",
   "notebookMetadata": {
    "pythonIndentUnit": 4
   },
   "notebookName": "lecture9",
   "widgets": {}
  },
  "kernelspec": {
   "display_name": "Python 3 (ipykernel)",
   "language": "python",
   "name": "python3"
  },
  "language_info": {
   "codemirror_mode": {
    "name": "ipython",
    "version": 3
   },
   "file_extension": ".py",
   "mimetype": "text/x-python",
   "name": "python",
   "nbconvert_exporter": "python",
   "pygments_lexer": "ipython3",
   "version": "3.12.5"
  }
 },
 "nbformat": 4,
 "nbformat_minor": 0
}

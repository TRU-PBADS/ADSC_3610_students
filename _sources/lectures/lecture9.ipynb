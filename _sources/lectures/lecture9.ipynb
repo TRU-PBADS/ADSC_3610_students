{
 "cells": [
  {
   "cell_type": "markdown",
   "metadata": {},
   "source": [
    "# Lecture 9: Introduction to PySpark\n"
   ]
  },
  {
   "cell_type": "markdown",
   "metadata": {},
   "source": [
    "## Learning Objectives\n",
    "\n",
    "By the end of this lecture, students should be able to:\n",
    "\n",
    "- Understand what is Spark and its main components\n",
    "- How Spark is different from Hadoop's Map Reduce\n",
    "- What are the key use case of Spark\n",
    "- Set up a databricks workspace"
   ]
  },
  {
   "cell_type": "markdown",
   "metadata": {},
   "source": [
    "## Apache Spark - An unified engine for large-scale analysis \n",
    "\n",
    "Apache Spark is an unified analytics engine designed for large-scale data processing. It offers high-level APIs in Java, Scala, Python, and R, along with an optimized engine that supports general execution graphs. Additionally, Spark includes a robust suite of higher-level tools such as Spark SQL for SQL and structured data processing, pandas API on Spark for handling pandas workloads, MLlib for machine learning, GraphX for graph processing, and Structured Streaming for incremental computation and stream processing.\n",
    "\n",
    "![](https://www.databricks.com/en-website-assets/static/fc5d7c6f8bc8dab49fefccf3e36b9f7f/19830.png)"
   ]
  },
  {
   "cell_type": "markdown",
   "metadata": {},
   "source": [
    "### Key benefits of Spark:\n",
    "\n",
    "**Speed**\n",
    "\n",
    "Engineered from the bottom-up for performance, **Spark can be 100x faster than Hadoop for large scale data processing** by exploiting in memory computing and other optimizations. Spark is also fast when data is stored on disk, and currently holds the world record for large-scale on-disk sorting.\n",
    "\n",
    "**Ease of Use**\n",
    "\n",
    "Spark has easy-to-use APIs for operating on large datasets. This includes a collection of over 100 operators for transforming data and familiar data frame APIs for manipulating semi-structured data.\n",
    "\n",
    "**A Unified Engine**\n",
    "\n",
    "Spark comes packaged with higher-level libraries, including support for SQL queries, streaming data, machine learning and graph processing. These standard libraries increase developer productivity and can be seamlessly combined to create complex workflows."
   ]
  },
  {
   "cell_type": "markdown",
   "metadata": {},
   "source": [
    "\n",
    "<img src=\"https://cdn.prod.website-files.com/5e724862760345325327026c/5fa7ecda6639f6566345729b_Apache%20Spark%20Ecosystem%20PNG.png\" alt=\"\" width=\"500\"/>\n"
   ]
  },
  {
   "cell_type": "markdown",
   "metadata": {},
   "source": [
    "## The big idea behind distributed computing"
   ]
  },
  {
   "cell_type": "markdown",
   "metadata": {},
   "source": [
    "Distributed computing is a model in which components of a software system are shared among multiple computers to improve efficiency and performance. To understand this concept, let's use the analogy of searching through a yellow phone book.\n",
    "\n",
    "### The Yellow Phone Book Analogy\n",
    "Imagine you have a massive yellow phone book with millions of entries, and you need to find the phone number of a specific person. Doing this task alone would be time-consuming and tedious. Now, let's break down how distributed computing can make this process faster and more efficient.\n",
    "\n",
    "\n",
    "<img src=\"https://i.redd.it/ly7a0bgzsq721.jpg\" alt=\"\" width=\"300\"/>\n",
    "\n",
    "\n",
    "#### Single Worker (Non-Distributed Computing)\n",
    "- **Scenario**: One person (a single computer) is tasked with finding the phone number.\n",
    "- **Process**: The person starts from the first page and goes through each entry sequentially until they find the desired phone number.\n",
    "- **Time**: This process can take a long time, especially if the phone book is enormous.\n",
    "- **Vertical scaling**: Enhancing the capabilities of a single computer by adding more CPU, memory, or faster storage.\n",
    "\n",
    "#### Multiple Workers (Distributed Computing)\n",
    "- **Scenario**: You have a team of people (multiple computers) to help you search through the phone book.\n",
    "- **Process**:\n",
    "  1. **Divide the Task**: Split the phone book into equal sections and assign each section to a different person.\n",
    "  2. **Parallel Search**: Each person searches their assigned section simultaneously.\n",
    "  3. **Combine Results**: Once a person finds the phone number, they inform the rest of the team, and the search stops.\n",
    "- **Time**: The search process is significantly faster because multiple sections are being searched at the same time.\n",
    "- **Horizontal scaling**: Adding more computers to the system to share the workload.\n",
    "\n",
    "#### Key Concepts in Distributed Computing\n",
    "- **Parallelism**: Just like multiple people searching different sections of the phone book simultaneously, distributed computing involves multiple processors working on different parts of a task at the same time.\n",
    "- **Scalability**: Adding more workers (computers) can further speed up the search process. Similarly, distributed systems can scale by adding more nodes to handle larger workloads.\n",
    "- **Fault Tolerance**: If one person gets tired or makes a mistake, others can continue the search. In distributed computing, if one node fails, other nodes can take over its tasks, ensuring the system remains operational.\n",
    "- **Coordination**: Effective communication and coordination are essential. In our analogy, workers need to inform each other when the phone number is found. In distributed systems, nodes must coordinate to share data and results.\n"
   ]
  },
  {
   "cell_type": "markdown",
   "metadata": {},
   "source": [
    "<img src=\"https://miro.medium.com/v2/resize:fit:1122/1*gee5Zkih2dZ7tYWRgmRbkw.png\" alt=\"\" width=\"600\"/>\n"
   ]
  },
  {
   "cell_type": "markdown",
   "metadata": {},
   "source": [
    "## Spark and Hadoop's ecosystem\n",
    "\n",
    "![](https://tutorials.freshersnow.com/wp-content/uploads/2020/06/Hadoop-Ecosystem.png)\n",
    "\n",
    "Credit: https://tutorials.freshersnow.com/hadoop-tutorial/hadoop-ecosystem-components/"
   ]
  },
  {
   "cell_type": "markdown",
   "metadata": {},
   "source": [
    "### Hadoop Ecosystem\n",
    "- **Hadoop Distributed File System (HDFS)**: is a special file system that stores large datasets across multiple computers. These computers are called Hadoop clusters. \n",
    "- **MapReduce**: allows programs to break large data processing tasks into smaller ones and runs them in parallel on multiple servers.\n",
    "- **YARN (Yet Another Resource Negotiator)**: schedules tasks and allocates resources to applications running on Hadoop.\n"
   ]
  },
  {
   "cell_type": "markdown",
   "metadata": {},
   "source": [
    "\n",
    "\n",
    "### Spark Ecosystem\n",
    "- **Spark Core**: The foundation of the Spark framework, responsible for basic I/O functionalities, task scheduling, and memory management.\n",
    "- **Spark SQL**: Allows querying of structured data via SQL and supports integration with various data sources.\n",
    "- **Spark Streaming**: Enables real-time data processing and analytics.\n",
    "- **MLlib**: A library for scalable machine learning algorithms.\n",
    "- **GraphX**: A library for graph processing and analysis.\n",
    "- **SparkR**: An R package that provides a lightweight frontend to use Apache Spark from R.\n"
   ]
  },
  {
   "cell_type": "markdown",
   "metadata": {},
   "source": [
    "### Key Differences: Hadoop vs. Spark\n",
    "\n",
    "|                  | Hadoop                                                                               | Spark                                                                                                           |\n",
    "|------------------|--------------------------------------------------------------------------------------|-----------------------------------------------------------------------------------------------------------------|\n",
    "| Architecture     | Hadoop stores and processes data on external storage.                                | Spark stores and process data on internal memory.                                                               |\n",
    "| Performance      | Hadoop processes data in batches.                                                    | Spark processes data in real time.                                                                              |\n",
    "| Cost             | Hadoop is affordable.                                                                | Spark is comparatively more expensive.                                                                          |\n",
    "| Scalability      | Hadoop is easily scalable by adding more nodes.                                      | Spark is comparatively more challenging.                                                                        |\n",
    "| Machine learning | Hadoop integrates with external libraries to provide machine learning capabilities.  | Spark has built-in machine learning libraries.                                                                  |\n",
    "| Security         | Hadoop has strong security features, storage encryption, and access control.         | Spark has basic security. IT relies on you setting up a secure operating environment for the Spark deployment.  |\n",
    "  \n"
   ]
  },
  {
   "cell_type": "markdown",
   "metadata": {},
   "source": [
    "#### Hadoop use cases\n",
    "\n",
    "Hadoop is most effective for scenarios that involve the following:\n",
    "\n",
    "- Processing big data sets in environments where data size exceeds available memory\n",
    "- Batch processing with tasks that exploit disk read and write operations\n",
    "- Building data analysis infrastructure with a limited budget\n",
    "- Completing jobs that are not time-sensitive\n",
    "- Historical and archive data analysis\n",
    "\n",
    "\n",
    "#### Spark use cases\n",
    "Spark is most effective for scenarios that involve the following:\n",
    "\n",
    "- Dealing with chains of parallel operations by using iterative algorithms\n",
    "- Achieving quick results with in-memory computations\n",
    "- Analyzing stream data analysis in real time\n",
    "- Graph-parallel processing to model data\n",
    "- All ML applications"
   ]
  },
  {
   "cell_type": "markdown",
   "metadata": {},
   "source": [
    "<img src=\"img/hadoop_spark.png\" alt=\"Googletrend\" width=\"600\"/>"
   ]
  },
  {
   "cell_type": "markdown",
   "metadata": {},
   "source": [
    "## Spark and Databricks"
   ]
  },
  {
   "cell_type": "markdown",
   "metadata": {},
   "source": [
    "### Introduction to Databricks\n",
    "- **Databricks**: A cloud-based platform designed to simplify big data processing and analytics. It was founded by the creators of Apache Spark and provides a unified environment for data engineering, data science, and machine learning.\n",
    "\n",
    "### Key Features of Databricks\n",
    "- **Managed Spark Environment**: Databricks offers a fully managed Spark environment, which simplifies the deployment, management, and scaling of Spark applications.\n",
    "- **Collaborative Workspace**: Provides a collaborative workspace where data engineers, data scientists, and analysts can work together on data projects.\n",
    "- **Optimized Spark Engine**: Includes performance optimizations over open-source Spark, making it faster and more efficient.\n",
    "- **Integrated Machine Learning**: Simplifies the process of building, training, and deploying machine learning models.\n",
    "- **Interactive Notebooks**: Supports interactive notebooks that allow users to write code, visualize data, and share insights in a single document.\n",
    "\n",
    "### Relation to Apache Spark\n",
    "- **Founders**: Databricks was founded by the original creators of Apache Spark, ensuring deep integration and optimization for Spark workloads.\n",
    "- **Enhanced Spark Capabilities**: Databricks enhances Spark's capabilities by providing additional features such as optimized performance, collaborative tools, and integrated machine learning.\n",
    "- **Unified Analytics Platform**: Combines the power of Spark with additional tools and services to create a comprehensive platform for big data analytics and machine learning.\n",
    "\n",
    "### Benefits of Using Databricks with Spark\n",
    "- **Ease of Use**: Simplifies the setup and management of Spark clusters, allowing users to focus on data processing and analysis.\n",
    "- **Scalability**: Automatically scales resources based on workload demands, ensuring efficient use of resources.\n",
    "- **Performance**: Provides performance improvements over open-source Spark, making data processing faster and more efficient.\n",
    "- **Collaboration**: Facilitates collaboration among team members through shared notebooks and integrated workflows.\n",
    "- **Security**: Offers robust security features, including data encryption, access controls, and compliance with industry standards.\n"
   ]
  },
  {
   "cell_type": "markdown",
   "metadata": {},
   "source": [
    "## Sign up for Databricks Community edition\n",
    "\n",
    "1. Click [Try Databricks](https://databricks.com/try-databricks) here\n",
    "2. Enter your name, company, email, and title, and click Continue.\n",
    "3. On the Choose a cloud provider dialog, click the **Get started with Community Edition** link. You’ll see a page announcing that an email has been sent to the address you provided.\n",
    "\n",
    "<img src=\"img/databricks2.png\" alt=\"Databricks\" width=\"400\"/>"
   ]
  },
  {
   "cell_type": "markdown",
   "metadata": {},
   "source": [
    "4. Look for the welcome email and click the link to verify your email address. You are prompted to create your Databricks password.\n",
    "5. When you click Submit, you’ll be taken to the Databricks Community Edition home page\n",
    "\n",
    "<img src=\"https://docs.databricks.com/en/_images/landing-aws-ce.png\" alt=\"Databricks\" width=\"600\"/>"
   ]
  }
 ],
 "metadata": {
  "kernelspec": {
   "display_name": "Python 3 (ipykernel)",
   "language": "python",
   "name": "python3"
  },
  "language_info": {
   "codemirror_mode": {
    "name": "ipython",
    "version": 3
   },
   "file_extension": ".py",
   "mimetype": "text/x-python",
   "name": "python",
   "nbconvert_exporter": "python",
   "pygments_lexer": "ipython3",
   "version": "3.12.5"
  }
 },
 "nbformat": 4,
 "nbformat_minor": 4
}

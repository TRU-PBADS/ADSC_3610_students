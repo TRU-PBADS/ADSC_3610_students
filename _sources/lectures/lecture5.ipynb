{
 "cells": [
  {
   "cell_type": "markdown",
   "metadata": {},
   "source": [
    "# Lecture 5: Schema design patterns in MongoDB\n"
   ]
  },
  {
   "cell_type": "markdown",
   "metadata": {},
   "source": [
    "## Learning objectives\n",
    "\n",
    "By the end of this lecture, students should understand:\n",
    "- What are different schema design patterns?\n",
    "- What are the pros & cons of each design pattern\n",
    "- What are their common use cases?\n",
    "\n"
   ]
  },
  {
   "cell_type": "markdown",
   "metadata": {},
   "source": [
    "## Slides\n"
   ]
  },
  {
   "cell_type": "markdown",
   "metadata": {},
   "source": [
    "<iframe src=\"https://docs.google.com/presentation/d/1cQCdE5AHongP1XumGnE3qfI4TqJwknCfd6l_cl7BGV0/embed?start=false&loop=false&delayms=60000\" frameborder=\"0\" width=\"960\" height=\"569\" allowfullscreen=\"true\" mozallowfullscreen=\"true\" webkitallowfullscreen=\"true\"></iframe>"
   ]
  },
  {
   "cell_type": "markdown",
   "metadata": {},
   "source": [
    "\n",
    "```{note}\n",
    "Download a PDF version [here](https://docs.google.com/presentation/d/1cQCdE5AHongP1XumGnE3qfI4TqJwknCfd6l_cl7BGV0/export/pdf)\n",
    "```"
   ]
  },
  {
   "cell_type": "markdown",
   "metadata": {},
   "source": [
    "## Supplemental materials\n"
   ]
  },
  {
   "cell_type": "markdown",
   "metadata": {},
   "source": [
    "Read more here: https://www.mongodb.com/blog/post/building-with-patterns-a-summary"
   ]
  }
 ],
 "metadata": {
  "kernelspec": {
   "display_name": "adsc_3610",
   "language": "python",
   "name": "python3"
  },
  "language_info": {
   "codemirror_mode": {
    "name": "ipython",
    "version": 3
   },
   "file_extension": ".py",
   "mimetype": "text/x-python",
   "name": "python",
   "nbconvert_exporter": "python",
   "pygments_lexer": "ipython3",
   "version": "3.12.5"
  }
 },
 "nbformat": 4,
 "nbformat_minor": 2
}

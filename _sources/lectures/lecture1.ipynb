{
 "cells": [
  {
   "cell_type": "markdown",
   "metadata": {},
   "source": [
    "# Lecture 1: Introduction to Non-Relational Databases\n"
   ]
  },
  {
   "cell_type": "markdown",
   "metadata": {},
   "source": [
    "## Learning objectives\n",
    "\n",
    "By the end of this lecture, students should be able to:\n",
    "- Understand how relational and non-relational database differ in terms of data structure, schema, and query language.\n",
    "- Explain the pros & cons of each type of database and its use case\n",
    "- Explain different types of non-relational databases (i.e., column-base, key-pair, graph, document)\n"
   ]
  },
  {
   "cell_type": "markdown",
   "metadata": {},
   "source": [
    "## Slides\n"
   ]
  },
  {
   "cell_type": "markdown",
   "metadata": {},
   "source": [
    "\n",
    "<iframe src=\"https://docs.google.com/presentation/d/1pDmSpuwD2gHGXlrw5Zs6c0VUuKfV5qxMmiqvL8jjI3A/embed?start=false&loop=false&delayms=60000\" frameborder=\"0\" width=\"960\" height=\"569\" allowfullscreen=\"true\" mozallowfullscreen=\"true\" webkitallowfullscreen=\"true\"></iframe>"
   ]
  },
  {
   "cell_type": "markdown",
   "metadata": {},
   "source": [
    "\n",
    "```{note}\n",
    "Download a PDF version [here](https://docs.google.com/presentation/d/1pDmSpuwD2gHGXlrw5Zs6c0VUuKfV5qxMmiqvL8jjI3A/export/pdf)\n",
    "```"
   ]
  },
  {
   "cell_type": "markdown",
   "metadata": {},
   "source": [
    "## Supplemental materials\n",
    "\n",
    "### Key differences between relational and non-relational databases\n",
    "\n",
    "|        Feature       |                       SQL Databases (Relational)                      |                            NoSQL Databases (Non-Relational)                           |\n",
    "|:--------------------:|:---------------------------------------------------------------------:|:-------------------------------------------------------------------------------------:|\n",
    "| Data Model           | Structured data with predefined schema (tables, rows, columns)        | Flexible schema, supports unstructured and semi-structured data                       |\n",
    "| Schema Flexibility   | Rigid schema, requires predefined structure                           | Schema-less, allowing for dynamic and flexible data models                            |\n",
    "| Scalability          | Vertical scaling (scaling up by adding more power to a single server) | Horizontal scaling (scaling out by adding more servers)                               |\n",
    "| ACID Compliance      | Strong ACID (Atomicity, Consistency, Isolation, Durability) support   | Often favors eventual consistency over strong ACID compliance                         |\n",
    "| Performance          | Efficient for complex queries and transactions                        | Optimized for high-volume reads/writes and specific use cases                         |\n",
    "| Querying             | Powerful and standardized SQL for complex queries                     | Varies by database type; may require custom query languages                           |\n",
    "| Data Relationships   | Strong support for complex joins and relationships                    | Limited or no support for complex joins, relationships are embedded or linked         |\n",
    "| Data Integrity       | Enforces data integrity through constraints and normalization         | Data integrity is managed by the application, denormalization is common               |\n",
    "| Use Case Suitability | Best for structured data, complex transactions, and relationships     | Best for big data, real-time analytics, unstructured data, and high scalability needs |\n",
    "| Maintenance          | Requires more maintenance (e.g., schema changes, indexing, tuning)    | Generally requires less maintenance, but can be complex in distributed systems        |\n",
    "| Learning Curve       | Standardized and well-documented; widely taught                       | Diverse models with a steeper learning curve due to lack of standardization           |\n",
    "| Ecosystem            | Mature ecosystem with a wide range of tools and support               | Emerging ecosystem, tools and support vary by database type                           |\n",
    "| Cost                 | Can be expensive at scale due to the need for powerful hardware       | Cost-effective for large-scale systems, often runs on commodity hardware              |\n",
    "| Examples             | MySQL, PostgreSQL, Oracle, SQL Server                                 | MongoDB, Cassandra, Redis, Neo4j                                                      |"
   ]
  },
  {
   "cell_type": "markdown",
   "metadata": {},
   "source": [
    "### Different types of non-relational databases and their features\n",
    "\n",
    "| **Type**        | **Description**                                               | **Features**                                                                                      | **Key Usage**                                  | **Examples**                      |\n",
    "|-----------------|---------------------------------------------------------------|--------------------------------------------------------------------------------------------------|------------------------------------------------|----------------------------------|\n",
    "| **Document Store** | Stores data in documents (typically JSON or BSON format).    | Flexible schema, hierarchical data structures, supports nested data.                             | Content management, user profiles, catalogs.   | MongoDB, CouchDB, Firebase Firestore |\n",
    "| **Key-Value Store** | Stores data as key-value pairs.                              | Simple data model, high performance for lookups by key, easy to scale horizontally.               | Session management, caching, real-time data.    | Redis, DynamoDB, Riak            |\n",
    "| **Column Family Store** | Stores data in columns rather than rows.                    | Optimized for read and write performance on large datasets, supports flexible column families.    | Time-series data, analytics, real-time big data. | Apache Cassandra, HBase, ScyllaDB |\n",
    "| **Graph Database**   | Stores data as nodes and edges in a graph structure.         | Optimized for relationships and connections, supports complex queries on graph data.              | Social networks, recommendation systems, fraud detection. | Neo4j, ArangoDB, Amazon Neptune   |"
   ]
  }
 ],
 "metadata": {
  "kernelspec": {
   "display_name": "adsc_3610",
   "language": "python",
   "name": "python3"
  },
  "language_info": {
   "codemirror_mode": {
    "name": "ipython",
    "version": 3
   },
   "file_extension": ".py",
   "mimetype": "text/x-python",
   "name": "python",
   "nbconvert_exporter": "python",
   "pygments_lexer": "ipython3",
   "version": "3.12.5"
  }
 },
 "nbformat": 4,
 "nbformat_minor": 2
}

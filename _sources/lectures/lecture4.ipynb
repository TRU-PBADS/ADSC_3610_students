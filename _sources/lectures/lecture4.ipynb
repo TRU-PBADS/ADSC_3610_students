{
 "cells": [
  {
   "cell_type": "markdown",
   "metadata": {},
   "source": [
    "# Lecture 4: Data modelling in MongoDB\n"
   ]
  },
  {
   "cell_type": "markdown",
   "metadata": {},
   "source": [
    "## Learning objectives\n",
    "\n",
    "By the end of this lecture, students should understand:\n",
    "- Why data modelling is important\n",
    "- The key principle of data modelling in MongoDB\n",
    "- Techniques to develop a data model: workload estimate, identify relationships, schema patterns\n",
    "- The difference between embedding and referencing and when to use each type\n"
   ]
  },
  {
   "cell_type": "markdown",
   "metadata": {},
   "source": [
    "## Slides\n"
   ]
  },
  {
   "cell_type": "markdown",
   "metadata": {},
   "source": [
    "<iframe src=\"https://docs.google.com/presentation/d/1dCx5XMRyWK6iXPIX7r-qO4pHj-BqBXo33PmZrBh18Hs/embed?start=false&loop=false&delayms=60000\" frameborder=\"0\" width=\"960\" height=\"569\" allowfullscreen=\"true\" mozallowfullscreen=\"true\" webkitallowfullscreen=\"true\"></iframe>"
   ]
  },
  {
   "cell_type": "markdown",
   "metadata": {},
   "source": [
    "\n",
    "```{note}\n",
    "Download a PDF version [here](https://docs.google.com/presentation/d/1dCx5XMRyWK6iXPIX7r-qO4pHj-BqBXo33PmZrBh18Hs/export/pdf)\n",
    "```"
   ]
  },
  {
   "cell_type": "markdown",
   "metadata": {},
   "source": [
    "## Supplemental materials\n"
   ]
  },
  {
   "cell_type": "markdown",
   "metadata": {},
   "source": [
    "\n",
    "### Embed vs reference guideline\n",
    "\n",
    "| Guideline name    | Question                                                                                                             | Embed | Reference |\n",
    "|-------------------|----------------------------------------------------------------------------------------------------------------------|-------|-----------|\n",
    "| Simplicity        | Would keeping the pieces of information together lead to a simpler data model and code?                              | Yes   | No        |\n",
    "| Go Together       | Do the pieces of information have a \"has-a,\" \"contains,\" or similar relationship?                                    | Yes   | No        |\n",
    "| Query Atomicity   | Does the application query the pieces of information together?                                                       | Yes   | No        |\n",
    "| Update Complexity | Are the pieces of information updated together?                                                                      | Yes   | No        |\n",
    "| Archival          | Should the pieces of information be archived at the same time?                                                       | Yes   | No        |\n",
    "| Cardinality       | Is there a high cardinality (current or growing) in the child side of the relationship?                              | No    | Yes       |\n",
    "| Data Duplication  | Would data duplication be too complicated to manage and undesired?                                                   | No    | Yes       |\n",
    "| Document Size     | Would the combined size of the pieces of information take too much memory or transfer bandwidth for the application? | No    | Yes       |\n",
    "| Document Growth   | Would the embedded piece grow without bound?                                                                         | No    | Yes       |\n",
    "| Workload          | Are the pieces of information written at different times in a write-heavy workload?                                  | No    | Yes       |\n",
    "| Individuality     | For the children side of the relationship, can the pieces exist by themselves without a parent?                      | No    | Yes       |"
   ]
  }
 ],
 "metadata": {
  "kernelspec": {
   "display_name": "adsc_3610",
   "language": "python",
   "name": "python3"
  },
  "language_info": {
   "codemirror_mode": {
    "name": "ipython",
    "version": 3
   },
   "file_extension": ".py",
   "mimetype": "text/x-python",
   "name": "python",
   "nbconvert_exporter": "python",
   "pygments_lexer": "ipython3",
   "version": "3.12.5"
  }
 },
 "nbformat": 4,
 "nbformat_minor": 2
}

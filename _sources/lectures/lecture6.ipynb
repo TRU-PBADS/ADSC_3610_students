{
 "cells": [
  {
   "cell_type": "markdown",
   "metadata": {},
   "source": [
    "# Lecture 6: CRUD operations in MongoDB\n"
   ]
  },
  {
   "cell_type": "markdown",
   "metadata": {},
   "source": [
    "## Learning objectives\n",
    "\n",
    "By the end of this lecture, students should understand:\n",
    "- Describe the use cases for the MongoDB Query Language (MQL). \n",
    "- Perform basic CRUD operations using MQL.\n",
    "- Execute queries using MQL find() and delete().\n",
    "- Use the most common MQL query operators to optimize searches."
   ]
  },
  {
   "cell_type": "markdown",
   "metadata": {},
   "source": [
    "## Lecture Notes\n"
   ]
  },
  {
   "cell_type": "markdown",
   "metadata": {},
   "source": [
    "### Introduction\n",
    "CRUD operations are the basic operations you can perform on a database. CRUD stands for Create, Read, Update, and Delete. In MongoDB, these operations can be performed using various methods provided by the PyMongo library.\n",
    "\n",
    "MQL is designed for single collection queries and it is typically used for creating, reading, updating, or deletion (CRUD) operations. \n",
    "\n",
    "MQL query operators:\n",
    "- Comparison\n",
    "- Logical\n",
    "- Element\n",
    "- Array\n",
    "- Evaluation\n"
   ]
  },
  {
   "cell_type": "code",
   "execution_count": 15,
   "metadata": {},
   "outputs": [],
   "source": [
    "from pymongo import MongoClient # import mongo client to connect\n",
    "import json # import json to load credentials\n",
    "import urllib.parse\n",
    "\n",
    "# load credentials from json file\n",
    "with open('credentials_mongodb.json') as f:\n",
    "    login = json.load(f)\n",
    "\n",
    "# assign credentials to variables\n",
    "username = login['username']\n",
    "password = urllib.parse.quote(login['password'])\n",
    "host = login['host']\n",
    "url = \"mongodb+srv://{}:{}@{}/?retryWrites=true&w=majority\".format(username, password, host)\n",
    "\n",
    "# connect to the database\n",
    "client = MongoClient(url)\n",
    "\n",
    "# drop database books and students if they exist\n",
    "client.drop_database('library')"
   ]
  },
  {
   "cell_type": "markdown",
   "metadata": {},
   "source": [
    "\n",
    "### 1. Find (Read)\n",
    "The `find` method is used to query documents from a collection.\n",
    "\n",
    "#### Syntax\n"
   ]
  },
  {
   "cell_type": "code",
   "execution_count": 16,
   "metadata": {},
   "outputs": [
    {
     "ename": "NameError",
     "evalue": "name 'query' is not defined",
     "output_type": "error",
     "traceback": [
      "\u001b[0;31m---------------------------------------------------------------------------\u001b[0m",
      "\u001b[0;31mNameError\u001b[0m                                 Traceback (most recent call last)",
      "Cell \u001b[0;32mIn[16], line 1\u001b[0m\n\u001b[0;32m----> 1\u001b[0m collection\u001b[38;5;241m.\u001b[39mfind(\u001b[43mquery\u001b[49m, projection)\n",
      "\u001b[0;31mNameError\u001b[0m: name 'query' is not defined"
     ]
    }
   ],
   "source": [
    "collection.find(query, projection)"
   ]
  },
  {
   "cell_type": "markdown",
   "metadata": {},
   "source": [
    "- `query`: A dictionary specifying the criteria for the query.\n",
    "- `projection`: A dictionary specifying the fields to include or exclude.\n",
    "\n",
    "#### Example\n"
   ]
  },
  {
   "cell_type": "code",
   "execution_count": 17,
   "metadata": {},
   "outputs": [],
   "source": [
    "# create database and collection\n",
    "db = client[\"library\"]\n",
    "collection = db[\"books\"]\n"
   ]
  },
  {
   "cell_type": "code",
   "execution_count": 18,
   "metadata": {},
   "outputs": [
    {
     "data": {
      "text/plain": [
       "InsertManyResult([ObjectId('66e8a0597a895c83fa099de7'), ObjectId('66e8a0597a895c83fa099de8'), ObjectId('66e8a0597a895c83fa099de9'), ObjectId('66e8a0597a895c83fa099dea'), ObjectId('66e8a0597a895c83fa099deb'), ObjectId('66e8a0597a895c83fa099dec'), ObjectId('66e8a0597a895c83fa099ded')], acknowledged=True)"
      ]
     },
     "execution_count": 18,
     "metadata": {},
     "output_type": "execute_result"
    }
   ],
   "source": [
    "# add sample books to the collection\n",
    "sample_books = [    {\"title\": \"The Great Gatsby\", \"author\": \"F. Scott Fitzgerald\", \"year\": 1925},\n",
    "                    {\"title\": \"A Farewell to Arms\", \"author\": \"Ernest Hemingway\", \"year\": 1929},\n",
    "                    {\"title\": \"The Catcher in the Rye\", \"author\": \"J.D. Salinger\", \"year\": 1951},\n",
    "                    {\"title\": \"The Grapes of Wrath\", \"author\": \"John Steinbeck\", \"year\": 1939},\n",
    "                    {\"title\": \"To Kill a Mockingbird\", \"author\": \"Harper Lee\", \"year\": 1960},\n",
    "                    {\"title\": \"1984\", \"author\": \"George Orwell\", \"year\": 1949},\n",
    "                    {\"title\": \"Animal Farm\", \"author\": \"George Orwell\", \"year\": 1945}]\n",
    "\n",
    "# insert sample books to the collection\n",
    "collection.insert_many(sample_books)"
   ]
  },
  {
   "cell_type": "code",
   "execution_count": 19,
   "metadata": {},
   "outputs": [
    {
     "data": {
      "text/plain": [
       "<pymongo.cursor.Cursor at 0x118046a50>"
      ]
     },
     "execution_count": 19,
     "metadata": {},
     "output_type": "execute_result"
    }
   ],
   "source": [
    "\n",
    "# Find all documents, this will return a cursor\n",
    "collection.find()\n"
   ]
  },
  {
   "cell_type": "code",
   "execution_count": 20,
   "metadata": {},
   "outputs": [
    {
     "name": "stdout",
     "output_type": "stream",
     "text": [
      "{'_id': ObjectId('66e8a0597a895c83fa099de7'), 'title': 'The Great Gatsby', 'author': 'F. Scott Fitzgerald', 'year': 1925}\n",
      "{'_id': ObjectId('66e8a0597a895c83fa099de8'), 'title': 'A Farewell to Arms', 'author': 'Ernest Hemingway', 'year': 1929}\n",
      "{'_id': ObjectId('66e8a0597a895c83fa099de9'), 'title': 'The Catcher in the Rye', 'author': 'J.D. Salinger', 'year': 1951}\n",
      "{'_id': ObjectId('66e8a0597a895c83fa099dea'), 'title': 'The Grapes of Wrath', 'author': 'John Steinbeck', 'year': 1939}\n",
      "{'_id': ObjectId('66e8a0597a895c83fa099deb'), 'title': 'To Kill a Mockingbird', 'author': 'Harper Lee', 'year': 1960}\n",
      "{'_id': ObjectId('66e8a0597a895c83fa099dec'), 'title': '1984', 'author': 'George Orwell', 'year': 1949}\n",
      "{'_id': ObjectId('66e8a0597a895c83fa099ded'), 'title': 'Animal Farm', 'author': 'George Orwell', 'year': 1945}\n"
     ]
    }
   ],
   "source": [
    "# print all documents\n",
    "for book in collection.find():\n",
    "    print(book)"
   ]
  },
  {
   "cell_type": "code",
   "execution_count": 21,
   "metadata": {},
   "outputs": [
    {
     "name": "stdout",
     "output_type": "stream",
     "text": [
      "{'_id': ObjectId('66e8a0597a895c83fa099de9'), 'title': 'The Catcher in the Rye', 'author': 'J.D. Salinger', 'year': 1951}\n",
      "{'_id': ObjectId('66e8a0597a895c83fa099deb'), 'title': 'To Kill a Mockingbird', 'author': 'Harper Lee', 'year': 1960}\n"
     ]
    }
   ],
   "source": [
    "\n",
    "# Find documents with a specific condition\n",
    "specific_books = collection.find({\"year\": {\"$gt\": 1950}})\n",
    "\n",
    "# Print the results\n",
    "for book in specific_books:\n",
    "    print(book)"
   ]
  },
  {
   "cell_type": "markdown",
   "metadata": {},
   "source": [
    "\n",
    "\n",
    "### 2. Insert (Create)\n",
    "The `insert_one` and `insert_many` methods are used to insert documents into a collection.\n",
    "\n",
    "#### Syntax\n"
   ]
  },
  {
   "cell_type": "markdown",
   "metadata": {},
   "source": [
    "```python\n",
    "collection.insert_one(document)\n",
    "collection.insert_many(documents)\n",
    "```"
   ]
  },
  {
   "cell_type": "markdown",
   "metadata": {},
   "source": [
    "- `document`: A dictionary representing a single document.\n",
    "- `documents`: A list of dictionaries representing multiple documents.\n",
    "\n",
    "#### Example\n"
   ]
  },
  {
   "cell_type": "code",
   "execution_count": 23,
   "metadata": {},
   "outputs": [
    {
     "data": {
      "text/plain": [
       "InsertManyResult([ObjectId('66e8a05d7a895c83fa099def'), ObjectId('66e8a05d7a895c83fa099df0')], acknowledged=True)"
      ]
     },
     "execution_count": 23,
     "metadata": {},
     "output_type": "execute_result"
    }
   ],
   "source": [
    "# Insert a single document\n",
    "new_book = {\n",
    "    \"title\": \"Brave New World\",\n",
    "    \"author\": \"Aldous Huxley\",\n",
    "    \"published_year\": 1932,\n",
    "    \"isbn\": \"978-0-06-085052-4\",\n",
    "    \"price\": 11.99\n",
    "}\n",
    "collection.insert_one(new_book)\n",
    "\n",
    "# Insert multiple documents\n",
    "new_books = [\n",
    "    {\n",
    "        \"title\": \"The Road\",\n",
    "        \"author\": \"Cormac McCarthy\",\n",
    "        \"published_year\": 2006,\n",
    "        \"isbn\": \"978-0-307-38789-9\",\n",
    "        \"price\": 12.99\n",
    "    },\n",
    "    {\n",
    "        \"title\": \"The Handmaid's Tale\",\n",
    "        \"author\": \"Margaret Atwood\",\n",
    "        \"published_year\": 1985,\n",
    "        \"isbn\": \"978-0-385-49081-8\",\n",
    "        \"price\": 9.99\n",
    "    }\n",
    "]\n",
    "collection.insert_many(new_books)"
   ]
  },
  {
   "cell_type": "code",
   "execution_count": 24,
   "metadata": {},
   "outputs": [
    {
     "name": "stdout",
     "output_type": "stream",
     "text": [
      "{'_id': ObjectId('66e8a0597a895c83fa099de7'), 'title': 'The Great Gatsby', 'author': 'F. Scott Fitzgerald', 'year': 1925}\n",
      "{'_id': ObjectId('66e8a0597a895c83fa099de8'), 'title': 'A Farewell to Arms', 'author': 'Ernest Hemingway', 'year': 1929}\n",
      "{'_id': ObjectId('66e8a0597a895c83fa099de9'), 'title': 'The Catcher in the Rye', 'author': 'J.D. Salinger', 'year': 1951}\n",
      "{'_id': ObjectId('66e8a0597a895c83fa099dea'), 'title': 'The Grapes of Wrath', 'author': 'John Steinbeck', 'year': 1939}\n",
      "{'_id': ObjectId('66e8a0597a895c83fa099deb'), 'title': 'To Kill a Mockingbird', 'author': 'Harper Lee', 'year': 1960}\n",
      "{'_id': ObjectId('66e8a0597a895c83fa099dec'), 'title': '1984', 'author': 'George Orwell', 'year': 1949}\n",
      "{'_id': ObjectId('66e8a0597a895c83fa099ded'), 'title': 'Animal Farm', 'author': 'George Orwell', 'year': 1945}\n",
      "{'_id': ObjectId('66e8a05d7a895c83fa099dee'), 'title': 'Brave New World', 'author': 'Aldous Huxley', 'published_year': 1932, 'isbn': '978-0-06-085052-4', 'price': 11.99}\n",
      "{'_id': ObjectId('66e8a05d7a895c83fa099def'), 'title': 'The Road', 'author': 'Cormac McCarthy', 'published_year': 2006, 'isbn': '978-0-307-38789-9', 'price': 12.99}\n",
      "{'_id': ObjectId('66e8a05d7a895c83fa099df0'), 'title': \"The Handmaid's Tale\", 'author': 'Margaret Atwood', 'published_year': 1985, 'isbn': '978-0-385-49081-8', 'price': 9.99}\n"
     ]
    }
   ],
   "source": [
    "# check if the documents were inserted\n",
    "for book in collection.find():\n",
    "    print(book)"
   ]
  },
  {
   "cell_type": "markdown",
   "metadata": {},
   "source": [
    "\n",
    "\n",
    "### 3. Update\n",
    "The `update_one` and `update_many` methods are used to update documents in a collection.\n",
    "\n",
    "#### Syntax\n"
   ]
  },
  {
   "cell_type": "markdown",
   "metadata": {},
   "source": [
    "```python\n",
    "collection.update_one(filter, update)\n",
    "collection.update_many(filter, update)\n",
    "```"
   ]
  },
  {
   "cell_type": "markdown",
   "metadata": {},
   "source": [
    "- `filter`: A dictionary specifying the criteria for the update.\n",
    "- `update`: A dictionary specifying the fields to update.\n",
    "\n",
    "#### Example\n"
   ]
  },
  {
   "cell_type": "code",
   "execution_count": 25,
   "metadata": {},
   "outputs": [
    {
     "data": {
      "text/plain": [
       "UpdateResult({'n': 2, 'electionId': ObjectId('7fffffff00000000000000cb'), 'opTime': {'ts': Timestamp(1726521489, 8), 't': 203}, 'nModified': 2, 'ok': 1.0, '$clusterTime': {'clusterTime': Timestamp(1726521489, 8), 'signature': {'hash': b\"\\x17A\\xc4dRGQ\\xf9^0\\xc8'\\xeb?\\xfcZ\\x8d:3\\xec\", 'keyId': 7381891571605569538}}, 'operationTime': Timestamp(1726521489, 8), 'updatedExisting': True}, acknowledged=True)"
      ]
     },
     "execution_count": 25,
     "metadata": {},
     "output_type": "execute_result"
    }
   ],
   "source": [
    "# Update a single document\n",
    "collection.update_one(\n",
    "    {\"title\": \"1984\"},\n",
    "    {\"$set\": {\"price\": 8.49}}\n",
    ")\n",
    "\n",
    "# Update multiple documents\n",
    "collection.update_many(\n",
    "    {\"author\": \"George Orwell\"},\n",
    "    {\"$set\": {\"genre\": \"Dystopian\"}}\n",
    ")"
   ]
  },
  {
   "cell_type": "code",
   "execution_count": 26,
   "metadata": {},
   "outputs": [
    {
     "name": "stdout",
     "output_type": "stream",
     "text": [
      "{'_id': ObjectId('66e8a0597a895c83fa099dec'), 'title': '1984', 'author': 'George Orwell', 'year': 1949, 'price': 8.49, 'genre': 'Dystopian'}\n"
     ]
    }
   ],
   "source": [
    "# check if the documents were updated\n",
    "# print book with title \"1984\"\n",
    "print(collection.find_one({\"title\": \"1984\"}))"
   ]
  },
  {
   "cell_type": "code",
   "execution_count": 27,
   "metadata": {},
   "outputs": [
    {
     "name": "stdout",
     "output_type": "stream",
     "text": [
      "{'_id': ObjectId('66e8a0597a895c83fa099dec'), 'title': '1984', 'author': 'George Orwell', 'year': 1949, 'price': 8.49, 'genre': 'Dystopian'}\n",
      "{'_id': ObjectId('66e8a0597a895c83fa099ded'), 'title': 'Animal Farm', 'author': 'George Orwell', 'year': 1945, 'genre': 'Dystopian'}\n"
     ]
    }
   ],
   "source": [
    "# print all books with author \"George Orwell\"\n",
    "for book in collection.find({\"author\": \"George Orwell\"}):\n",
    "    print(book)"
   ]
  },
  {
   "cell_type": "markdown",
   "metadata": {},
   "source": [
    "\n",
    "\n",
    "### 4. Delete\n",
    "The `delete_one` and `delete_many` methods are used to delete documents from a collection.\n",
    "\n",
    "#### Syntax\n"
   ]
  },
  {
   "cell_type": "markdown",
   "metadata": {},
   "source": [
    "```python\n",
    "collection.delete_one(filter)\n",
    "collection.delete_many(filter)\n",
    "```"
   ]
  },
  {
   "cell_type": "markdown",
   "metadata": {},
   "source": [
    "- `filter`: A dictionary specifying the criteria for the deletion.\n",
    "\n",
    "#### Example\n"
   ]
  },
  {
   "cell_type": "code",
   "execution_count": 28,
   "metadata": {},
   "outputs": [
    {
     "data": {
      "text/plain": [
       "DeleteResult({'n': 1, 'electionId': ObjectId('7fffffff00000000000000cb'), 'opTime': {'ts': Timestamp(1726521551, 13), 't': 203}, 'ok': 1.0, '$clusterTime': {'clusterTime': Timestamp(1726521551, 13), 'signature': {'hash': b'\\x91\\x05\\x8c7\\x8a\\xba\\x88\\xf3\\xb2\\xef,\\x8f8\\x91\\xab\\xb6\\x1aD\\x0fD', 'keyId': 7381891571605569538}}, 'operationTime': Timestamp(1726521551, 13)}, acknowledged=True)"
      ]
     },
     "execution_count": 28,
     "metadata": {},
     "output_type": "execute_result"
    }
   ],
   "source": [
    "# Delete a single document\n",
    "collection.delete_one({\"title\": \"1984\"})\n",
    "\n",
    "# Delete multiple documents\n",
    "collection.delete_many({\"author\": \"George Orwell\"})"
   ]
  },
  {
   "cell_type": "code",
   "execution_count": 30,
   "metadata": {},
   "outputs": [
    {
     "name": "stdout",
     "output_type": "stream",
     "text": [
      "None\n"
     ]
    }
   ],
   "source": [
    "# check if the documents were deleted\n",
    "# print book with title \"1984\"\n",
    "print(collection.find_one({\"title\": \"1984\"}))"
   ]
  },
  {
   "cell_type": "code",
   "execution_count": 31,
   "metadata": {},
   "outputs": [],
   "source": [
    "# print all books with author \"George Orwell\"\n",
    "for book in collection.find({\"author\": \"George Orwell\"}):\n",
    "    print(book)"
   ]
  },
  {
   "cell_type": "markdown",
   "metadata": {},
   "source": [
    "\n",
    "\n",
    "### 5. Operators\n",
    "MongoDB provides various operators to perform complex queries and updates.\n",
    "\n",
    "#### Common Operators\n",
    "- `$gt`: Greater than\n",
    "- `$lt`: Less than\n",
    "- `$gte`: Greater than or equal to\n",
    "- `$lte`: Less than or equal to\n",
    "- `$eq`: Equal to\n",
    "- `$ne`: Not equal to\n",
    "- `$in`: In a list\n",
    "- `$nin`: Not in a list\n",
    "- `$set`: Set a field to a value\n",
    "- `$unset`: Remove a field\n",
    "\n",
    "#### Example\n"
   ]
  },
  {
   "cell_type": "code",
   "execution_count": 32,
   "metadata": {},
   "outputs": [
    {
     "name": "stdout",
     "output_type": "stream",
     "text": [
      "{'_id': ObjectId('66e8a0597a895c83fa099de7'), 'title': 'The Great Gatsby', 'author': 'F. Scott Fitzgerald', 'year': 1925}\n",
      "{'_id': ObjectId('66e8a0597a895c83fa099de8'), 'title': 'A Farewell to Arms', 'author': 'Ernest Hemingway', 'year': 1929}\n",
      "{'_id': ObjectId('66e8a0597a895c83fa099de9'), 'title': 'The Catcher in the Rye', 'author': 'J.D. Salinger', 'year': 1951}\n",
      "{'_id': ObjectId('66e8a0597a895c83fa099dea'), 'title': 'The Grapes of Wrath', 'author': 'John Steinbeck', 'year': 1939}\n",
      "{'_id': ObjectId('66e8a0597a895c83fa099deb'), 'title': 'To Kill a Mockingbird', 'author': 'Harper Lee', 'year': 1960}\n",
      "{'_id': ObjectId('66e8a05d7a895c83fa099dee'), 'title': 'Brave New World', 'author': 'Aldous Huxley', 'published_year': 1932, 'isbn': '978-0-06-085052-4', 'price': 11.99}\n",
      "{'_id': ObjectId('66e8a05d7a895c83fa099def'), 'title': 'The Road', 'author': 'Cormac McCarthy', 'published_year': 2006, 'isbn': '978-0-307-38789-9', 'price': 12.99}\n",
      "{'_id': ObjectId('66e8a05d7a895c83fa099df0'), 'title': \"The Handmaid's Tale\", 'author': 'Margaret Atwood', 'published_year': 1985, 'isbn': '978-0-385-49081-8', 'price': 9.99}\n"
     ]
    }
   ],
   "source": [
    "# print all documents\n",
    "for book in collection.find():\n",
    "    print(book)"
   ]
  },
  {
   "cell_type": "code",
   "execution_count": 33,
   "metadata": {},
   "outputs": [
    {
     "name": "stdout",
     "output_type": "stream",
     "text": [
      "{'_id': ObjectId('66e8a05d7a895c83fa099dee'), 'title': 'Brave New World', 'author': 'Aldous Huxley', 'published_year': 1932, 'isbn': '978-0-06-085052-4', 'price': 11.99}\n",
      "{'_id': ObjectId('66e8a05d7a895c83fa099def'), 'title': 'The Road', 'author': 'Cormac McCarthy', 'published_year': 2006, 'isbn': '978-0-307-38789-9', 'price': 12.99}\n"
     ]
    }
   ],
   "source": [
    "# Find documents with price greater than 10\n",
    "expensive_books = collection.find({\"price\": {\"$gt\": 10}})\n",
    "for book in expensive_books:\n",
    "    print(book)\n"
   ]
  },
  {
   "cell_type": "code",
   "execution_count": 34,
   "metadata": {},
   "outputs": [
    {
     "name": "stdout",
     "output_type": "stream",
     "text": [
      "{'_id': ObjectId('66e8a0597a895c83fa099de7'), 'title': 'The Great Gatsby', 'author': 'F. Scott Fitzgerald', 'year': 1925}\n",
      "{'_id': ObjectId('66e8a0597a895c83fa099de8'), 'title': 'A Farewell to Arms', 'author': 'Ernest Hemingway', 'year': 1929}\n",
      "{'_id': ObjectId('66e8a0597a895c83fa099deb'), 'title': 'To Kill a Mockingbird', 'author': 'Harper Lee', 'year': 1960}\n",
      "{'_id': ObjectId('66e8a05d7a895c83fa099dee'), 'title': 'Brave New World', 'author': 'Aldous Huxley', 'published_year': 1932, 'isbn': '978-0-06-085052-4', 'price': 11.99}\n",
      "{'_id': ObjectId('66e8a05d7a895c83fa099def'), 'title': 'The Road', 'author': 'Cormac McCarthy', 'published_year': 2006, 'isbn': '978-0-307-38789-9', 'price': 12.99}\n",
      "{'_id': ObjectId('66e8a05d7a895c83fa099df0'), 'title': \"The Handmaid's Tale\", 'author': 'Margaret Atwood', 'published_year': 1985, 'isbn': '978-0-385-49081-8', 'price': 9.99}\n"
     ]
    }
   ],
   "source": [
    "# Delete documents where author starts with \"J\"\n",
    "collection.delete_many({\"author\": {\"$regex\": \"^J\"}})\n",
    "for book in collection.find():\n",
    "    print(book)"
   ]
  },
  {
   "cell_type": "code",
   "execution_count": 36,
   "metadata": {},
   "outputs": [
    {
     "name": "stdout",
     "output_type": "stream",
     "text": [
      "{'_id': ObjectId('66e8a0597a895c83fa099de7'), 'title': 'The Great Gatsby', 'author': 'F. Scott Fitzgerald', 'year': 1925}\n",
      "{'_id': ObjectId('66e8a0597a895c83fa099de8'), 'title': 'A Farewell to Arms', 'author': 'Ernest Hemingway', 'year': 1929}\n"
     ]
    }
   ],
   "source": [
    "\n",
    "# Show documents where year is between 1920 and 1930\n",
    "books_between_1930_and_1950 = collection.find({\"year\": {\"$gte\": 1920, \"$lte\": 1930}})\n",
    "for book in books_between_1930_and_1950:\n",
    "    print(book)"
   ]
  },
  {
   "cell_type": "markdown",
   "metadata": {},
   "source": [
    "\n",
    "\n",
    "### Conclusion\n",
    "These are the basic CRUD operations you can perform on a MongoDB database using PyMongo. Understanding these operations is essential for managing and manipulating data in MongoDB."
   ]
  },
  {
   "cell_type": "markdown",
   "metadata": {},
   "source": [
    "## Supplemental materials\n"
   ]
  },
  {
   "cell_type": "markdown",
   "metadata": {},
   "source": [
    "Read more here: https://www.mongodb.com/docs/manual/crud/"
   ]
  },
  {
   "cell_type": "markdown",
   "metadata": {},
   "source": [
    "![](https://media.cheatography.com/storage/thumb/isaeus_mongodb.750.jpg)"
   ]
  },
  {
   "cell_type": "markdown",
   "metadata": {},
   "source": []
  }
 ],
 "metadata": {
  "kernelspec": {
   "display_name": "Python 3 (ipykernel)",
   "language": "python",
   "name": "python3"
  },
  "language_info": {
   "codemirror_mode": {
    "name": "ipython",
    "version": 3
   },
   "file_extension": ".py",
   "mimetype": "text/x-python",
   "name": "python",
   "nbconvert_exporter": "python",
   "pygments_lexer": "ipython3",
   "version": "3.12.5"
  }
 },
 "nbformat": 4,
 "nbformat_minor": 4
}

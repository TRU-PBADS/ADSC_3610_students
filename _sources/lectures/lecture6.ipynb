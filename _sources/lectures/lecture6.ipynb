{
 "cells": [
  {
   "cell_type": "markdown",
   "metadata": {},
   "source": [
    "# Lecture 6: CRUD operations in MongoDB\n"
   ]
  },
  {
   "cell_type": "markdown",
   "metadata": {},
   "source": [
    "## Learning objectives\n",
    "\n",
    "By the end of this lecture, students should understand:\n",
    "- Describe the use cases for the MongoDB Query Language (MQL). \n",
    "- Perform basic CRUD operations using MQL.\n",
    "- Execute queries using MQL find() and delete().\n",
    "- Use the most common MQL query operators to optimize searches."
   ]
  },
  {
   "cell_type": "markdown",
   "metadata": {},
   "source": [
    "## Lecture Notes\n"
   ]
  },
  {
   "cell_type": "markdown",
   "metadata": {},
   "source": [
    "### Introduction\n",
    "CRUD operations are the basic operations you can perform on a database. CRUD stands for Create, Read, Update, and Delete. In MongoDB, these operations can be performed using various methods provided by the PyMongo library.\n",
    "\n",
    "MQL is designed for single collection queries and it is typically used for creating, reading, updating, or deletion (CRUD) operations. \n",
    "\n",
    "MQL query operators:\n",
    "- Comparison\n",
    "- Logical\n",
    "- Element\n",
    "- Array\n",
    "- Evaluation\n"
   ]
  },
  {
   "cell_type": "code",
   "execution_count": 1,
   "metadata": {},
   "outputs": [],
   "source": [
    "from pymongo import MongoClient # import mongo client to connect\n",
    "import json # import json to load credentials\n",
    "import urllib.parse\n",
    "\n",
    "# load credentials from json file\n",
    "with open('credentials_mongodb.json') as f:\n",
    "    login = json.load(f)\n",
    "\n",
    "# assign credentials to variables\n",
    "username = login['username']\n",
    "password = urllib.parse.quote(login['password'])\n",
    "host = login['host']\n",
    "url = \"mongodb+srv://{}:{}@{}/?retryWrites=true&w=majority\".format(username, password, host)\n",
    "\n",
    "# connect to the database\n",
    "client = MongoClient(url)\n",
    "\n",
    "# drop database books and students if they exist\n",
    "client.drop_database('library')"
   ]
  },
  {
   "cell_type": "code",
   "execution_count": 2,
   "metadata": {},
   "outputs": [],
   "source": [
    "# create database and collection\n",
    "db = client[\"library\"]\n",
    "collection = db[\"books\"]\n"
   ]
  },
  {
   "cell_type": "code",
   "execution_count": 3,
   "metadata": {},
   "outputs": [
    {
     "data": {
      "text/plain": [
       "[{'title': 'The Great Gatsby', 'author': 'F. Scott Fitzgerald', 'year': 1925},\n",
       " {'title': 'A Farewell to Arms', 'author': 'Ernest Hemingway', 'year': 1929},\n",
       " {'title': 'The Catcher in the Rye', 'author': 'J.D. Salinger', 'year': 1951},\n",
       " {'title': 'The Grapes of Wrath', 'author': 'John Steinbeck', 'year': 1939},\n",
       " {'title': 'To Kill a Mockingbird', 'author': 'Harper Lee', 'year': 1960},\n",
       " {'title': '1984', 'author': 'George Orwell', 'year': 1949},\n",
       " {'title': 'Animal Farm', 'author': 'George Orwell', 'year': 1945}]"
      ]
     },
     "execution_count": 3,
     "metadata": {},
     "output_type": "execute_result"
    }
   ],
   "source": [
    "# add sample books to the collection\n",
    "sample_books = [    {\"title\": \"The Great Gatsby\", \"author\": \"F. Scott Fitzgerald\", \"year\": 1925},\n",
    "                    {\"title\": \"A Farewell to Arms\", \"author\": \"Ernest Hemingway\", \"year\": 1929},\n",
    "                    {\"title\": \"The Catcher in the Rye\", \"author\": \"J.D. Salinger\", \"year\": 1951},\n",
    "                    {\"title\": \"The Grapes of Wrath\", \"author\": \"John Steinbeck\", \"year\": 1939},\n",
    "                    {\"title\": \"To Kill a Mockingbird\", \"author\": \"Harper Lee\", \"year\": 1960},\n",
    "                    {\"title\": \"1984\", \"author\": \"George Orwell\", \"year\": 1949},\n",
    "                    {\"title\": \"Animal Farm\", \"author\": \"George Orwell\", \"year\": 1945}]\n",
    "sample_books"
   ]
  },
  {
   "cell_type": "code",
   "execution_count": 4,
   "metadata": {},
   "outputs": [
    {
     "data": {
      "text/plain": [
       "InsertManyResult([ObjectId('66e9b117529d9b11d569aab3'), ObjectId('66e9b117529d9b11d569aab4'), ObjectId('66e9b117529d9b11d569aab5'), ObjectId('66e9b117529d9b11d569aab6'), ObjectId('66e9b117529d9b11d569aab7'), ObjectId('66e9b117529d9b11d569aab8'), ObjectId('66e9b117529d9b11d569aab9')], acknowledged=True)"
      ]
     },
     "execution_count": 4,
     "metadata": {},
     "output_type": "execute_result"
    }
   ],
   "source": [
    "\n",
    "# insert sample books to the collection\n",
    "collection.insert_many(sample_books)"
   ]
  },
  {
   "cell_type": "markdown",
   "metadata": {},
   "source": [
    "\n",
    "### 1. Find (Read)\n",
    "The `find` method is used to query documents from a collection.\n",
    "\n",
    "#### Syntax\n"
   ]
  },
  {
   "cell_type": "markdown",
   "metadata": {},
   "source": [
    "```python\n",
    "collection.find(query, projection)\n",
    "```"
   ]
  },
  {
   "cell_type": "markdown",
   "metadata": {},
   "source": [
    "- `query`: A dictionary specifying the criteria for the query.\n",
    "- `projection`: A dictionary specifying the fields to include or exclude.\n",
    "\n",
    "#### Example\n"
   ]
  },
  {
   "cell_type": "code",
   "execution_count": 5,
   "metadata": {},
   "outputs": [
    {
     "data": {
      "text/plain": [
       "<pymongo.cursor.Cursor at 0x104fff7a0>"
      ]
     },
     "execution_count": 5,
     "metadata": {},
     "output_type": "execute_result"
    }
   ],
   "source": [
    "\n",
    "# Find all documents, this will return a cursor\n",
    "collection.find()\n"
   ]
  },
  {
   "cell_type": "code",
   "execution_count": 6,
   "metadata": {},
   "outputs": [
    {
     "name": "stdout",
     "output_type": "stream",
     "text": [
      "{'_id': ObjectId('66e9b117529d9b11d569aab3'), 'title': 'The Great Gatsby', 'author': 'F. Scott Fitzgerald', 'year': 1925}\n",
      "{'_id': ObjectId('66e9b117529d9b11d569aab4'), 'title': 'A Farewell to Arms', 'author': 'Ernest Hemingway', 'year': 1929}\n",
      "{'_id': ObjectId('66e9b117529d9b11d569aab5'), 'title': 'The Catcher in the Rye', 'author': 'J.D. Salinger', 'year': 1951}\n",
      "{'_id': ObjectId('66e9b117529d9b11d569aab6'), 'title': 'The Grapes of Wrath', 'author': 'John Steinbeck', 'year': 1939}\n",
      "{'_id': ObjectId('66e9b117529d9b11d569aab7'), 'title': 'To Kill a Mockingbird', 'author': 'Harper Lee', 'year': 1960}\n",
      "{'_id': ObjectId('66e9b117529d9b11d569aab8'), 'title': '1984', 'author': 'George Orwell', 'year': 1949}\n",
      "{'_id': ObjectId('66e9b117529d9b11d569aab9'), 'title': 'Animal Farm', 'author': 'George Orwell', 'year': 1945}\n"
     ]
    }
   ],
   "source": [
    "# print all documents\n",
    "for book in collection.find():\n",
    "    print(book)"
   ]
  },
  {
   "cell_type": "code",
   "execution_count": 8,
   "metadata": {},
   "outputs": [
    {
     "name": "stdout",
     "output_type": "stream",
     "text": [
      "{'author': 'F. Scott Fitzgerald', 'year': 1925}\n",
      "{'author': 'Ernest Hemingway', 'year': 1929}\n",
      "{'author': 'J.D. Salinger', 'year': 1951}\n",
      "{'author': 'John Steinbeck', 'year': 1939}\n",
      "{'author': 'Harper Lee', 'year': 1960}\n",
      "{'author': 'George Orwell', 'year': 1949}\n",
      "{'author': 'George Orwell', 'year': 1945}\n"
     ]
    }
   ],
   "source": [
    "# print all documents without _id\n",
    "for book in collection.find({}, {\"_id\": 0, \"title\": 0}):\n",
    "    print(book)"
   ]
  },
  {
   "cell_type": "code",
   "execution_count": 10,
   "metadata": {},
   "outputs": [
    {
     "name": "stdout",
     "output_type": "stream",
     "text": [
      "{'_id': ObjectId('66e9b117529d9b11d569aab5'), 'title': 'The Catcher in the Rye', 'author': 'J.D. Salinger', 'year': 1951}\n",
      "{'_id': ObjectId('66e9b117529d9b11d569aab7'), 'title': 'To Kill a Mockingbird', 'author': 'Harper Lee', 'year': 1960}\n"
     ]
    }
   ],
   "source": [
    "\n",
    "# Find documents with a specific condition\n",
    "specific_books = collection.find({\"year\": {\"$gt\": 1950}})\n",
    "\n",
    "# Print the results\n",
    "for book in specific_books:\n",
    "    print(book)"
   ]
  },
  {
   "cell_type": "code",
   "execution_count": 14,
   "metadata": {},
   "outputs": [
    {
     "name": "stdout",
     "output_type": "stream",
     "text": [
      "{'title': 'The Catcher in the Rye', 'year': 1951}\n",
      "{'title': 'To Kill a Mockingbird', 'year': 1960}\n"
     ]
    }
   ],
   "source": [
    "\n",
    "# Find documents with a specific condition, and return only the title\n",
    "specific_books = collection.find({\"year\": {\"$gt\": 1950}}, {\"title\": 1, \"year\": 1, \"_id\": 0})\n",
    "\n",
    "# Print the results\n",
    "for book in specific_books:\n",
    "    print(book)"
   ]
  },
  {
   "cell_type": "markdown",
   "metadata": {},
   "source": [
    "\n",
    "\n",
    "### 2. Insert (Create)\n",
    "The `insert_one` and `insert_many` methods are used to insert documents into a collection.\n",
    "\n",
    "#### Syntax\n"
   ]
  },
  {
   "cell_type": "markdown",
   "metadata": {},
   "source": [
    "```python\n",
    "collection.insert_one(document)\n",
    "collection.insert_many(documents)\n",
    "```"
   ]
  },
  {
   "cell_type": "markdown",
   "metadata": {},
   "source": [
    "- `document`: A dictionary representing a single document.\n",
    "- `documents`: A list of dictionaries representing multiple documents.\n",
    "\n",
    "#### Example\n"
   ]
  },
  {
   "cell_type": "code",
   "execution_count": 15,
   "metadata": {},
   "outputs": [
    {
     "data": {
      "text/plain": [
       "InsertOneResult(ObjectId('66e9b353529d9b11d569aaba'), acknowledged=True)"
      ]
     },
     "execution_count": 15,
     "metadata": {},
     "output_type": "execute_result"
    }
   ],
   "source": [
    "# Insert a single document\n",
    "new_book = {\n",
    "    \"title\": \"Brave New World\",\n",
    "    \"author\": \"Aldous Huxley\",\n",
    "    \"published_year\": 1932,\n",
    "    \"isbn\": \"978-0-06-085052-4\",\n",
    "    \"price\": 11.99\n",
    "}\n",
    "collection.insert_one(new_book)\n"
   ]
  },
  {
   "cell_type": "code",
   "execution_count": 16,
   "metadata": {},
   "outputs": [
    {
     "data": {
      "text/plain": [
       "InsertManyResult([ObjectId('66e9b37f529d9b11d569aabb'), ObjectId('66e9b37f529d9b11d569aabc')], acknowledged=True)"
      ]
     },
     "execution_count": 16,
     "metadata": {},
     "output_type": "execute_result"
    }
   ],
   "source": [
    "\n",
    "# Insert multiple documents\n",
    "new_books = [\n",
    "    {\n",
    "        \"title\": \"The Road\",\n",
    "        \"author\": \"Cormac McCarthy\",\n",
    "        \"published_year\": 2006,\n",
    "        \"isbn\": \"978-0-307-38789-9\",\n",
    "        \"price\": 12.99\n",
    "    },\n",
    "    {\n",
    "        \"title\": \"The Handmaid's Tale\",\n",
    "        \"author\": \"Margaret Atwood\",\n",
    "        \"published_year\": 1985,\n",
    "        \"isbn\": \"978-0-385-49081-8\",\n",
    "        \"price\": 9.99\n",
    "    }\n",
    "]\n",
    "collection.insert_many(new_books)"
   ]
  },
  {
   "cell_type": "code",
   "execution_count": 17,
   "metadata": {},
   "outputs": [
    {
     "name": "stdout",
     "output_type": "stream",
     "text": [
      "{'_id': ObjectId('66e9b117529d9b11d569aab3'), 'title': 'The Great Gatsby', 'author': 'F. Scott Fitzgerald', 'year': 1925}\n",
      "{'_id': ObjectId('66e9b117529d9b11d569aab4'), 'title': 'A Farewell to Arms', 'author': 'Ernest Hemingway', 'year': 1929}\n",
      "{'_id': ObjectId('66e9b117529d9b11d569aab5'), 'title': 'The Catcher in the Rye', 'author': 'J.D. Salinger', 'year': 1951}\n",
      "{'_id': ObjectId('66e9b117529d9b11d569aab6'), 'title': 'The Grapes of Wrath', 'author': 'John Steinbeck', 'year': 1939}\n",
      "{'_id': ObjectId('66e9b117529d9b11d569aab7'), 'title': 'To Kill a Mockingbird', 'author': 'Harper Lee', 'year': 1960}\n",
      "{'_id': ObjectId('66e9b117529d9b11d569aab8'), 'title': '1984', 'author': 'George Orwell', 'year': 1949}\n",
      "{'_id': ObjectId('66e9b117529d9b11d569aab9'), 'title': 'Animal Farm', 'author': 'George Orwell', 'year': 1945}\n",
      "{'_id': ObjectId('66e9b353529d9b11d569aaba'), 'title': 'Brave New World', 'author': 'Aldous Huxley', 'published_year': 1932, 'isbn': '978-0-06-085052-4', 'price': 11.99}\n",
      "{'_id': ObjectId('66e9b37f529d9b11d569aabb'), 'title': 'The Road', 'author': 'Cormac McCarthy', 'published_year': 2006, 'isbn': '978-0-307-38789-9', 'price': 12.99}\n",
      "{'_id': ObjectId('66e9b37f529d9b11d569aabc'), 'title': \"The Handmaid's Tale\", 'author': 'Margaret Atwood', 'published_year': 1985, 'isbn': '978-0-385-49081-8', 'price': 9.99}\n"
     ]
    }
   ],
   "source": [
    "# check if the documents were inserted\n",
    "for book in collection.find():\n",
    "    print(book)"
   ]
  },
  {
   "cell_type": "markdown",
   "metadata": {},
   "source": [
    "\n",
    "\n",
    "### 3. Update\n",
    "The `update_one` and `update_many` methods are used to update documents in a collection.\n",
    "\n",
    "#### Syntax\n"
   ]
  },
  {
   "cell_type": "markdown",
   "metadata": {},
   "source": [
    "```python\n",
    "collection.update_one(filter, update)\n",
    "collection.update_many(filter, update)\n",
    "```"
   ]
  },
  {
   "cell_type": "markdown",
   "metadata": {},
   "source": [
    "- `filter`: A dictionary specifying the criteria for the update.\n",
    "- `update`: A dictionary specifying the fields to update.\n",
    "\n",
    "#### Example\n"
   ]
  },
  {
   "cell_type": "code",
   "execution_count": 20,
   "metadata": {},
   "outputs": [
    {
     "data": {
      "text/plain": [
       "UpdateResult({'n': 1, 'electionId': ObjectId('7fffffff00000000000000cb'), 'opTime': {'ts': Timestamp(1726592254, 20), 't': 203}, 'nModified': 1, 'ok': 1.0, '$clusterTime': {'clusterTime': Timestamp(1726592254, 20), 'signature': {'hash': b'[4%;\\xf6=\\xedY\\xb4\\xbf\\xeapc\\xab\\xfco\\x0c?\\x0fG', 'keyId': 7381891571605569538}}, 'operationTime': Timestamp(1726592254, 20), 'updatedExisting': True}, acknowledged=True)"
      ]
     },
     "execution_count": 20,
     "metadata": {},
     "output_type": "execute_result"
    }
   ],
   "source": [
    "# Update a single document\n",
    "collection.update_one(\n",
    "    {\"title\": \"1984\"},\n",
    "    {\"$set\": {\"price\": 8.49, \"year\": 2000}}\n",
    ")\n"
   ]
  },
  {
   "cell_type": "code",
   "execution_count": 21,
   "metadata": {},
   "outputs": [
    {
     "data": {
      "text/plain": [
       "{'_id': ObjectId('66e9b117529d9b11d569aab8'),\n",
       " 'title': '1984',\n",
       " 'author': 'George Orwell',\n",
       " 'year': 2000,\n",
       " 'price': 8.49}"
      ]
     },
     "execution_count": 21,
     "metadata": {},
     "output_type": "execute_result"
    }
   ],
   "source": [
    "collection.find_one({\"title\": \"1984\"})"
   ]
  },
  {
   "cell_type": "code",
   "execution_count": 26,
   "metadata": {},
   "outputs": [
    {
     "name": "stdout",
     "output_type": "stream",
     "text": [
      "{'title': '1984', 'author': 'George Orwell', 'year': 2000, 'price': 8.49}\n",
      "{'title': 'Animal Farm', 'author': 'George Orwell', 'year': 1945}\n"
     ]
    }
   ],
   "source": [
    "for book in collection.find({\"author\": \"George Orwell\"}, {\"_id\": 0}):\n",
    "    print(book)"
   ]
  },
  {
   "cell_type": "code",
   "execution_count": 27,
   "metadata": {},
   "outputs": [
    {
     "data": {
      "text/plain": [
       "UpdateResult({'n': 2, 'electionId': ObjectId('7fffffff00000000000000cb'), 'opTime': {'ts': Timestamp(1726592400, 6), 't': 203}, 'nModified': 2, 'ok': 1.0, '$clusterTime': {'clusterTime': Timestamp(1726592400, 6), 'signature': {'hash': b'\\xc5Y7\\xe2\\x9a\\xf6]\\xb9\\x80\\xb5\\x08c\\xca^m5d\\xeaf;', 'keyId': 7381891571605569538}}, 'operationTime': Timestamp(1726592400, 6), 'updatedExisting': True}, acknowledged=True)"
      ]
     },
     "execution_count": 27,
     "metadata": {},
     "output_type": "execute_result"
    }
   ],
   "source": [
    "\n",
    "# Update multiple documents\n",
    "collection.update_many(\n",
    "    {\"author\": \"George Orwell\"},\n",
    "    {\"$set\": {\"genre\": \"Dystopian\"}}\n",
    ")"
   ]
  },
  {
   "cell_type": "code",
   "execution_count": 26,
   "metadata": {},
   "outputs": [
    {
     "name": "stdout",
     "output_type": "stream",
     "text": [
      "{'_id': ObjectId('66e8a0597a895c83fa099dec'), 'title': '1984', 'author': 'George Orwell', 'year': 1949, 'price': 8.49, 'genre': 'Dystopian'}\n"
     ]
    }
   ],
   "source": [
    "# check if the documents were updated\n",
    "# print book with title \"1984\"\n",
    "print(collection.find_one({\"title\": \"1984\"}))"
   ]
  },
  {
   "cell_type": "code",
   "execution_count": 29,
   "metadata": {},
   "outputs": [
    {
     "name": "stdout",
     "output_type": "stream",
     "text": [
      "{'title': '1984', 'author': 'George Orwell', 'year': 2000, 'price': 8.49, 'genre': 'Dystopian'}\n",
      "{'title': 'Animal Farm', 'author': 'George Orwell', 'year': 1945, 'genre': 'Dystopian'}\n"
     ]
    }
   ],
   "source": [
    "# print all books with author \"George Orwell\"\n",
    "for book in collection.find({\"author\": \"George Orwell\"}, {\"_id\": 0}):\n",
    "    print(book)"
   ]
  },
  {
   "cell_type": "markdown",
   "metadata": {},
   "source": [
    "\n",
    "\n",
    "### 4. Delete\n",
    "The `delete_one` and `delete_many` methods are used to delete documents from a collection.\n",
    "\n",
    "#### Syntax\n"
   ]
  },
  {
   "cell_type": "markdown",
   "metadata": {},
   "source": [
    "```python\n",
    "collection.delete_one(filter)\n",
    "collection.delete_many(filter)\n",
    "```"
   ]
  },
  {
   "cell_type": "markdown",
   "metadata": {},
   "source": [
    "- `filter`: A dictionary specifying the criteria for the deletion.\n",
    "\n",
    "#### Example\n"
   ]
  },
  {
   "cell_type": "code",
   "execution_count": 30,
   "metadata": {},
   "outputs": [
    {
     "data": {
      "text/plain": [
       "DeleteResult({'n': 1, 'electionId': ObjectId('7fffffff00000000000000cb'), 'opTime': {'ts': Timestamp(1726592514, 36), 't': 203}, 'ok': 1.0, '$clusterTime': {'clusterTime': Timestamp(1726592514, 36), 'signature': {'hash': b'\\xe9i\\x06\\xd4QV?3n\\xf1\\xe5\\xc7_~\\x93\\xb3,\\xac\\xeb{', 'keyId': 7381891571605569538}}, 'operationTime': Timestamp(1726592514, 36)}, acknowledged=True)"
      ]
     },
     "execution_count": 30,
     "metadata": {},
     "output_type": "execute_result"
    }
   ],
   "source": [
    "# Delete a single document\n",
    "collection.delete_one({\"title\": \"1984\"})\n"
   ]
  },
  {
   "cell_type": "code",
   "execution_count": 31,
   "metadata": {},
   "outputs": [],
   "source": [
    "collection.find_one({\"title\": \"1984\"})"
   ]
  },
  {
   "cell_type": "code",
   "execution_count": 32,
   "metadata": {},
   "outputs": [
    {
     "data": {
      "text/plain": [
       "DeleteResult({'n': 1, 'electionId': ObjectId('7fffffff00000000000000cb'), 'opTime': {'ts': Timestamp(1726592534, 5), 't': 203}, 'ok': 1.0, '$clusterTime': {'clusterTime': Timestamp(1726592534, 5), 'signature': {'hash': b'di7\\xf6\\xcf\\xfe]\\x9e-\\x13r\\xe7\\xa1*1\\x9c\\x82a\\xcd\\x84', 'keyId': 7381891571605569538}}, 'operationTime': Timestamp(1726592534, 5)}, acknowledged=True)"
      ]
     },
     "execution_count": 32,
     "metadata": {},
     "output_type": "execute_result"
    }
   ],
   "source": [
    "\n",
    "# Delete multiple documents\n",
    "collection.delete_many({\"author\": \"George Orwell\"})"
   ]
  },
  {
   "cell_type": "code",
   "execution_count": 33,
   "metadata": {},
   "outputs": [],
   "source": [
    "for book in collection.find({\"author\": \"George Orwell\"}, {\"_id\": 0}):\n",
    "    print(book)"
   ]
  },
  {
   "cell_type": "code",
   "execution_count": 30,
   "metadata": {},
   "outputs": [
    {
     "name": "stdout",
     "output_type": "stream",
     "text": [
      "None\n"
     ]
    }
   ],
   "source": [
    "# check if the documents were deleted\n",
    "# print book with title \"1984\"\n",
    "print(collection.find_one({\"title\": \"1984\"}))"
   ]
  },
  {
   "cell_type": "code",
   "execution_count": 31,
   "metadata": {},
   "outputs": [],
   "source": [
    "# print all books with author \"George Orwell\"\n",
    "for book in collection.find({\"author\": \"George Orwell\"}):\n",
    "    print(book)"
   ]
  },
  {
   "cell_type": "markdown",
   "metadata": {},
   "source": [
    "Delete a field"
   ]
  },
  {
   "cell_type": "code",
   "execution_count": 35,
   "metadata": {},
   "outputs": [
    {
     "data": {
      "text/plain": [
       "{'_id': ObjectId('66e9b117529d9b11d569aab5'),\n",
       " 'title': 'The Catcher in the Rye',\n",
       " 'author': 'J.D. Salinger',\n",
       " 'year': 1951}"
      ]
     },
     "execution_count": 35,
     "metadata": {},
     "output_type": "execute_result"
    }
   ],
   "source": [
    "collection.find_one({\"author\": \"J.D. Salinger\"})"
   ]
  },
  {
   "cell_type": "code",
   "execution_count": 36,
   "metadata": {},
   "outputs": [
    {
     "data": {
      "text/plain": [
       "UpdateResult({'n': 1, 'electionId': ObjectId('7fffffff00000000000000cb'), 'opTime': {'ts': Timestamp(1726592714, 6), 't': 203}, 'nModified': 1, 'ok': 1.0, '$clusterTime': {'clusterTime': Timestamp(1726592714, 6), 'signature': {'hash': b'E\\xea\\x08a\\x9c|\\xc3\\x879\\xe6\\xca\\x91g\\xa4\\xed\\xa6\\x85^*i', 'keyId': 7381891571605569538}}, 'operationTime': Timestamp(1726592714, 6), 'updatedExisting': True}, acknowledged=True)"
      ]
     },
     "execution_count": 36,
     "metadata": {},
     "output_type": "execute_result"
    }
   ],
   "source": [
    "\n",
    "# Update multiple documents\n",
    "collection.update_many(\n",
    "    {\"author\": \"J.D. Salinger\"},\n",
    "    {\"$unset\": {\"year\": \"\"}}\n",
    ")"
   ]
  },
  {
   "cell_type": "code",
   "execution_count": 37,
   "metadata": {},
   "outputs": [
    {
     "data": {
      "text/plain": [
       "{'_id': ObjectId('66e9b117529d9b11d569aab5'),\n",
       " 'title': 'The Catcher in the Rye',\n",
       " 'author': 'J.D. Salinger'}"
      ]
     },
     "execution_count": 37,
     "metadata": {},
     "output_type": "execute_result"
    }
   ],
   "source": [
    "collection.find_one({\"author\": \"J.D. Salinger\"})"
   ]
  },
  {
   "cell_type": "markdown",
   "metadata": {},
   "source": [
    "\n",
    "\n",
    "### 5. Operators\n",
    "MongoDB provides various operators to perform complex queries and updates.\n",
    "\n",
    "#### Common Operators\n",
    "- `$gt`: Greater than\n",
    "- `$lt`: Less than\n",
    "- `$gte`: Greater than or equal to\n",
    "- `$lte`: Less than or equal to\n",
    "- `$eq`: Equal to\n",
    "- `$ne`: Not equal to\n",
    "- `$in`: In a list\n",
    "- `$nin`: Not in a list\n",
    "- `$set`: Set a field to a value\n",
    "- `$unset`: Remove a field\n",
    "\n",
    "#### Example\n"
   ]
  },
  {
   "cell_type": "code",
   "execution_count": 32,
   "metadata": {},
   "outputs": [
    {
     "name": "stdout",
     "output_type": "stream",
     "text": [
      "{'_id': ObjectId('66e8a0597a895c83fa099de7'), 'title': 'The Great Gatsby', 'author': 'F. Scott Fitzgerald', 'year': 1925}\n",
      "{'_id': ObjectId('66e8a0597a895c83fa099de8'), 'title': 'A Farewell to Arms', 'author': 'Ernest Hemingway', 'year': 1929}\n",
      "{'_id': ObjectId('66e8a0597a895c83fa099de9'), 'title': 'The Catcher in the Rye', 'author': 'J.D. Salinger', 'year': 1951}\n",
      "{'_id': ObjectId('66e8a0597a895c83fa099dea'), 'title': 'The Grapes of Wrath', 'author': 'John Steinbeck', 'year': 1939}\n",
      "{'_id': ObjectId('66e8a0597a895c83fa099deb'), 'title': 'To Kill a Mockingbird', 'author': 'Harper Lee', 'year': 1960}\n",
      "{'_id': ObjectId('66e8a05d7a895c83fa099dee'), 'title': 'Brave New World', 'author': 'Aldous Huxley', 'published_year': 1932, 'isbn': '978-0-06-085052-4', 'price': 11.99}\n",
      "{'_id': ObjectId('66e8a05d7a895c83fa099def'), 'title': 'The Road', 'author': 'Cormac McCarthy', 'published_year': 2006, 'isbn': '978-0-307-38789-9', 'price': 12.99}\n",
      "{'_id': ObjectId('66e8a05d7a895c83fa099df0'), 'title': \"The Handmaid's Tale\", 'author': 'Margaret Atwood', 'published_year': 1985, 'isbn': '978-0-385-49081-8', 'price': 9.99}\n"
     ]
    }
   ],
   "source": [
    "# print all documents\n",
    "for book in collection.find():\n",
    "    print(book)"
   ]
  },
  {
   "cell_type": "code",
   "execution_count": 38,
   "metadata": {},
   "outputs": [
    {
     "name": "stdout",
     "output_type": "stream",
     "text": [
      "{'_id': ObjectId('66e9b353529d9b11d569aaba'), 'title': 'Brave New World', 'author': 'Aldous Huxley', 'published_year': 1932, 'isbn': '978-0-06-085052-4', 'price': 11.99}\n",
      "{'_id': ObjectId('66e9b37f529d9b11d569aabb'), 'title': 'The Road', 'author': 'Cormac McCarthy', 'published_year': 2006, 'isbn': '978-0-307-38789-9', 'price': 12.99}\n"
     ]
    }
   ],
   "source": [
    "# Find documents with price greater than 10\n",
    "expensive_books = collection.find({\"price\": {\"$gt\": 10}})\n",
    "for book in expensive_books:\n",
    "    print(book)\n"
   ]
  },
  {
   "cell_type": "code",
   "execution_count": 39,
   "metadata": {},
   "outputs": [
    {
     "name": "stdout",
     "output_type": "stream",
     "text": [
      "{'_id': ObjectId('66e9b117529d9b11d569aab5'), 'title': 'The Catcher in the Rye', 'author': 'J.D. Salinger'}\n",
      "{'_id': ObjectId('66e9b117529d9b11d569aab6'), 'title': 'The Grapes of Wrath', 'author': 'John Steinbeck', 'year': 1939}\n"
     ]
    }
   ],
   "source": [
    "author_J = collection.find({\"author\": {\"$regex\": \"^J\"}})\n",
    "for book in author_J:\n",
    "    print(book)"
   ]
  },
  {
   "cell_type": "code",
   "execution_count": 40,
   "metadata": {},
   "outputs": [
    {
     "name": "stdout",
     "output_type": "stream",
     "text": [
      "{'_id': ObjectId('66e9b117529d9b11d569aab3'), 'title': 'The Great Gatsby', 'author': 'F. Scott Fitzgerald', 'year': 1925}\n",
      "{'_id': ObjectId('66e9b117529d9b11d569aab4'), 'title': 'A Farewell to Arms', 'author': 'Ernest Hemingway', 'year': 1929}\n",
      "{'_id': ObjectId('66e9b117529d9b11d569aab7'), 'title': 'To Kill a Mockingbird', 'author': 'Harper Lee', 'year': 1960}\n",
      "{'_id': ObjectId('66e9b353529d9b11d569aaba'), 'title': 'Brave New World', 'author': 'Aldous Huxley', 'published_year': 1932, 'isbn': '978-0-06-085052-4', 'price': 11.99}\n",
      "{'_id': ObjectId('66e9b37f529d9b11d569aabb'), 'title': 'The Road', 'author': 'Cormac McCarthy', 'published_year': 2006, 'isbn': '978-0-307-38789-9', 'price': 12.99}\n",
      "{'_id': ObjectId('66e9b37f529d9b11d569aabc'), 'title': \"The Handmaid's Tale\", 'author': 'Margaret Atwood', 'published_year': 1985, 'isbn': '978-0-385-49081-8', 'price': 9.99}\n"
     ]
    }
   ],
   "source": [
    "# Delete documents where author starts with \"J\"\n",
    "collection.delete_many({\"author\": {\"$regex\": \"^J\"}})\n",
    "for book in collection.find():\n",
    "    print(book)"
   ]
  },
  {
   "cell_type": "code",
   "execution_count": 43,
   "metadata": {},
   "outputs": [
    {
     "name": "stdout",
     "output_type": "stream",
     "text": [
      "{'_id': ObjectId('66e9b117529d9b11d569aab4'), 'title': 'A Farewell to Arms', 'author': 'Ernest Hemingway', 'year': 1929}\n",
      "{'_id': ObjectId('66e9b353529d9b11d569aaba'), 'title': 'Brave New World', 'author': 'Aldous Huxley', 'published_year': 1932, 'isbn': '978-0-06-085052-4', 'price': 11.99}\n",
      "{'_id': ObjectId('66e9b37f529d9b11d569aabb'), 'title': 'The Road', 'author': 'Cormac McCarthy', 'published_year': 2006, 'isbn': '978-0-307-38789-9', 'price': 12.99}\n"
     ]
    }
   ],
   "source": [
    "author_end_with_y = collection.find({\"author\": {\"$regex\": \"y$\"}})\n",
    "for book in author_end_with_y:\n",
    "    print(book)"
   ]
  },
  {
   "cell_type": "code",
   "execution_count": 36,
   "metadata": {},
   "outputs": [
    {
     "name": "stdout",
     "output_type": "stream",
     "text": [
      "{'_id': ObjectId('66e8a0597a895c83fa099de7'), 'title': 'The Great Gatsby', 'author': 'F. Scott Fitzgerald', 'year': 1925}\n",
      "{'_id': ObjectId('66e8a0597a895c83fa099de8'), 'title': 'A Farewell to Arms', 'author': 'Ernest Hemingway', 'year': 1929}\n"
     ]
    }
   ],
   "source": [
    "\n",
    "# Show documents where year is between 1920 and 1930\n",
    "books_between_1930_and_1950 = collection.find({\"year\": {\"$gte\": 1920, \"$lte\": 1930}})\n",
    "for book in books_between_1930_and_1950:\n",
    "    print(book)"
   ]
  },
  {
   "cell_type": "markdown",
   "metadata": {},
   "source": [
    "\n",
    "\n",
    "### Conclusion\n",
    "These are the basic CRUD operations you can perform on a MongoDB database using PyMongo. Understanding these operations is essential for managing and manipulating data in MongoDB."
   ]
  },
  {
   "cell_type": "markdown",
   "metadata": {},
   "source": [
    "## Supplemental materials\n"
   ]
  },
  {
   "cell_type": "markdown",
   "metadata": {},
   "source": [
    "Read more here: https://www.mongodb.com/docs/manual/crud/"
   ]
  },
  {
   "cell_type": "markdown",
   "metadata": {},
   "source": [
    "![](https://media.cheatography.com/storage/thumb/isaeus_mongodb.750.jpg)"
   ]
  },
  {
   "cell_type": "markdown",
   "metadata": {},
   "source": []
  }
 ],
 "metadata": {
  "kernelspec": {
   "display_name": "Python 3 (ipykernel)",
   "language": "python",
   "name": "python3"
  },
  "language_info": {
   "codemirror_mode": {
    "name": "ipython",
    "version": 3
   },
   "file_extension": ".py",
   "mimetype": "text/x-python",
   "name": "python",
   "nbconvert_exporter": "python",
   "pygments_lexer": "ipython3",
   "version": "3.12.5"
  }
 },
 "nbformat": 4,
 "nbformat_minor": 4
}

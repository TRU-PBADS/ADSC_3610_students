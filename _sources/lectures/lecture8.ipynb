{
 "cells": [
  {
   "cell_type": "markdown",
   "metadata": {},
   "source": [
    "# Lecture 8: ACID transactions in MongoDB\n"
   ]
  },
  {
   "cell_type": "markdown",
   "metadata": {},
   "source": [
    "## Learning Objectives\n",
    "\n",
    "By the end of this lecture, students will be able to:\n",
    "- Understand the ACID properties and their importance in database transactions.\n",
    "- Implement multi-document ACID transactions in MongoDB using the `pymongo` library.\n",
    "- Handle transaction errors and ensure data consistency and reliability.\n"
   ]
  },
  {
   "cell_type": "markdown",
   "metadata": {},
   "source": [
    "## Introduction to ACID Transactions\n",
    "\n",
    "ACID transactions ensure that database operations are processed reliably. ACID stands for:\n",
    "- **Atomicity**: Ensures that all operations within a transaction are completed successfully. If any operation fails, the entire transaction is rolled back.\n",
    "- **Consistency**: Ensures that a transaction brings the database from one valid state to another, maintaining database invariants.\n",
    "- **Isolation**: Ensures that concurrently executing transactions do not affect each other.\n",
    "- **Durability**: Ensures that once a transaction is committed, it remains so, even in the event of a system failure.\n"
   ]
  },
  {
   "cell_type": "markdown",
   "metadata": {},
   "source": [
    "![](https://substackcdn.com/image/fetch/f_auto,q_auto:good,fl_progressive:steep/https%3A%2F%2Fsubstack-post-media.s3.amazonaws.com%2Fpublic%2Fimages%2F826d6425-8401-4806-b801-5ff758d5c69f_1280x1664.gif)"
   ]
  },
  {
   "cell_type": "markdown",
   "metadata": {},
   "source": [
    "#### Atomicity\n",
    "\n",
    "**Example**: Transferring funds between two bank accounts.\n",
    "\n",
    "- **Scenario**: A customer wants to transfer $100 from their savings account to their checking account.\n",
    "- **Atomicity**: The transaction involves two operations: deducting $100 from the savings account and adding $100 to the checking account. If either operation fails (e.g., due to insufficient funds in the savings account), the entire transaction is rolled back, and no money is transferred. This ensures that partial updates do not occur.\n",
    "\n",
    "#### Consistency\n",
    "\n",
    "**Example**: Ensuring data integrity during a product purchase.\n",
    "\n",
    "- **Scenario**: A customer purchases a product from an online store.\n",
    "- **Consistency**: The transaction involves updating the inventory to reduce the product quantity and recording the sale in the sales ledger. The database must ensure that the inventory count and sales record are updated together. If the inventory update fails (e.g., items sold out), the sale should not be recorded, maintaining the consistency of the database.\n",
    "\n",
    "#### Isolation\n",
    "\n",
    "**Example**: Concurrent ticket booking for a concert.\n",
    "\n",
    "- **Scenario**: Two customers attempt to book the last available ticket for a concert at the same time.\n",
    "- **Isolation**: Each transaction should be isolated from the other, ensuring that only one customer can successfully book the last ticket. The database handles these concurrent transactions in such a way that one transaction completes before the other begins, preventing race conditions and ensuring data integrity.\n",
    "\n",
    "#### Durability\n",
    "\n",
    "**Example**: Recording a bank deposit.\n",
    "\n",
    "- **Scenario**: A customer deposits $500 into their bank account.\n",
    "- **Durability**: Once the transaction is committed, the deposit is guaranteed to be recorded in the database, even if there is a system failure immediately after the transaction. This ensures that the customer's balance reflects the deposit accurately and reliably."
   ]
  },
  {
   "cell_type": "markdown",
   "metadata": {},
   "source": [
    "### MongoDB Transactions\n",
    "\n",
    "MongoDB supports multi-document ACID transactions, which allow you to perform multiple operations across multiple documents and collections in a single transaction. Transactions in MongoDB are available for replica sets and sharded clusters.\n",
    "\n",
    "### Key Concepts\n",
    "\n",
    "- **Session**: A session is required to start a transaction.\n",
    "- **Transaction**: A sequence of read and write operations that are executed as a single unit.\n"
   ]
  },
  {
   "cell_type": "markdown",
   "metadata": {},
   "source": [
    "\n",
    "### Example\n",
    "\n",
    "Below is an example of how to use transactions in MongoDB using Python and the `pymongo` library.\n"
   ]
  },
  {
   "cell_type": "markdown",
   "metadata": {},
   "source": [
    "\n",
    "#### 1. Setup MongoDB Connection and Collections\n",
    "\n"
   ]
  },
  {
   "cell_type": "code",
   "execution_count": 7,
   "metadata": {},
   "outputs": [],
   "source": [
    "from pymongo import MongoClient # import mongo client to connect\n",
    "from pymongo.errors import ConnectionFailure, OperationFailure\n",
    "import json # import json to load credentials\n",
    "import urllib.parse\n",
    "\n",
    "# load credentials from json file\n",
    "with open('credentials_mongodb.json') as f:\n",
    "    login = json.load(f)\n",
    "\n",
    "# assign credentials to variables\n",
    "username = login['username']\n",
    "password = urllib.parse.quote(login['password'])\n",
    "host = login['host']\n",
    "url = \"mongodb+srv://{}:{}@{}/?retryWrites=true&w=majority\".format(username, password, host)\n",
    "\n",
    "# connect to the database\n",
    "client = MongoClient(url)\n",
    "\n",
    "# drop database banking if they exist\n",
    "client.drop_database('banking')"
   ]
  },
  {
   "cell_type": "code",
   "execution_count": 8,
   "metadata": {},
   "outputs": [],
   "source": [
    "# create database and collection\n",
    "db = client[\"banking\"]\n",
    "\n",
    "# Collections\n",
    "accounts_collection = db.accounts\n",
    "transactions_collection = db.transactions\n"
   ]
  },
  {
   "cell_type": "markdown",
   "metadata": {},
   "source": [
    "#### 2. Insert Sample Data\n",
    "\n"
   ]
  },
  {
   "cell_type": "code",
   "execution_count": 35,
   "metadata": {},
   "outputs": [
    {
     "data": {
      "text/plain": [
       "InsertManyResult([ObjectId('66f22cb2a09f7a2fb0d6ede5'), ObjectId('66f22cb2a09f7a2fb0d6ede6')], acknowledged=True)"
      ]
     },
     "execution_count": 35,
     "metadata": {},
     "output_type": "execute_result"
    }
   ],
   "source": [
    "# Insert sample data into accounts collection\n",
    "accounts_collection.insert_many([\n",
    "    {\"account_id\": \"account_1\", \"balance\": 500},\n",
    "    {\"account_id\": \"account_2\", \"balance\": 300}\n",
    "])\n",
    "\n",
    "# Insert sample data into transactions collection\n",
    "transactions_collection.insert_many([\n",
    "    {\"from_account\": \"account_1\", \"to_account\": \"account_2\", \"amount\": 50, \"status\": \"completed\"},\n",
    "    {\"from_account\": \"account_2\", \"to_account\": \"account_1\", \"amount\": 30, \"status\": \"completed\"}\n",
    "])"
   ]
  },
  {
   "cell_type": "code",
   "execution_count": 36,
   "metadata": {},
   "outputs": [
    {
     "name": "stdout",
     "output_type": "stream",
     "text": [
      "{'_id': ObjectId('66f22cb2a09f7a2fb0d6ede3'), 'account_id': 'account_1', 'balance': 500}\n",
      "{'_id': ObjectId('66f22cb2a09f7a2fb0d6ede4'), 'account_id': 'account_2', 'balance': 300}\n"
     ]
    }
   ],
   "source": [
    "# print out documents in accounts collection\n",
    "for account in accounts_collection.find():\n",
    "    print(account)"
   ]
  },
  {
   "cell_type": "markdown",
   "metadata": {},
   "source": [
    "Let's say we want to update the account balance. For example, a customer deposit $50 into their account_1"
   ]
  },
  {
   "cell_type": "code",
   "execution_count": 50,
   "metadata": {},
   "outputs": [
    {
     "name": "stdout",
     "output_type": "stream",
     "text": [
      "{'_id': ObjectId('66f22cb2a09f7a2fb0d6ede3'), 'account_id': 'account_1', 'balance': 400}\n"
     ]
    }
   ],
   "source": [
    "# print out account_1 document in accounts collection before update\n",
    "print(accounts_collection.find_one({\"account_id\": \"account_1\"}))"
   ]
  },
  {
   "cell_type": "code",
   "execution_count": 51,
   "metadata": {},
   "outputs": [
    {
     "data": {
      "text/plain": [
       "UpdateResult({'n': 1, 'electionId': ObjectId('7fffffff00000000000000cb'), 'opTime': {'ts': Timestamp(1727147916, 1), 't': 203}, 'nModified': 1, 'ok': 1.0, '$clusterTime': {'clusterTime': Timestamp(1727147916, 1), 'signature': {'hash': b'\\xcbc~\\xf2\\xdfP\\x1e\\xa7\\xcd\\xea\\xf2\\xac\\x9f1\\xf5\\x84\\x91\\xa0\\x04\\xee', 'keyId': 7381891571605569538}}, 'operationTime': Timestamp(1727147916, 1), 'updatedExisting': True}, acknowledged=True)"
      ]
     },
     "execution_count": 51,
     "metadata": {},
     "output_type": "execute_result"
    }
   ],
   "source": [
    "# Increment the balance of account_1 by 50\n",
    "accounts_collection.update_one(\n",
    "    {\"account_id\": \"account_1\"},\n",
    "    {\"$inc\": {\"balance\": 50}}\n",
    ")"
   ]
  },
  {
   "cell_type": "code",
   "execution_count": 52,
   "metadata": {},
   "outputs": [
    {
     "name": "stdout",
     "output_type": "stream",
     "text": [
      "{'_id': ObjectId('66f22cb2a09f7a2fb0d6ede3'), 'account_id': 'account_1', 'balance': 450}\n"
     ]
    }
   ],
   "source": [
    "# print out account_1 document in accounts collection after update\n",
    "print(accounts_collection.find_one({\"account_id\": \"account_1\"}))"
   ]
  },
  {
   "cell_type": "markdown",
   "metadata": {},
   "source": [
    "#### Explanation of `$inc` in MongoDB\n",
    "\n",
    "##### What is `$inc`?\n",
    "\n",
    "`$inc` is an update operator in MongoDB that is used to increment (or decrement) the value of a field by a specified amount. It is commonly used in update operations to modify the value of numeric fields.\n",
    "\n",
    "##### Syntax\n",
    "\n"
   ]
  },
  {
   "cell_type": "code",
   "execution_count": null,
   "metadata": {},
   "outputs": [],
   "source": [
    "{\n",
    "    \"$inc\": { <field1>: <amount1>, <field2>: <amount2>, ... }\n",
    "}"
   ]
  },
  {
   "cell_type": "markdown",
   "metadata": {},
   "source": [
    "\n",
    "\n",
    "- `<field1>`, `<field2>`: The fields to be incremented or decremented.\n",
    "- `<amount1>`, `<amount2>`: The amounts by which to increment or decrement the fields. Positive values increment the field, while negative values decrement the field.\n",
    "\n",
    "##### Example Usage\n",
    "\n",
    "1. **Incrementing a Field**\n",
    "\n",
    "Suppose you have a collection named `accounts` with documents that contain account balances. You can use `$inc` to increment the balance of a specific account.\n",
    "\n"
   ]
  },
  {
   "cell_type": "code",
   "execution_count": 55,
   "metadata": {},
   "outputs": [
    {
     "name": "stdout",
     "output_type": "stream",
     "text": [
      "{'_id': ObjectId('66f22cb2a09f7a2fb0d6ede3'), 'account_id': 'account_1', 'balance': 450}\n"
     ]
    }
   ],
   "source": [
    "# print out account_1 document in accounts collection before update\n",
    "print(accounts_collection.find_one({\"account_id\": \"account_1\"}))"
   ]
  },
  {
   "cell_type": "code",
   "execution_count": 56,
   "metadata": {},
   "outputs": [
    {
     "data": {
      "text/plain": [
       "UpdateResult({'n': 1, 'electionId': ObjectId('7fffffff00000000000000cb'), 'opTime': {'ts': Timestamp(1727148066, 1), 't': 203}, 'nModified': 1, 'ok': 1.0, '$clusterTime': {'clusterTime': Timestamp(1727148066, 1), 'signature': {'hash': b'\\xff\\x04\\xce\\xc4j\\xa95\\xd0jD\\xe9ss\\\\\\x01\\xa5\\x04\\x8ey\\xed', 'keyId': 7381891571605569538}}, 'operationTime': Timestamp(1727148066, 1), 'updatedExisting': True}, acknowledged=True)"
      ]
     },
     "execution_count": 56,
     "metadata": {},
     "output_type": "execute_result"
    }
   ],
   "source": [
    "# Increment the balance of account_1 by 100\n",
    "accounts_collection.update_one(\n",
    "    {\"account_id\": \"account_1\"},\n",
    "    {\"$inc\": {\"balance\": 100}}\n",
    ")"
   ]
  },
  {
   "cell_type": "code",
   "execution_count": 57,
   "metadata": {},
   "outputs": [
    {
     "name": "stdout",
     "output_type": "stream",
     "text": [
      "{'_id': ObjectId('66f22cb2a09f7a2fb0d6ede3'), 'account_id': 'account_1', 'balance': 550}\n"
     ]
    }
   ],
   "source": [
    "# print out account_1 document in accounts collection after update\n",
    "print(accounts_collection.find_one({\"account_id\": \"account_1\"}))"
   ]
  },
  {
   "cell_type": "markdown",
   "metadata": {},
   "source": [
    "\n",
    "\n",
    "2. **Decrementing a Field**\n",
    "\n",
    "You can also use `$inc` to decrement the value of a field by specifying a negative amount.\n",
    "\n"
   ]
  },
  {
   "cell_type": "code",
   "execution_count": 59,
   "metadata": {},
   "outputs": [
    {
     "name": "stdout",
     "output_type": "stream",
     "text": [
      "{'_id': ObjectId('66f22cb2a09f7a2fb0d6ede3'), 'account_id': 'account_1', 'balance': 550}\n"
     ]
    }
   ],
   "source": [
    "# print out account_1 document in accounts collection before update\n",
    "print(accounts_collection.find_one({\"account_id\": \"account_1\"}))"
   ]
  },
  {
   "cell_type": "code",
   "execution_count": 60,
   "metadata": {},
   "outputs": [
    {
     "data": {
      "text/plain": [
       "UpdateResult({'n': 1, 'electionId': ObjectId('7fffffff00000000000000cb'), 'opTime': {'ts': Timestamp(1727148099, 3), 't': 203}, 'nModified': 1, 'ok': 1.0, '$clusterTime': {'clusterTime': Timestamp(1727148099, 3), 'signature': {'hash': b'\\xf9N3\\xbbr\\xba\\xbf8\\x9f6h{\\x11N\\x0c\\xdc\\xbfP\\x13 ', 'keyId': 7381891571605569538}}, 'operationTime': Timestamp(1727148099, 3), 'updatedExisting': True}, acknowledged=True)"
      ]
     },
     "execution_count": 60,
     "metadata": {},
     "output_type": "execute_result"
    }
   ],
   "source": [
    "# Decrement the balance of account_1 by 50\n",
    "accounts_collection.update_one(\n",
    "    {\"account_id\": \"account_1\"},\n",
    "    {\"$inc\": {\"balance\": -50}}\n",
    ")"
   ]
  },
  {
   "cell_type": "code",
   "execution_count": 61,
   "metadata": {},
   "outputs": [
    {
     "name": "stdout",
     "output_type": "stream",
     "text": [
      "{'_id': ObjectId('66f22cb2a09f7a2fb0d6ede3'), 'account_id': 'account_1', 'balance': 500}\n"
     ]
    }
   ],
   "source": [
    "# print out account_1 document in accounts collection after update\n",
    "print(accounts_collection.find_one({\"account_id\": \"account_1\"}))"
   ]
  },
  {
   "cell_type": "markdown",
   "metadata": {},
   "source": [
    "#### 3. Define the Transaction Function\n",
    "\n"
   ]
  },
  {
   "cell_type": "code",
   "execution_count": 49,
   "metadata": {},
   "outputs": [],
   "source": [
    "def transfer_funds(session, from_account, to_account, amount):\n",
    "    # Check if the from_account has sufficient balance\n",
    "    from_account_doc = accounts_collection.find_one({\"account_id\": from_account}, session=session)\n",
    "    if from_account_doc[\"balance\"] < amount:\n",
    "        raise ValueError(\"Insufficient funds\")\n",
    "\n",
    "    # Transfer funds\n",
    "    accounts_collection.update_one(\n",
    "        {\"account_id\": from_account},\n",
    "        {\"$inc\": {\"balance\": -amount}},\n",
    "        session=session\n",
    "    )\n",
    "    accounts_collection.update_one(\n",
    "        {\"account_id\": to_account},\n",
    "        {\"$inc\": {\"balance\": amount}},\n",
    "        session=session\n",
    "    )\n",
    "    transactions_collection.insert_one(\n",
    "        {\n",
    "            \"from_account\": from_account,\n",
    "            \"to_account\": to_account,\n",
    "            \"amount\": amount,\n",
    "            \"status\": \"completed\"\n",
    "        },\n",
    "        session=session\n",
    "    )"
   ]
  },
  {
   "cell_type": "markdown",
   "metadata": {},
   "source": [
    "#### 4. Execute the Transaction\n",
    "\n"
   ]
  },
  {
   "cell_type": "code",
   "execution_count": 38,
   "metadata": {},
   "outputs": [
    {
     "name": "stdout",
     "output_type": "stream",
     "text": [
      "Transaction committed successfully\n"
     ]
    }
   ],
   "source": [
    "# Start a session\n",
    "with client.start_session() as session:\n",
    "    # Start a transaction\n",
    "    with session.start_transaction():\n",
    "        try:\n",
    "            transfer_funds(session, \"account_1\", \"account_2\", 100)\n",
    "        except (ConnectionFailure, OperationFailure) as e:\n",
    "            print(f\"Transaction aborted due to: {e}\")\n",
    "            session.abort_transaction()\n",
    "        else:\n",
    "            session.commit_transaction()\n",
    "            print(\"Transaction committed successfully\")"
   ]
  },
  {
   "cell_type": "code",
   "execution_count": 27,
   "metadata": {},
   "outputs": [
    {
     "name": "stdout",
     "output_type": "stream",
     "text": [
      "{'_id': ObjectId('66f22c7fa09f7a2fb0d6edd6'), 'account_id': 'account_1', 'balance': 50}\n",
      "{'_id': ObjectId('66f22c7fa09f7a2fb0d6edd7'), 'account_id': 'account_2', 'balance': 300}\n"
     ]
    }
   ],
   "source": [
    "# print out documents in accounts collection\n",
    "for account in accounts_collection.find():\n",
    "    print(account)"
   ]
  },
  {
   "cell_type": "code",
   "execution_count": 40,
   "metadata": {},
   "outputs": [
    {
     "name": "stdout",
     "output_type": "stream",
     "text": [
      "{'from_account': 'account_1', 'to_account': 'account_2', 'amount': 50, 'status': 'completed'}\n",
      "{'from_account': 'account_2', 'to_account': 'account_1', 'amount': 30, 'status': 'completed'}\n",
      "{'from_account': 'account_1', 'to_account': 'account_2', 'amount': 100, 'status': 'completed'}\n"
     ]
    }
   ],
   "source": [
    "# print out documents in transactions collection, drop id field\n",
    "for transaction in transactions_collection.find({}, {\"_id\": 0}):\n",
    "    print(transaction)"
   ]
  },
  {
   "cell_type": "markdown",
   "metadata": {},
   "source": [
    "#### 5. Testing the constraint\n",
    "\n",
    "Let's add an account_3 with a balance of $50 and try to perform a transactions to send $100 from account_3 to account_1. This should give an error because of insufficient funds\n"
   ]
  },
  {
   "cell_type": "code",
   "execution_count": 41,
   "metadata": {},
   "outputs": [
    {
     "data": {
      "text/plain": [
       "InsertOneResult(ObjectId('66f22d79a09f7a2fb0d6ede8'), acknowledged=True)"
      ]
     },
     "execution_count": 41,
     "metadata": {},
     "output_type": "execute_result"
    }
   ],
   "source": [
    "# add account_3 to accounts collection with balance 50\n",
    "accounts_collection.insert_one({\"account_id\": \"account_3\", \"balance\": 50})"
   ]
  },
  {
   "cell_type": "code",
   "execution_count": 46,
   "metadata": {},
   "outputs": [
    {
     "ename": "ValueError",
     "evalue": "Insufficient funds",
     "output_type": "error",
     "traceback": [
      "\u001b[0;31m---------------------------------------------------------------------------\u001b[0m",
      "\u001b[0;31mValueError\u001b[0m                                Traceback (most recent call last)",
      "Cell \u001b[0;32mIn[46], line 6\u001b[0m\n\u001b[1;32m      4\u001b[0m \u001b[38;5;28;01mwith\u001b[39;00m session\u001b[38;5;241m.\u001b[39mstart_transaction():\n\u001b[1;32m      5\u001b[0m     \u001b[38;5;28;01mtry\u001b[39;00m:\n\u001b[0;32m----> 6\u001b[0m         \u001b[43mtransfer_funds\u001b[49m\u001b[43m(\u001b[49m\u001b[43msession\u001b[49m\u001b[43m,\u001b[49m\u001b[43m \u001b[49m\u001b[38;5;124;43m\"\u001b[39;49m\u001b[38;5;124;43maccount_3\u001b[39;49m\u001b[38;5;124;43m\"\u001b[39;49m\u001b[43m,\u001b[49m\u001b[43m \u001b[49m\u001b[38;5;124;43m\"\u001b[39;49m\u001b[38;5;124;43maccount_1\u001b[39;49m\u001b[38;5;124;43m\"\u001b[39;49m\u001b[43m,\u001b[49m\u001b[43m \u001b[49m\u001b[38;5;241;43m100\u001b[39;49m\u001b[43m)\u001b[49m\n\u001b[1;32m      7\u001b[0m     \u001b[38;5;28;01mexcept\u001b[39;00m (ConnectionFailure, OperationFailure) \u001b[38;5;28;01mas\u001b[39;00m e:\n\u001b[1;32m      8\u001b[0m         \u001b[38;5;28mprint\u001b[39m(\u001b[38;5;124mf\u001b[39m\u001b[38;5;124m\"\u001b[39m\u001b[38;5;124mTransaction aborted due to: \u001b[39m\u001b[38;5;132;01m{\u001b[39;00me\u001b[38;5;132;01m}\u001b[39;00m\u001b[38;5;124m\"\u001b[39m)\n",
      "Cell \u001b[0;32mIn[45], line 6\u001b[0m, in \u001b[0;36mtransfer_funds\u001b[0;34m(session, from_account, to_account, amount)\u001b[0m\n\u001b[1;32m      4\u001b[0m from_account_doc \u001b[38;5;241m=\u001b[39m accounts_collection\u001b[38;5;241m.\u001b[39mfind_one({\u001b[38;5;124m\"\u001b[39m\u001b[38;5;124maccount_id\u001b[39m\u001b[38;5;124m\"\u001b[39m: from_account}, session\u001b[38;5;241m=\u001b[39msession)\n\u001b[1;32m      5\u001b[0m \u001b[38;5;28;01mif\u001b[39;00m from_account_doc[\u001b[38;5;124m\"\u001b[39m\u001b[38;5;124mbalance\u001b[39m\u001b[38;5;124m\"\u001b[39m] \u001b[38;5;241m<\u001b[39m amount:\n\u001b[0;32m----> 6\u001b[0m     \u001b[38;5;28;01mraise\u001b[39;00m \u001b[38;5;167;01mValueError\u001b[39;00m(\u001b[38;5;124m\"\u001b[39m\u001b[38;5;124mInsufficient funds\u001b[39m\u001b[38;5;124m\"\u001b[39m)\n\u001b[1;32m      8\u001b[0m \u001b[38;5;66;03m# Transfer funds\u001b[39;00m\n\u001b[1;32m      9\u001b[0m accounts_collection\u001b[38;5;241m.\u001b[39mupdate_one(\n\u001b[1;32m     10\u001b[0m     {\u001b[38;5;124m\"\u001b[39m\u001b[38;5;124maccount_id\u001b[39m\u001b[38;5;124m\"\u001b[39m: from_account},\n\u001b[1;32m     11\u001b[0m     {\u001b[38;5;124m\"\u001b[39m\u001b[38;5;124m$inc\u001b[39m\u001b[38;5;124m\"\u001b[39m: {\u001b[38;5;124m\"\u001b[39m\u001b[38;5;124mbalance\u001b[39m\u001b[38;5;124m\"\u001b[39m: \u001b[38;5;241m-\u001b[39mamount}},\n\u001b[1;32m     12\u001b[0m     session\u001b[38;5;241m=\u001b[39msession\n\u001b[1;32m     13\u001b[0m )\n",
      "\u001b[0;31mValueError\u001b[0m: Insufficient funds"
     ]
    }
   ],
   "source": [
    "# Start a session\n",
    "with client.start_session() as session:\n",
    "    # Start a transaction\n",
    "    with session.start_transaction():\n",
    "        try:\n",
    "            transfer_funds(session, \"account_3\", \"account_1\", 100)\n",
    "        except (ConnectionFailure, OperationFailure) as e:\n",
    "            print(f\"Transaction aborted due to: {e}\")\n",
    "            session.abort_transaction()\n",
    "        else:\n",
    "            session.commit_transaction()\n",
    "            print(\"Transaction committed successfully\")"
   ]
  },
  {
   "cell_type": "code",
   "execution_count": 47,
   "metadata": {},
   "outputs": [
    {
     "name": "stdout",
     "output_type": "stream",
     "text": [
      "{'_id': ObjectId('66f22cb2a09f7a2fb0d6ede3'), 'account_id': 'account_1', 'balance': 400}\n",
      "{'_id': ObjectId('66f22cb2a09f7a2fb0d6ede4'), 'account_id': 'account_2', 'balance': 400}\n",
      "{'_id': ObjectId('66f22d79a09f7a2fb0d6ede8'), 'account_id': 'account_3', 'balance': 50}\n"
     ]
    }
   ],
   "source": [
    "# print out documents in accounts collection\n",
    "for account in accounts_collection.find():\n",
    "    print(account)"
   ]
  },
  {
   "cell_type": "code",
   "execution_count": 48,
   "metadata": {},
   "outputs": [
    {
     "name": "stdout",
     "output_type": "stream",
     "text": [
      "{'from_account': 'account_1', 'to_account': 'account_2', 'amount': 50, 'status': 'completed'}\n",
      "{'from_account': 'account_2', 'to_account': 'account_1', 'amount': 30, 'status': 'completed'}\n",
      "{'from_account': 'account_1', 'to_account': 'account_2', 'amount': 100, 'status': 'completed'}\n"
     ]
    }
   ],
   "source": [
    "# print out documents in transactions collection, drop id field\n",
    "for transaction in transactions_collection.find({}, {\"_id\": 0}):\n",
    "    print(transaction)"
   ]
  },
  {
   "cell_type": "markdown",
   "metadata": {},
   "source": [
    "**Explanation**\n",
    "\n",
    "1. **Setup MongoDB Connection and Collections**: Connect to MongoDB and define the collections to be used in the transaction.\n",
    "2. **Insert Sample Data**: Insert sample data into the `accounts` and `transactions` collections to set up the initial state.\n",
    "3. **Define the Transaction Function with Balance Constraint**: Define a function `transfer_funds` that performs the operations within the transaction. This function checks if the from_account has sufficient balance before proceeding with the transfer. If the balance is insufficient, it raises a ValueError. If the balance is sufficent, this function updates the balance of two accounts and logs the transaction.\n",
    "4. **Execute the Transaction**: Start a session and a transaction. Call the `transfer_funds` function within the transaction. If any operation fails, the transaction is aborted. If all operations succeed, the transaction is committed."
   ]
  }
 ],
 "metadata": {
  "kernelspec": {
   "display_name": "Python 3 (ipykernel)",
   "language": "python",
   "name": "python3"
  },
  "language_info": {
   "codemirror_mode": {
    "name": "ipython",
    "version": 3
   },
   "file_extension": ".py",
   "mimetype": "text/x-python",
   "name": "python",
   "nbconvert_exporter": "python",
   "pygments_lexer": "ipython3",
   "version": "3.12.5"
  }
 },
 "nbformat": 4,
 "nbformat_minor": 4
}

{
 "cells": [
  {
   "cell_type": "raw",
   "metadata": {
    "vscode": {
     "languageId": "raw"
    }
   },
   "source": [
    "# ASSIGNMENT CONFIG\n",
    "solutions_pdf: false\n",
    "export_cell: false\n",
    "check_all_cell: false\n",
    "generate:\n",
    "    pdf: false\n",
    "    zips: false\n",
    "    show_hidden: false\n",
    "    show_stdout: true\n",
    "seed:\n",
    "    variable: rng_seed\n",
    "    autograder_value: 42\n",
    "    student_value: 90"
   ]
  },
  {
   "cell_type": "markdown",
   "metadata": {},
   "source": [
    "# Worksheet 4: Aggregations and ACID transaction in MongoDB"
   ]
  },
  {
   "cell_type": "markdown",
   "metadata": {},
   "source": [
    "## Establish Pymongo connection"
   ]
  },
  {
   "cell_type": "markdown",
   "metadata": {},
   "source": [
    "Recall that in worksheet1, we have created a cluster on MongoDB Atlas and connect to it via Pymongo and a credentials JSON file. Let's reestablish that connection for our exercises.\n",
    "\n",
    "- Make sure you use the `adsc_3610` conda environment.\n",
    "- You might need to copy & paste the `credentials_mongodb.json` file that you used in worksheet1 to the working directory of worksheet3."
   ]
  },
  {
   "cell_type": "code",
   "execution_count": 1,
   "metadata": {},
   "outputs": [],
   "source": [
    "from pymongo import MongoClient # import mongo client to connect\n",
    "import json # import json to load credentials\n",
    "import urllib.parse\n",
    "\n",
    "# load credentials from json file\n",
    "with open('credentials_mongodb.json') as f:\n",
    "    login = json.load(f)\n",
    "\n",
    "# assign credentials to variables\n",
    "username = login['username']\n",
    "password = urllib.parse.quote(login['password'])\n",
    "host = login['host']\n",
    "url = \"mongodb+srv://{}:{}@{}/?retryWrites=true&w=majority\".format(username, password, host)"
   ]
  },
  {
   "cell_type": "code",
   "execution_count": 2,
   "metadata": {},
   "outputs": [],
   "source": [
    "# connect to the database\n",
    "client = MongoClient(url)"
   ]
  },
  {
   "cell_type": "code",
   "execution_count": 3,
   "metadata": {},
   "outputs": [],
   "source": [
    "# drop database books and students if they exist\n",
    "client.drop_database('bookstore')\n",
    "client.drop_database('students')"
   ]
  },
  {
   "cell_type": "markdown",
   "metadata": {},
   "source": [
    "To test if your connection has been succesful, let's try to print out all the databases"
   ]
  },
  {
   "cell_type": "code",
   "execution_count": 4,
   "metadata": {},
   "outputs": [
    {
     "data": {
      "text/plain": [
       "['banking',\n",
       " 'sample_airbnb',\n",
       " 'sample_analytics',\n",
       " 'sample_geospatial',\n",
       " 'sample_guides',\n",
       " 'sample_mflix',\n",
       " 'sample_restaurants',\n",
       " 'sample_supplies',\n",
       " 'sample_training',\n",
       " 'sample_weatherdata',\n",
       " 'shop',\n",
       " 'admin',\n",
       " 'local']"
      ]
     },
     "execution_count": 4,
     "metadata": {},
     "output_type": "execute_result"
    }
   ],
   "source": [
    "# list all databases\n",
    "client.list_database_names()"
   ]
  },
  {
   "cell_type": "markdown",
   "metadata": {},
   "source": [
    "- Load `sample_mflix` database into an object called db\n",
    "- Load the `movies` collection into an object called `collection`"
   ]
  },
  {
   "cell_type": "raw",
   "metadata": {
    "vscode": {
     "languageId": "raw"
    }
   },
   "source": [
    "# BEGIN QUESTION\n",
    "name: ex0\n",
    "points: 1"
   ]
  },
  {
   "cell_type": "raw",
   "metadata": {
    "vscode": {
     "languageId": "raw"
    }
   },
   "source": [
    "# BEGIN SOLUTION"
   ]
  },
  {
   "cell_type": "code",
   "execution_count": 5,
   "metadata": {},
   "outputs": [],
   "source": [
    "db = client['sample_mflix'] # SOLUTION\n",
    "collection = db['movies'] # SOLUTION"
   ]
  },
  {
   "cell_type": "markdown",
   "metadata": {},
   "source": [
    "Print out the first document"
   ]
  },
  {
   "cell_type": "code",
   "execution_count": 6,
   "metadata": {},
   "outputs": [
    {
     "data": {
      "text/plain": [
       "{'_id': ObjectId('573a1390f29313caabcd50e5'),\n",
       " 'plot': 'The cartoonist, Winsor McCay, brings the Dinosaurus back to life in the figure of his latest creation, Gertie the Dinosaur.',\n",
       " 'genres': ['Animation', 'Short', 'Comedy'],\n",
       " 'runtime': 12,\n",
       " 'cast': ['Winsor McCay', 'George McManus', 'Roy L. McCardell'],\n",
       " 'num_mflix_comments': 0,\n",
       " 'poster': 'https://m.media-amazon.com/images/M/MV5BMTQxNzI4ODQ3NF5BMl5BanBnXkFtZTgwNzY5NzMwMjE@._V1_SY1000_SX677_AL_.jpg',\n",
       " 'title': 'Gertie the Dinosaur',\n",
       " 'fullplot': 'Winsor Z. McCay bets another cartoonist that he can animate a dinosaur. So he draws a big friendly herbivore called Gertie. Then he get into his own picture. Gertie walks through the picture, eats a tree, meets her creator, and takes him carefully on her back for a ride.',\n",
       " 'languages': ['English'],\n",
       " 'released': datetime.datetime(1914, 9, 15, 0, 0),\n",
       " 'directors': ['Winsor McCay'],\n",
       " 'writers': ['Winsor McCay'],\n",
       " 'awards': {'wins': 1, 'nominations': 0, 'text': '1 win.'},\n",
       " 'lastupdated': '2015-08-18 01:03:15.313000000',\n",
       " 'year': 1914,\n",
       " 'imdb': {'rating': 7.3, 'votes': 1837, 'id': 4008},\n",
       " 'countries': ['USA'],\n",
       " 'type': 'movie',\n",
       " 'tomatoes': {'viewer': {'rating': 3.7, 'numReviews': 29},\n",
       "  'lastUpdated': datetime.datetime(2015, 8, 10, 19, 20, 3)}}"
      ]
     },
     "execution_count": 6,
     "metadata": {},
     "output_type": "execute_result"
    }
   ],
   "source": [
    "collection.find_one() # SOLUTION\n"
   ]
  },
  {
   "cell_type": "raw",
   "metadata": {},
   "source": [
    "# END SOLUTION"
   ]
  },
  {
   "cell_type": "raw",
   "metadata": {
    "vscode": {
     "languageId": "raw"
    }
   },
   "source": [
    "# BEGIN TESTS"
   ]
  },
  {
   "cell_type": "code",
   "execution_count": 7,
   "metadata": {},
   "outputs": [],
   "source": [
    "# assert db is a database refering to sample_mflix\n",
    "assert db.name == 'sample_mflix', f\"expected db name to be 'sample_mflix' but got {db.name}\"\n",
    "\n",
    "# Assert that the collection names match, ignoring order\n",
    "assert set(db.list_collection_names()) == set(['sessions', 'comments', 'movies', 'theaters', 'users', 'embedded_movies'])\n",
    "\n",
    "# assert collection is a collection refering to movies\n",
    "assert collection.name == 'movies', f\"expected collection name to be 'movies' but got {collection.name}\"\n",
    "\n",
    "# assert collection count documents\n",
    "assert collection.count_documents({}) == 21349, f\"expected 21349 documents but got {collection.count_documents({})}\""
   ]
  },
  {
   "cell_type": "raw",
   "metadata": {
    "vscode": {
     "languageId": "raw"
    }
   },
   "source": [
    "# END TESTS"
   ]
  },
  {
   "cell_type": "raw",
   "metadata": {
    "vscode": {
     "languageId": "raw"
    }
   },
   "source": [
    "# END QUESTION"
   ]
  },
  {
   "cell_type": "markdown",
   "metadata": {},
   "source": [
    "#### Exercise 1: Calculate the Average Rating of Movies by Genre\n",
    "\n",
    "rubric: {accuracy = 2}\n",
    "\n",
    "**Task**: Write an aggregation pipeline to calculate the average imdb rating of movies grouped by genre.\n",
    "\n",
    "**Hint**: First, use `$unwind` stage to unwind the `genres` array before grouping by genre. Use the `$group` stage to group by genre and the `$avg` operator to calculate the average rating.\n",
    "\n"
   ]
  },
  {
   "cell_type": "markdown",
   "metadata": {},
   "source": [
    "Expected output should look something like this:\n",
    "\n",
    "```json\n",
    "{'_id': 'War', 'averageRating': 7.128591954022989}\n",
    "{'_id': 'News', 'averageRating': 7.252272727272728}\n",
    "{'_id': 'Romance', 'averageRating': 6.6564272782136396}\n",
    "...\n",
    "{'_id': 'Sci-Fi', 'averageRating': 6.123609653725079}\n",
    "{'_id': 'Film-Noir', 'averageRating': 7.397402597402598}\n",
    "```"
   ]
  },
  {
   "cell_type": "raw",
   "metadata": {
    "vscode": {
     "languageId": "raw"
    }
   },
   "source": [
    "# BEGIN QUESTION\n",
    "name: ex1\n",
    "points: 5"
   ]
  },
  {
   "cell_type": "raw",
   "metadata": {},
   "source": [
    "# BEGIN SOLUTION"
   ]
  },
  {
   "cell_type": "code",
   "execution_count": 8,
   "metadata": {},
   "outputs": [
    {
     "name": "stdout",
     "output_type": "stream",
     "text": [
      "{'_id': 'Documentary', 'averageRating': 7.365679824561403}\n",
      "{'_id': 'Drama', 'averageRating': 6.803377338624768}\n",
      "{'_id': 'Comedy', 'averageRating': 6.450214658080344}\n",
      "{'_id': 'Family', 'averageRating': 6.3296712109061755}\n",
      "{'_id': 'Action', 'averageRating': 6.347098402018503}\n",
      "{'_id': 'Sport', 'averageRating': 6.749041095890411}\n",
      "{'_id': 'Horror', 'averageRating': 5.784709897610922}\n",
      "{'_id': 'Film-Noir', 'averageRating': 7.397402597402598}\n",
      "{'_id': 'Talk-Show', 'averageRating': 7.0}\n",
      "{'_id': 'Western', 'averageRating': 6.823553719008264}\n",
      "{'_id': 'Short', 'averageRating': 7.377574370709382}\n",
      "{'_id': 'Adventure', 'averageRating': 6.493680884676145}\n",
      "{'_id': 'Mystery', 'averageRating': 6.527425044091711}\n",
      "{'_id': 'Thriller', 'averageRating': 6.304498977505112}\n",
      "{'_id': 'Music', 'averageRating': 6.883333333333334}\n",
      "{'_id': 'Fantasy', 'averageRating': 6.3829847908745245}\n",
      "{'_id': 'Crime', 'averageRating': 6.688585405625764}\n",
      "{'_id': 'Sci-Fi', 'averageRating': 6.123609653725079}\n",
      "{'_id': 'News', 'averageRating': 7.252272727272728}\n",
      "{'_id': 'Musical', 'averageRating': 6.665831435079727}\n",
      "{'_id': 'War', 'averageRating': 7.128591954022989}\n",
      "{'_id': 'Romance', 'averageRating': 6.6564272782136396}\n",
      "{'_id': 'Biography', 'averageRating': 7.087984189723319}\n",
      "{'_id': 'Animation', 'averageRating': 6.89669603524229}\n",
      "{'_id': 'History', 'averageRating': 7.1696100917431185}\n"
     ]
    }
   ],
   "source": [
    "# Exercise 1: Calculate the Average Rating of Movies by Genre\n",
    "\n",
    "pipeline1 = [\n",
    "    # BEGIN SOLUTION\n",
    "    {\n",
    "        \"$unwind\": \"$genres\"\n",
    "    },\n",
    "    {\n",
    "        \"$group\": {\n",
    "            \"_id\": \"$genres\",\n",
    "            \"averageRating\": { \"$avg\": \"$imdb.rating\" }\n",
    "        }\n",
    "    }\n",
    "    # END SOLUTION\n",
    "]\n",
    "\n",
    "# Execute the pipeline\n",
    "result1 = list(collection.aggregate(pipeline1))\n",
    "for doc in result1:\n",
    "    print(doc)"
   ]
  },
  {
   "cell_type": "raw",
   "metadata": {},
   "source": [
    "# END SOLUTION"
   ]
  },
  {
   "cell_type": "raw",
   "metadata": {},
   "source": [
    "# BEGIN TESTS"
   ]
  },
  {
   "cell_type": "code",
   "execution_count": 9,
   "metadata": {},
   "outputs": [],
   "source": [
    "import numpy as np\n",
    "\n",
    "# Filter for the genre 'Mystery' and extract the average rating\n",
    "mystery_rating = list(filter(lambda x: x['_id'] == 'Mystery', result1))[0]['averageRating']\n",
    "\n",
    "# Use np.isclose to compare the average rating\n",
    "assert np.isclose(mystery_rating, 6.527425044091, atol=0.01), \\\n",
    "    f\"expected average rating close to 6.53 but got {mystery_rating}\""
   ]
  },
  {
   "cell_type": "raw",
   "metadata": {},
   "source": [
    "# END TESTS"
   ]
  },
  {
   "cell_type": "raw",
   "metadata": {},
   "source": [
    "# END QUESTION"
   ]
  },
  {
   "cell_type": "markdown",
   "metadata": {},
   "source": [
    "\n",
    "\n",
    "#### Exercise 2: Find the Top 5 Movies with the Highest IMDb Rating\n",
    "\n",
    "rubric: {accuracy = 3}\n",
    "\n",
    "**Task**: Write an aggregation pipeline to find the top 5 movies with the highest Tomatoes Viewer rating. In the result, only keep the movies `title` and `tomatoes.viewer.rating` field only, remove `_id` from the result.\n",
    "\n",
    "**Hint**: Use the `$sort` stage to sort by Tomatoes Viewer rating in descending order and the `$limit` stage to limit the results to the top 5. Use `$project` to select fields that you want to include/exclude in the output.\n",
    "\n"
   ]
  },
  {
   "cell_type": "markdown",
   "metadata": {},
   "source": [
    "Expected output:\n",
    "\n",
    "```json\n",
    "...\n",
    "{'title': 'Murder by Natural Causes', 'tomatoes': {'viewer': {'rating': 5.0}}}\n",
    "{'title': 'I Am Maria', 'tomatoes': {'viewer': {'rating': 5.0}}}\n",
    "```"
   ]
  },
  {
   "cell_type": "code",
   "execution_count": 10,
   "metadata": {},
   "outputs": [
    {
     "name": "stdout",
     "output_type": "stream",
     "text": [
      "{'title': 'Gertie the Dinosaur', 'tomatoes': {'viewer': {'rating': 3.7}}}\n",
      "{'title': 'The Great Train Robbery', 'tomatoes': {'viewer': {'rating': 3.7}}}\n",
      "{'title': 'The Italian', 'tomatoes': {'viewer': {'rating': 4.0}}}\n",
      "{'title': 'Civilization', 'tomatoes': {'viewer': {'rating': 0.0}}}\n",
      "{'title': 'Where Are My Children?', 'tomatoes': {'viewer': {'rating': 3.1}}}\n"
     ]
    }
   ],
   "source": [
    "# print out tomatoes viewer rating of some movies\n",
    "for doc in collection.find({}, {\"_id\": 0,\n",
    "                                \"title\": 1, \n",
    "                                \"tomatoes.viewer.rating\": 1}).limit(5):\n",
    "    print(doc)"
   ]
  },
  {
   "cell_type": "raw",
   "metadata": {
    "vscode": {
     "languageId": "raw"
    }
   },
   "source": [
    "# BEGIN QUESTION\n",
    "name: ex2\n",
    "points: 5"
   ]
  },
  {
   "cell_type": "raw",
   "metadata": {},
   "source": [
    "# BEGIN SOLUTION"
   ]
  },
  {
   "cell_type": "code",
   "execution_count": 11,
   "metadata": {},
   "outputs": [
    {
     "name": "stdout",
     "output_type": "stream",
     "text": [
      "{'title': 'Kadin Hamlet', 'tomatoes': {'viewer': {'rating': 5.0}}}\n",
      "{'title': 'The Seine Meets Paris', 'tomatoes': {'viewer': {'rating': 5.0}}}\n",
      "{'title': 'Night Function', 'tomatoes': {'viewer': {'rating': 5.0}}}\n",
      "{'title': 'Murder by Natural Causes', 'tomatoes': {'viewer': {'rating': 5.0}}}\n",
      "{'title': 'I Am Maria', 'tomatoes': {'viewer': {'rating': 5.0}}}\n"
     ]
    }
   ],
   "source": [
    "# Exercise 2: Find the Top 5 Movies with the Highest Tomatoes Viewer Rating\n",
    "\n",
    "pipeline2 = [\n",
    "    # BEGIN SOLUTION\n",
    "    {\n",
    "        \"$sort\": {\n",
    "            \"tomatoes.viewer.rating\": -1\n",
    "        }\n",
    "    },\n",
    "    {\n",
    "        \"$limit\": 5\n",
    "    },\n",
    "    {\n",
    "        \"$project\": {\n",
    "            \"_id\": 0,\n",
    "            \"title\": 1,\n",
    "            \"tomatoes.viewer.rating\": 1\n",
    "        }\n",
    "    }\n",
    "    # END SOLUTION\n",
    "]\n",
    "\n",
    "# Execute the pipeline\n",
    "result2 = list(collection.aggregate(pipeline2))\n",
    "for doc in result2:\n",
    "    print(doc)"
   ]
  },
  {
   "cell_type": "raw",
   "metadata": {},
   "source": [
    "# END SOLUTION"
   ]
  },
  {
   "cell_type": "raw",
   "metadata": {},
   "source": [
    "# BEGIN TESTS"
   ]
  },
  {
   "cell_type": "code",
   "execution_count": 12,
   "metadata": {},
   "outputs": [],
   "source": [
    "# check if the result2 has 5 documents\n",
    "assert len(result2) == 5, f\"Expected 5 documents, but found {len(result2)}\"\n",
    "\n",
    "# check if the result2 has the correct keys\n",
    "assert set(result2[0].keys()) == set(['title', 'tomatoes']), f\"Expected keys: ['title', 'tomatoes'], but found {result2[0].keys()}\"\n",
    "\n",
    "# Check if result2 has the correct titles\n",
    "expected_titles = [\n",
    "    'Kadin Hamlet',\n",
    "    'The Seine Meets Paris',\n",
    "    'Night Function',\n",
    "    'Murder by Natural Causes',\n",
    "    'I Am Maria'\n",
    "]\n",
    "result_titles = [doc['title'] for doc in result2]\n",
    "assert set(result_titles) == set(expected_titles), f\"Expected titles: {expected_titles}, but found: {result_titles}\""
   ]
  },
  {
   "cell_type": "raw",
   "metadata": {},
   "source": [
    "# END TESTS"
   ]
  },
  {
   "cell_type": "raw",
   "metadata": {},
   "source": [
    "# END QUESTION"
   ]
  },
  {
   "cell_type": "markdown",
   "metadata": {},
   "source": [
    "\n",
    "\n",
    "#### Exercise 3: Count the Number of Movies by Year\n",
    "\n",
    "rubric: {accuracy = 2}\n",
    "\n",
    "**Task**: Write an aggregation pipeline to count the number of movies released each year. Sort by count in descending order\n",
    "\n",
    "**Hint**: Use the `$group` stage to group by year and the `$count` operator to count the number of movies. Use the `sort` stage to sort by count\n",
    "\n"
   ]
  },
  {
   "cell_type": "markdown",
   "metadata": {},
   "source": [
    "Expected output:\n",
    "```json\n",
    "...\n",
    "{'_id': 2008, 'count': 886}\n",
    "{'_id': 2010, 'count': 866}\n",
    "...\n",
    "```"
   ]
  },
  {
   "cell_type": "raw",
   "metadata": {
    "vscode": {
     "languageId": "raw"
    }
   },
   "source": [
    "# BEGIN QUESTION\n",
    "name: ex3\n",
    "points: 5"
   ]
  },
  {
   "cell_type": "raw",
   "metadata": {},
   "source": [
    "# BEGIN SOLUTION"
   ]
  },
  {
   "cell_type": "code",
   "execution_count": 13,
   "metadata": {},
   "outputs": [
    {
     "name": "stdout",
     "output_type": "stream",
     "text": [
      "{'_id': 2013, 'count': 1105}\n",
      "{'_id': 2014, 'count': 1073}\n",
      "{'_id': 2012, 'count': 955}\n",
      "{'_id': 2009, 'count': 917}\n",
      "{'_id': 2011, 'count': 893}\n",
      "{'_id': 2008, 'count': 886}\n",
      "{'_id': 2010, 'count': 866}\n",
      "{'_id': 2007, 'count': 810}\n",
      "{'_id': 2006, 'count': 774}\n",
      "{'_id': 2005, 'count': 713}\n",
      "{'_id': 2004, 'count': 678}\n",
      "{'_id': 2002, 'count': 622}\n",
      "{'_id': 2001, 'count': 612}\n",
      "{'_id': 2003, 'count': 603}\n",
      "{'_id': 2000, 'count': 581}\n",
      "{'_id': 1999, 'count': 515}\n",
      "{'_id': 1998, 'count': 513}\n",
      "{'_id': 2015, 'count': 480}\n",
      "{'_id': 1997, 'count': 439}\n",
      "{'_id': 1996, 'count': 407}\n",
      "{'_id': 1995, 'count': 372}\n",
      "{'_id': 1994, 'count': 305}\n",
      "{'_id': 1993, 'count': 274}\n",
      "{'_id': 1992, 'count': 270}\n",
      "{'_id': 1988, 'count': 251}\n",
      "{'_id': 1991, 'count': 238}\n",
      "{'_id': 1989, 'count': 232}\n",
      "{'_id': 1990, 'count': 225}\n",
      "{'_id': 1987, 'count': 222}\n",
      "{'_id': 1984, 'count': 199}\n",
      "{'_id': 1986, 'count': 190}\n",
      "{'_id': 1985, 'count': 189}\n",
      "{'_id': 1982, 'count': 177}\n",
      "{'_id': 1981, 'count': 168}\n",
      "{'_id': 1980, 'count': 167}\n",
      "{'_id': 1983, 'count': 161}\n",
      "{'_id': 1979, 'count': 131}\n",
      "{'_id': 1978, 'count': 128}\n",
      "{'_id': 1977, 'count': 123}\n",
      "{'_id': 1972, 'count': 121}\n",
      "{'_id': 1970, 'count': 120}\n",
      "{'_id': 1976, 'count': 116}\n",
      "{'_id': 1973, 'count': 112}\n",
      "{'_id': 1975, 'count': 107}\n",
      "{'_id': 1969, 'count': 107}\n",
      "{'_id': 1971, 'count': 106}\n",
      "{'_id': 1974, 'count': 103}\n",
      "{'_id': 1968, 'count': 89}\n",
      "{'_id': 1966, 'count': 87}\n",
      "{'_id': 1964, 'count': 86}\n",
      "{'_id': 1967, 'count': 81}\n",
      "{'_id': 1965, 'count': 77}\n",
      "{'_id': 1958, 'count': 75}\n",
      "{'_id': 1960, 'count': 73}\n",
      "{'_id': 1959, 'count': 71}\n",
      "{'_id': 1957, 'count': 71}\n",
      "{'_id': 1962, 'count': 70}\n",
      "{'_id': 1963, 'count': 69}\n",
      "{'_id': 1961, 'count': 68}\n",
      "{'_id': 1956, 'count': 67}\n",
      "{'_id': 1955, 'count': 67}\n",
      "{'_id': 1953, 'count': 65}\n",
      "{'_id': 1948, 'count': 56}\n",
      "{'_id': 1950, 'count': 55}\n",
      "{'_id': 1951, 'count': 54}\n",
      "{'_id': 1949, 'count': 52}\n",
      "{'_id': 1954, 'count': 47}\n",
      "{'_id': 1952, 'count': 45}\n",
      "{'_id': 1938, 'count': 38}\n",
      "{'_id': 1946, 'count': 34}\n",
      "{'_id': 1943, 'count': 32}\n",
      "{'_id': 1937, 'count': 31}\n",
      "{'_id': 1935, 'count': 31}\n",
      "{'_id': 1942, 'count': 30}\n",
      "{'_id': 1936, 'count': 30}\n",
      "{'_id': 1945, 'count': 29}\n",
      "{'_id': 1947, 'count': 29}\n",
      "{'_id': 1941, 'count': 24}\n",
      "{'_id': 1940, 'count': 24}\n",
      "{'_id': 1934, 'count': 23}\n",
      "{'_id': 1944, 'count': 23}\n",
      "{'_id': 1931, 'count': 20}\n",
      "{'_id': 1933, 'count': 20}\n",
      "{'_id': 1939, 'count': 20}\n",
      "{'_id': 1932, 'count': 18}\n",
      "{'_id': 1930, 'count': 10}\n",
      "{'_id': 1928, 'count': 8}\n",
      "{'_id': 1929, 'count': 7}\n",
      "{'_id': 1924, 'count': 6}\n",
      "{'_id': 1926, 'count': 6}\n",
      "{'_id': 1921, 'count': 5}\n",
      "{'_id': '2010è', 'count': 4}\n",
      "{'_id': 1927, 'count': 4}\n",
      "{'_id': 1920, 'count': 4}\n",
      "{'_id': '2007è', 'count': 3}\n",
      "{'_id': 1914, 'count': 3}\n",
      "{'_id': 1925, 'count': 3}\n",
      "{'_id': '2012è', 'count': 3}\n",
      "{'_id': 1922, 'count': 3}\n",
      "{'_id': '2006è2012', 'count': 2}\n",
      "{'_id': '1997è', 'count': 2}\n",
      "{'_id': '2014è', 'count': 2}\n",
      "{'_id': '2011è', 'count': 2}\n",
      "{'_id': 1923, 'count': 2}\n",
      "{'_id': 1911, 'count': 2}\n",
      "{'_id': 1917, 'count': 2}\n",
      "{'_id': 1896, 'count': 2}\n",
      "{'_id': '2005è', 'count': 2}\n",
      "{'_id': 1916, 'count': 2}\n",
      "{'_id': 1915, 'count': 2}\n",
      "{'_id': '2009è', 'count': 2}\n",
      "{'_id': '1988è', 'count': 1}\n",
      "{'_id': '1987è', 'count': 1}\n",
      "{'_id': '1981è', 'count': 1}\n",
      "{'_id': 1903, 'count': 1}\n",
      "{'_id': '1986è', 'count': 1}\n",
      "{'_id': '1994è1998', 'count': 1}\n",
      "{'_id': '2006è2007', 'count': 1}\n",
      "{'_id': 1918, 'count': 1}\n",
      "{'_id': 1913, 'count': 1}\n",
      "{'_id': '2003è', 'count': 1}\n",
      "{'_id': '2002è', 'count': 1}\n",
      "{'_id': '2006è', 'count': 1}\n",
      "{'_id': '1996è', 'count': 1}\n",
      "{'_id': '2000è', 'count': 1}\n",
      "{'_id': 1909, 'count': 1}\n",
      "{'_id': '1999è', 'count': 1}\n",
      "{'_id': 1919, 'count': 1}\n",
      "{'_id': 2016, 'count': 1}\n",
      "{'_id': '1995è', 'count': 1}\n"
     ]
    }
   ],
   "source": [
    "# Exercise 3: Count the Number of Movies by Year\n",
    "\n",
    "pipeline3 = [\n",
    "    # BEGIN SOLUTION\n",
    "    {\n",
    "        \"$group\": {\n",
    "            \"_id\": \"$year\",\n",
    "            \"count\": { \"$sum\": 1 }\n",
    "        }\n",
    "    },\n",
    "    {\n",
    "        \"$sort\": {\n",
    "            \"count\": -1\n",
    "        }\n",
    "    }\n",
    "    # END SOLUTION\n",
    "]\n",
    "\n",
    "# Execute the pipeline\n",
    "result3 = list(collection.aggregate(pipeline3))\n",
    "for doc in result3:\n",
    "    print(doc)"
   ]
  },
  {
   "cell_type": "raw",
   "metadata": {},
   "source": [
    "# END SOLUTION"
   ]
  },
  {
   "cell_type": "raw",
   "metadata": {},
   "source": [
    "# BEGIN TESTS"
   ]
  },
  {
   "cell_type": "code",
   "execution_count": 14,
   "metadata": {},
   "outputs": [],
   "source": [
    "# Filter for the year 2013 and extract the count\n",
    "count_2013 = list(filter(lambda x: x['_id'] == 2013, result3))[0]['count']\n",
    "\n",
    "# Assert the count for the year 2013\n",
    "assert count_2013 == 1105, f\"expected count 1105 for the year 2013 but got {count_2013}\""
   ]
  },
  {
   "cell_type": "code",
   "execution_count": 15,
   "metadata": {},
   "outputs": [],
   "source": [
    "# Filter for the year 2014 and extract the count\n",
    "count_2014 = list(filter(lambda x: x['_id'] == 2014, result3))[0]['count']\n",
    "\n",
    "# Assert the count for the year 2014\n",
    "assert count_2014 == 1073, f\"expected count 1073 for the year 2014 but got {count_2014}\""
   ]
  },
  {
   "cell_type": "raw",
   "metadata": {},
   "source": [
    "# END TESTS"
   ]
  },
  {
   "cell_type": "raw",
   "metadata": {},
   "source": [
    "# END QUESTION"
   ]
  },
  {
   "cell_type": "markdown",
   "metadata": {},
   "source": [
    "\n",
    "\n",
    "#### Exercise 4: Find the Top 3 Directors with the Most Movies\n",
    "\n",
    "rubric: {accuracy = 4}\n",
    "\n",
    "**Task**: Write an aggregation pipeline to find the top 3 directors who have directed the most movies.\n",
    "\n",
    "**Hint**: Use the `$group` stage to group by director, the `$count` operator to count the number of movies, the `$sort` stage to sort by the count in descending order, and the `$limit` stage to limit the results to the top 3.\n",
    "\n",
    "You might need to `$unwind` the directors array.\n",
    "\n"
   ]
  },
  {
   "cell_type": "markdown",
   "metadata": {},
   "source": [
    "Expected output:\n",
    "```json\n",
    "{'_id': ..., 'movieCount': ...}\n",
    "{'_id': ..., 'movieCount': ...}\n",
    "{'_id': ..., 'movieCount': ...}\n",
    "```"
   ]
  },
  {
   "cell_type": "raw",
   "metadata": {
    "vscode": {
     "languageId": "raw"
    }
   },
   "source": [
    "# BEGIN QUESTION\n",
    "name: ex4\n",
    "points: 5"
   ]
  },
  {
   "cell_type": "raw",
   "metadata": {},
   "source": [
    "# BEGIN SOLUTION"
   ]
  },
  {
   "cell_type": "code",
   "execution_count": 16,
   "metadata": {},
   "outputs": [
    {
     "name": "stdout",
     "output_type": "stream",
     "text": [
      "{'_id': 'Woody Allen', 'movieCount': 40}\n",
      "{'_id': 'Martin Scorsese', 'movieCount': 32}\n",
      "{'_id': 'Takashi Miike', 'movieCount': 31}\n"
     ]
    }
   ],
   "source": [
    "# Exercise 4: Find the Top 3 Directors with the Most Movies\n",
    "\n",
    "pipeline4 = [\n",
    "    # BEGIN SOLUTION\n",
    "    {\n",
    "        \"$unwind\": \"$directors\" # unwind the directors array\n",
    "    },\n",
    "    {\n",
    "        \"$group\": {\n",
    "            \"_id\": \"$directors\",\n",
    "            \"movieCount\": { \"$sum\": 1 }\n",
    "        }\n",
    "    },\n",
    "    {\n",
    "        \"$sort\": {\n",
    "            \"movieCount\": -1\n",
    "        }\n",
    "    },\n",
    "    {\n",
    "        \"$limit\": 3\n",
    "    }\n",
    "    # END SOLUTION\n",
    "]\n",
    "\n",
    "# Execute the pipeline\n",
    "result4 = list(collection.aggregate(pipeline4))\n",
    "for doc in result4:\n",
    "    print(doc)"
   ]
  },
  {
   "cell_type": "raw",
   "metadata": {},
   "source": [
    "# END SOLUTION"
   ]
  },
  {
   "cell_type": "raw",
   "metadata": {},
   "source": [
    "# BEGIN TESTS"
   ]
  },
  {
   "cell_type": "code",
   "execution_count": 17,
   "metadata": {},
   "outputs": [],
   "source": [
    "# assert Woody Allen, Martin Scorsese, Takashi Miike are the top 3 directors\n",
    "assert set([doc['_id'] for doc in result4]) == set(['Woody Allen', 'Martin Scorsese', 'Takashi Miike']), \\\n",
    "    f\"expected directors: ['Woody Allen', 'Martin Scorsese', 'Takashi Miike'], but got {[doc['_id'] for doc in result4]}\""
   ]
  },
  {
   "cell_type": "code",
   "execution_count": 18,
   "metadata": {},
   "outputs": [],
   "source": [
    "# assert the movie count for Woody Allen is 40\n",
    "assert list(filter(lambda x: x['_id'] == 'Woody Allen', result4))[0]['movieCount'] == 40, \\\n",
    "    f\"expected Woody Allen to have 40 movies, but got {list(filter(lambda x: x['_id'] == 'Woody Allen', result4))[0]['movieCount']}\""
   ]
  },
  {
   "cell_type": "raw",
   "metadata": {},
   "source": [
    "# END TESTS"
   ]
  },
  {
   "cell_type": "raw",
   "metadata": {},
   "source": [
    "# END QUESTION"
   ]
  },
  {
   "cell_type": "markdown",
   "metadata": {},
   "source": [
    "### Exercise 5: Calculate the Average IMDb Rating and Number of Movies for Each Genre (Rounded to 2 Decimals)\n",
    "\n",
    "rubric: {accuracy = 3}\n",
    "\n",
    "**Task**: Write an aggregation pipeline to calculate the average IMDb rating (rounded to 2 decimals) and the number of movies for each genre.\n",
    "\n",
    "**Hint**: Use the `$unwind` stage to deconstruct the genres array, the `$group` stage to group by genre, the `$avg` operator to calculate the average rating, and the `$project` stage to round the average rating to 2 decimal places.\n",
    "\n"
   ]
  },
  {
   "cell_type": "markdown",
   "metadata": {},
   "source": [
    "Expected output:\n",
    "\n",
    "```json\n",
    "...\n",
    "{'_id': 'Crime', 'movieCount': 2457, 'averageRating': 6.69}\n",
    "{'_id': 'Sci-Fi', 'movieCount': 958, 'averageRating': 6.12}\n",
    "...\n",
    "```"
   ]
  },
  {
   "cell_type": "raw",
   "metadata": {
    "vscode": {
     "languageId": "raw"
    }
   },
   "source": [
    "# BEGIN QUESTION\n",
    "name: ex5\n",
    "points: 5"
   ]
  },
  {
   "cell_type": "raw",
   "metadata": {},
   "source": [
    "# BEGIN SOLUTION"
   ]
  },
  {
   "cell_type": "code",
   "execution_count": 19,
   "metadata": {},
   "outputs": [
    {
     "name": "stdout",
     "output_type": "stream",
     "text": [
      "{'_id': 'Drama', 'movieCount': 12385, 'averageRating': 6.8}\n",
      "{'_id': 'Action', 'movieCount': 2381, 'averageRating': 6.35}\n",
      "{'_id': 'Horror', 'movieCount': 1470, 'averageRating': 5.78}\n",
      "{'_id': 'Animation', 'movieCount': 912, 'averageRating': 6.9}\n",
      "{'_id': 'Romance', 'movieCount': 3318, 'averageRating': 6.66}\n",
      "{'_id': 'History', 'movieCount': 874, 'averageRating': 7.17}\n",
      "{'_id': 'War', 'movieCount': 699, 'averageRating': 7.13}\n",
      "{'_id': 'Documentary', 'movieCount': 1834, 'averageRating': 7.37}\n",
      "{'_id': 'Musical', 'movieCount': 440, 'averageRating': 6.67}\n",
      "{'_id': 'Biography', 'movieCount': 1269, 'averageRating': 7.09}\n",
      "{'_id': 'Film-Noir', 'movieCount': 77, 'averageRating': 7.4}\n",
      "{'_id': 'Talk-Show', 'movieCount': 1, 'averageRating': 7.0}\n",
      "{'_id': 'Fantasy', 'movieCount': 1055, 'averageRating': 6.38}\n",
      "{'_id': 'Mystery', 'movieCount': 1139, 'averageRating': 6.53}\n",
      "{'_id': 'Crime', 'movieCount': 2457, 'averageRating': 6.69}\n",
      "{'_id': 'Thriller', 'movieCount': 2454, 'averageRating': 6.3}\n",
      "{'_id': 'Adventure', 'movieCount': 1900, 'averageRating': 6.49}\n",
      "{'_id': 'Music', 'movieCount': 780, 'averageRating': 6.88}\n",
      "{'_id': 'Western', 'movieCount': 242, 'averageRating': 6.82}\n",
      "{'_id': 'Short', 'movieCount': 442, 'averageRating': 7.38}\n",
      "{'_id': 'Sci-Fi', 'movieCount': 958, 'averageRating': 6.12}\n",
      "{'_id': 'News', 'movieCount': 44, 'averageRating': 7.25}\n",
      "{'_id': 'Family', 'movieCount': 1249, 'averageRating': 6.33}\n",
      "{'_id': 'Comedy', 'movieCount': 6532, 'averageRating': 6.45}\n",
      "{'_id': 'Sport', 'movieCount': 366, 'averageRating': 6.75}\n"
     ]
    }
   ],
   "source": [
    "# Exercise 5: Calculate the Average IMDb Rating and Number of Movies for Each Genre (Rounded to 2 Decimals)\n",
    "\n",
    "pipeline5 = [\n",
    "    # BEGIN SOLUTION\n",
    "    {\n",
    "        \"$unwind\": \"$genres\"\n",
    "    },\n",
    "    {\n",
    "        \"$group\": {\n",
    "            \"_id\": \"$genres\",\n",
    "            \"averageRating\": { \"$avg\": \"$imdb.rating\" },\n",
    "            \"movieCount\": { \"$sum\": 1 }\n",
    "        }\n",
    "    },\n",
    "    {\n",
    "        \"$project\": {\n",
    "            \"_id\": 1,\n",
    "            \"averageRating\": { \"$round\": [\"$averageRating\", 2] },\n",
    "            \"movieCount\": 1\n",
    "        }\n",
    "    }\n",
    "    # END SOLUTION\n",
    "]\n",
    "\n",
    "# Execute the pipeline\n",
    "result5 = list(collection.aggregate(pipeline5))\n",
    "for doc in result5:\n",
    "    print(doc)"
   ]
  },
  {
   "cell_type": "raw",
   "metadata": {},
   "source": [
    "# END SOLUTION"
   ]
  },
  {
   "cell_type": "raw",
   "metadata": {},
   "source": [
    "# BEGIN TESTS"
   ]
  },
  {
   "cell_type": "code",
   "execution_count": 20,
   "metadata": {},
   "outputs": [],
   "source": [
    "# Filter for the genre 'Adventure' and extract the document\n",
    "adventure_doc = list(filter(lambda x: x['_id'] == 'Adventure', result5))[0]\n",
    "\n",
    "# Assert the movie count for 'Adventure'\n",
    "assert adventure_doc['movieCount'] == 1900, f\"expected movieCount 1900 for 'Adventure' but got {adventure_doc['movieCount']}\"\n",
    "\n",
    "# Assert the average rating for 'Adventure'\n",
    "assert adventure_doc['averageRating'] == 6.49, f\"expected averageRating 6.49 for 'Adventure' but got {adventure_doc['averageRating']}\""
   ]
  },
  {
   "cell_type": "raw",
   "metadata": {},
   "source": [
    "# END TESTS"
   ]
  },
  {
   "cell_type": "raw",
   "metadata": {},
   "source": [
    "# END QUESTION"
   ]
  },
  {
   "cell_type": "markdown",
   "metadata": {},
   "source": [
    "### Exercise 6: Implementing ACID Transactions for a Shopping Cart\n",
    "\n",
    "rubric: {accuracy = 4}\n",
    "\n",
    "In this exercise, you will implement an ACID (Atomicity, Consistency, Isolation, Durability) transaction using MongoDB. The goal is to ensure that a series of operations either all succeed or all fail, maintaining the integrity of the database.\n",
    "\n",
    "#### Instructions\n",
    "\n",
    "1. **Setup MongoDB Client**: Ensure you have the MongoDB client installed and connected to your database.\n",
    "2. **Create Collections**: Create two collections in your MongoDB database: `inventory` and `carts`.\n",
    "3. **Insert Sample Data**:\n",
    "    - Insert sample items into the `inventory` collection with fields `item_id` and `quantity`.\n",
    "    - Insert a sample user into the `carts` collection with fields `user_id` and `items`.\n",
    "4. **Implement the Transaction**:\n",
    "    - Write a function `add_to_cart` that performs the following operations within a transaction:\n",
    "        - Check if the inventory has enough quantity for the specified item.\n",
    "        - Deduct the quantity from the inventory.\n",
    "        - Add the item to the user's shopping cart.\n",
    "    - Ensure that if any operation fails, the transaction is aborted and no changes are made to the database.\n",
    "5. **Run the Transaction**: Execute the transaction and handle any errors that may occur.\n",
    "\n",
    "\n"
   ]
  },
  {
   "cell_type": "code",
   "execution_count": 21,
   "metadata": {},
   "outputs": [
    {
     "data": {
      "text/plain": [
       "InsertOneResult(ObjectId('66f43db2de4414a6c3e82b59'), acknowledged=True)"
      ]
     },
     "execution_count": 21,
     "metadata": {},
     "output_type": "execute_result"
    }
   ],
   "source": [
    "from pymongo.errors import ConnectionFailure, OperationFailure\n",
    "from pymongo.write_concern import WriteConcern\n",
    "from pymongo.read_concern import ReadConcern\n",
    "from pymongo.read_preferences import ReadPreference\n",
    "\n",
    "client.drop_database('shop')  # drop the shop database if it exists\n",
    "\n",
    "# Select the database and collections\n",
    "db = client['shop']\n",
    "inventory = db['inventory']\n",
    "carts = db['carts']\n",
    "\n",
    "# Insert sample data into the inventory collection\n",
    "inventory.insert_many([\n",
    "    {'item_id': 'item456', 'quantity': 10},\n",
    "    {'item_id': 'item789', 'quantity': 5},\n",
    "    {'item_id': 'item123', 'quantity': 20}\n",
    "])\n",
    "\n",
    "# Insert sample data into the carts collection\n",
    "carts.insert_one({\n",
    "    'user_id': 'user123',\n",
    "    'items': []\n",
    "})\n"
   ]
  },
  {
   "cell_type": "markdown",
   "metadata": {},
   "source": [
    "#### 6.1 Write a function to check if the inventory has enough quantity for a particular item\n",
    "- raise ValueError if the order_quantity exceed the inventory quantity\n",
    "- Print out a message `Item {item_id} has enough quantity` if the order_quantity <= the inventory quantity"
   ]
  },
  {
   "cell_type": "raw",
   "metadata": {
    "vscode": {
     "languageId": "raw"
    }
   },
   "source": [
    "# BEGIN QUESTION\n",
    "name: ex6.1\n",
    "points: 1"
   ]
  },
  {
   "cell_type": "raw",
   "metadata": {},
   "source": [
    "# BEGIN SOLUTION"
   ]
  },
  {
   "cell_type": "code",
   "execution_count": 22,
   "metadata": {},
   "outputs": [],
   "source": [
    "def check_quantity(item_id, order_quantity):\n",
    "    # BEGIN SOLUTION\n",
    "    # Find the item in the inventory collection\n",
    "    item = inventory.find_one({'item_id': item_id})\n",
    "\n",
    "    # Check if the item exists and has enough quantity\n",
    "    if item and item['quantity'] < order_quantity:\n",
    "        raise ValueError(f\"Not enough inventory for item_id {item_id}\")\n",
    "    else:\n",
    "        print(f\"Item {item_id} has enough quantity\")\n",
    "    # END SOLUTION\n"
   ]
  },
  {
   "cell_type": "raw",
   "metadata": {
    "vscode": {
     "languageId": "raw"
    }
   },
   "source": [
    "# END SOLUTION"
   ]
  },
  {
   "cell_type": "raw",
   "metadata": {},
   "source": [
    "# END QUESTION"
   ]
  },
  {
   "cell_type": "code",
   "execution_count": 23,
   "metadata": {},
   "outputs": [
    {
     "name": "stdout",
     "output_type": "stream",
     "text": [
      "{'_id': ObjectId('66f43db2de4414a6c3e82b58'), 'item_id': 'item123', 'quantity': 20}\n"
     ]
    }
   ],
   "source": [
    "# print out the quantity of item123 from the inventory collection\n",
    "print(inventory.find_one({'item_id': 'item123'}))\n"
   ]
  },
  {
   "cell_type": "code",
   "execution_count": 24,
   "metadata": {},
   "outputs": [
    {
     "name": "stdout",
     "output_type": "stream",
     "text": [
      "Item item123 has enough quantity\n"
     ]
    }
   ],
   "source": [
    "check_quantity('item123', 10) # this should print out a message that item123 has enough quantity"
   ]
  },
  {
   "cell_type": "code",
   "execution_count": 25,
   "metadata": {},
   "outputs": [
    {
     "ename": "ValueError",
     "evalue": "Not enough inventory for item_id item123",
     "output_type": "error",
     "traceback": [
      "\u001b[0;31m---------------------------------------------------------------------------\u001b[0m",
      "\u001b[0;31mValueError\u001b[0m                                Traceback (most recent call last)",
      "Cell \u001b[0;32mIn[25], line 1\u001b[0m\n\u001b[0;32m----> 1\u001b[0m \u001b[43mcheck_quantity\u001b[49m\u001b[43m(\u001b[49m\u001b[38;5;124;43m'\u001b[39;49m\u001b[38;5;124;43mitem123\u001b[39;49m\u001b[38;5;124;43m'\u001b[39;49m\u001b[43m,\u001b[49m\u001b[43m \u001b[49m\u001b[38;5;241;43m100\u001b[39;49m\u001b[43m)\u001b[49m \u001b[38;5;66;03m# this should raise a ValueError\u001b[39;00m\n",
      "Cell \u001b[0;32mIn[22], line 8\u001b[0m, in \u001b[0;36mcheck_quantity\u001b[0;34m(item_id, order_quantity)\u001b[0m\n\u001b[1;32m      6\u001b[0m \u001b[38;5;66;03m# Check if the item exists and has enough quantity\u001b[39;00m\n\u001b[1;32m      7\u001b[0m \u001b[38;5;28;01mif\u001b[39;00m item \u001b[38;5;129;01mand\u001b[39;00m item[\u001b[38;5;124m'\u001b[39m\u001b[38;5;124mquantity\u001b[39m\u001b[38;5;124m'\u001b[39m] \u001b[38;5;241m<\u001b[39m order_quantity:\n\u001b[0;32m----> 8\u001b[0m     \u001b[38;5;28;01mraise\u001b[39;00m \u001b[38;5;167;01mValueError\u001b[39;00m(\u001b[38;5;124mf\u001b[39m\u001b[38;5;124m\"\u001b[39m\u001b[38;5;124mNot enough inventory for item_id \u001b[39m\u001b[38;5;132;01m{\u001b[39;00mitem_id\u001b[38;5;132;01m}\u001b[39;00m\u001b[38;5;124m\"\u001b[39m)\n\u001b[1;32m      9\u001b[0m \u001b[38;5;28;01melse\u001b[39;00m:\n\u001b[1;32m     10\u001b[0m     \u001b[38;5;28mprint\u001b[39m(\u001b[38;5;124mf\u001b[39m\u001b[38;5;124m\"\u001b[39m\u001b[38;5;124mItem \u001b[39m\u001b[38;5;132;01m{\u001b[39;00mitem_id\u001b[38;5;132;01m}\u001b[39;00m\u001b[38;5;124m has enough quantity\u001b[39m\u001b[38;5;124m\"\u001b[39m)\n",
      "\u001b[0;31mValueError\u001b[0m: Not enough inventory for item_id item123"
     ]
    }
   ],
   "source": [
    "check_quantity('item123', 100) # this should raise a ValueError"
   ]
  },
  {
   "cell_type": "markdown",
   "metadata": {},
   "source": [
    "#### 6.2 Write a function to update the quantity from the inventory\n",
    "\n",
    "- Use the `update_one` function to update the quantity of inventory\n",
    "- You can use the `$inc` to increment the quantity of inventory based on the order quantity"
   ]
  },
  {
   "cell_type": "raw",
   "metadata": {
    "vscode": {
     "languageId": "raw"
    }
   },
   "source": [
    "# BEGIN QUESTION\n",
    "name: ex6.2\n",
    "points: 1"
   ]
  },
  {
   "cell_type": "raw",
   "metadata": {},
   "source": [
    "# BEGIN SOLUTION"
   ]
  },
  {
   "cell_type": "code",
   "execution_count": 26,
   "metadata": {},
   "outputs": [],
   "source": [
    "def update_quantity(order_quantity, item_id):\n",
    "    # BEGIN SOLUTION\n",
    "    inventory.update_one(\n",
    "        {'item_id': item_id},\n",
    "        {'$inc': {'quantity': -order_quantity}}\n",
    "    )\n",
    "    # END SOLUTION\n"
   ]
  },
  {
   "cell_type": "raw",
   "metadata": {},
   "source": [
    "# END SOLUTION"
   ]
  },
  {
   "cell_type": "raw",
   "metadata": {},
   "source": [
    "# END QUESTION"
   ]
  },
  {
   "cell_type": "code",
   "execution_count": 27,
   "metadata": {},
   "outputs": [
    {
     "name": "stdout",
     "output_type": "stream",
     "text": [
      "{'_id': ObjectId('66f43db2de4414a6c3e82b58'), 'item_id': 'item123', 'quantity': 20}\n"
     ]
    }
   ],
   "source": [
    "# print out the quantity of item_id 'item123' before updating\n",
    "print(inventory.find_one({'item_id': 'item123'}))"
   ]
  },
  {
   "cell_type": "code",
   "execution_count": 28,
   "metadata": {},
   "outputs": [],
   "source": [
    "\n",
    "# Update the quantity for item_id 'item123'\n",
    "order_quantity = 10\n",
    "item_id = 'item123'\n",
    "update_quantity(order_quantity, item_id)"
   ]
  },
  {
   "cell_type": "code",
   "execution_count": 29,
   "metadata": {},
   "outputs": [
    {
     "name": "stdout",
     "output_type": "stream",
     "text": [
      "{'_id': ObjectId('66f43db2de4414a6c3e82b58'), 'item_id': 'item123', 'quantity': 10}\n"
     ]
    }
   ],
   "source": [
    "# print out the quantity of item_id 'item123' after updating\n",
    "print(inventory.find_one({'item_id': 'item123'}))"
   ]
  },
  {
   "cell_type": "markdown",
   "metadata": {},
   "source": [
    "#### 6.3 Write a function to update user's shopping cart"
   ]
  },
  {
   "cell_type": "markdown",
   "metadata": {},
   "source": [
    "- Use the `update_one` function to update the shopping cart\n",
    "- Use the `$push` operator to an element to an array. If the array does not exist, it will be created."
   ]
  },
  {
   "cell_type": "raw",
   "metadata": {
    "vscode": {
     "languageId": "raw"
    }
   },
   "source": [
    "# BEGIN QUESTION\n",
    "name: ex6.3\n",
    "points: 1"
   ]
  },
  {
   "cell_type": "raw",
   "metadata": {},
   "source": [
    "# BEGIN SOLUTION"
   ]
  },
  {
   "cell_type": "code",
   "execution_count": 30,
   "metadata": {},
   "outputs": [
    {
     "name": "stdout",
     "output_type": "stream",
     "text": [
      "{'_id': ObjectId('66f43db2de4414a6c3e82b59'), 'user_id': 'user123', 'items': []}\n"
     ]
    }
   ],
   "source": [
    "# print out shopping cart before adding items\n",
    "print(carts.find_one({'user_id': 'user123'}))"
   ]
  },
  {
   "cell_type": "code",
   "execution_count": 31,
   "metadata": {},
   "outputs": [],
   "source": [
    "# write a function to add items to the shopping cart\n",
    "def add_to_cart(user_id, item_id, quantity):\n",
    "    # BEGIN SOLUTION\n",
    "    carts.update_one(\n",
    "        {'user_id': user_id},\n",
    "        {'$push': {'items': {'item_id': item_id, 'quantity': quantity}}}\n",
    "    )\n",
    "    # END SOLUTION"
   ]
  },
  {
   "cell_type": "raw",
   "metadata": {},
   "source": [
    "# END SOLUTION"
   ]
  },
  {
   "cell_type": "raw",
   "metadata": {},
   "source": [
    "# END QUESTION"
   ]
  },
  {
   "cell_type": "code",
   "execution_count": 32,
   "metadata": {},
   "outputs": [],
   "source": [
    "# test the function by adding items to the shopping cart\n",
    "add_to_cart('user123', 'item123', 5)"
   ]
  },
  {
   "cell_type": "code",
   "execution_count": 33,
   "metadata": {},
   "outputs": [
    {
     "name": "stdout",
     "output_type": "stream",
     "text": [
      "{'_id': ObjectId('66f43db2de4414a6c3e82b59'), 'user_id': 'user123', 'items': [{'item_id': 'item123', 'quantity': 5}]}\n"
     ]
    }
   ],
   "source": [
    "# print out shopping cart after adding items\n",
    "print(carts.find_one({'user_id': 'user123'}))"
   ]
  },
  {
   "cell_type": "markdown",
   "metadata": {},
   "source": [
    "#### 6.4 Combine everything into a transaction function\n",
    "\n",
    "Create a transaction function that:\n",
    "- First check if the quantity is enough in the inventory, if not, it should raise a ValueError\n",
    "- Update the quantity from the inventory by substracting the order_quantity\n",
    "- Update user's shopping cart with the item_id and the order_quantity"
   ]
  },
  {
   "cell_type": "markdown",
   "metadata": {},
   "source": [
    "Note: You need to add a line `session=session` in the update_one function for inventory and shopping carts"
   ]
  },
  {
   "cell_type": "raw",
   "metadata": {},
   "source": [
    "# BEGIN QUESTION\n",
    "name: ex6.4\n",
    "points: 1"
   ]
  },
  {
   "cell_type": "raw",
   "metadata": {},
   "source": [
    "# BEGIN SOLUTION"
   ]
  },
  {
   "cell_type": "code",
   "execution_count": 34,
   "metadata": {},
   "outputs": [],
   "source": [
    "\n",
    "# Define the transaction function\n",
    "def add_to_cart(session, user_id, item_id, quantity):\n",
    "    # Check if the inventory has enough quantity\n",
    "    # Deduct the quantity from the inventory \n",
    "    # Add the item to the user's shopping cart\n",
    "          \n",
    "    # BEGIN SOLUTION\n",
    "    # Check if the inventory has enough quantity\n",
    "    item = inventory.find_one({'item_id': item_id}, session=session)\n",
    "    if item is None or item['quantity'] < quantity:\n",
    "        raise ValueError(f\"Not enough inventory for item_id {item_id}\")\n",
    "\n",
    "    # Deduct the quantity from the inventory  \n",
    "\n",
    "    inventory.update_one(\n",
    "        {'item_id': item_id},\n",
    "        {'$inc': {'quantity': -quantity}},\n",
    "        session=session\n",
    "    )\n",
    "    \n",
    "    # Add the item to the user's shopping cart\n",
    "    carts.update_one(\n",
    "        {'user_id': user_id},\n",
    "        {'$push': {'items': {'item_id': item_id, 'quantity': quantity}}},\n",
    "        upsert=True,\n",
    "        session=session\n",
    "    )\n",
    "    # END SOLUTION\n"
   ]
  },
  {
   "cell_type": "raw",
   "metadata": {},
   "source": [
    "# END SOLUTION"
   ]
  },
  {
   "cell_type": "raw",
   "metadata": {},
   "source": [
    "# END QUESTION"
   ]
  },
  {
   "cell_type": "code",
   "execution_count": 35,
   "metadata": {},
   "outputs": [
    {
     "name": "stdout",
     "output_type": "stream",
     "text": [
      "Transaction committed.\n"
     ]
    }
   ],
   "source": [
    "\n",
    "# Start a session\n",
    "with client.start_session() as session:\n",
    "    try:\n",
    "        # Start a transaction\n",
    "        session.start_transaction()\n",
    "\n",
    "        # Perform the add to cart operation\n",
    "        add_to_cart(session, 'user123', 'item456', 2)\n",
    "\n",
    "        # Commit the transaction\n",
    "        session.commit_transaction()\n",
    "        print(\"Transaction committed.\")\n",
    "    except (ConnectionFailure, OperationFailure, ValueError) as e:\n",
    "        # Abort the transaction on error\n",
    "        session.abort_transaction()\n",
    "        print(f\"Transaction aborted due to error: {e}\")"
   ]
  },
  {
   "cell_type": "markdown",
   "metadata": {},
   "source": [
    "Let's test the constraint of the transaction. This should throws an error because order_quantity of 200 is exceeding the inventory quantity"
   ]
  },
  {
   "cell_type": "code",
   "execution_count": 36,
   "metadata": {},
   "outputs": [
    {
     "name": "stdout",
     "output_type": "stream",
     "text": [
      "Transaction aborted due to error: Not enough inventory for item_id item456\n"
     ]
    }
   ],
   "source": [
    "\n",
    "# Start a session\n",
    "with client.start_session() as session:\n",
    "    try:\n",
    "        # Start a transaction\n",
    "        session.start_transaction()\n",
    "\n",
    "        # Perform the add to cart operation\n",
    "        add_to_cart(session, 'user123', 'item456', 200)\n",
    "\n",
    "        # Commit the transaction\n",
    "        session.commit_transaction()\n",
    "        print(\"Transaction committed.\")\n",
    "    except (ConnectionFailure, OperationFailure, ValueError) as e:\n",
    "        # Abort the transaction on error\n",
    "        session.abort_transaction()\n",
    "        print(f\"Transaction aborted due to error: {e}\")"
   ]
  },
  {
   "cell_type": "markdown",
   "metadata": {},
   "source": [
    "**There are no auto-tests for Q6, it will be graded manually**"
   ]
  },
  {
   "cell_type": "markdown",
   "metadata": {},
   "source": [
    "## Submission instructions\n",
    "\n",
    "{rubric: mechanics = 5}\n",
    "\n",
    "- Make sure the notebook can run from top to bottom without any error. Restart the kernel and run all cells.\n",
    "- Commit and push your notebook to the github repo\n",
    "- Double check your notebook is rendered properly on Github and you can see all the outputs clearly"
   ]
  }
 ],
 "metadata": {
  "kernelspec": {
   "display_name": "adsc_3610",
   "language": "python",
   "name": "python3"
  },
  "language_info": {
   "codemirror_mode": {
    "name": "ipython",
    "version": 3
   },
   "file_extension": ".py",
   "mimetype": "text/x-python",
   "name": "python",
   "nbconvert_exporter": "python",
   "pygments_lexer": "ipython3",
   "version": "3.12.5"
  }
 },
 "nbformat": 4,
 "nbformat_minor": 2
}

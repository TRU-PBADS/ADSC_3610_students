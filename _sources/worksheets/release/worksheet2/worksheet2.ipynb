{
 "cells": [
  {
   "cell_type": "markdown",
   "metadata": {},
   "source": [
    "# Worksheet 2: Data modelling with MongoDB"
   ]
  },
  {
   "cell_type": "markdown",
   "metadata": {},
   "source": [
    "### Exercise 1: Identify documents and collections\n",
    "\n",
    "#### Case Study: Online Bookstore\n",
    "\n",
    "You are tasked with designing a MongoDB database for an online bookstore. The bookstore sells books, and each book can have multiple authors. Customers can purchase books, and each purchase can contain multiple books. Additionally, customers can leave reviews for books they have purchased.\n",
    "\n",
    "#### Objectives:\n",
    "1. Design the data model for the online bookstore.\n",
    "2. Define the relationships between different entities.\n",
    "3. Create sample documents for each collection.\n"
   ]
  },
  {
   "cell_type": "markdown",
   "metadata": {},
   "source": [
    "\n",
    "#### Step-by-Step Instructions:\n",
    "\n",
    "1. **Identify Entities and Relationships:**\n",
    "    - **Books**: Each book has a title, ISBN, publication date, and a list of authors.\n",
    "    - **Authors**: Each author has a name and a list of books they have written.\n",
    "    - **Customers**: Each customer has a name, email, and a list of purchases.\n",
    "    - **Purchases**: Each purchase has a date, customer reference, and a list of books purchased.\n",
    "    - **Reviews**: Each review has a rating, comment, customer reference, and book reference.\n"
   ]
  },
  {
   "cell_type": "markdown",
   "metadata": {},
   "source": [
    "\n",
    "2. **Design the Data Model:**\n",
    "  \n",
    "Create a template for each of the collection. This should include the key-value pairs in JSON format, specify the data type, and specify possible relationships between collections.\n",
    "\n",
    "Recall that MongoDB supports date type such as: `ObjectId`, `String`, `Integer`, `ISODATE`, etc...\n",
    "\n",
    "For example\n",
    "\n",
    "**Books Collection**:\n",
    "\n",
    "```json\n",
    "        {\n",
    "            \"_id\": ObjectId,\n",
    "            \"title\": String,\n",
    "            \"ISBN\": String,\n",
    "            \"publication_date\": Date,\n",
    "            \"authors\": [ObjectId]  // References to Authors\n",
    "        }\n",
    "        ```        \n"
   ]
  },
  {
   "cell_type": "markdown",
   "metadata": {},
   "source": [
    "- **Authors Collection**:\n",
    "> ENTER YOUR ANSWER HERE\n"
   ]
  },
  {
   "cell_type": "markdown",
   "metadata": {},
   "source": [
    "- **Customers Collection**:\n",
    "> ENTER YOUR ANSWER HERE"
   ]
  },
  {
   "cell_type": "markdown",
   "metadata": {},
   "source": [
    "- **Purchases Collection**:\n",
    "> ENTER YOUR ANSWER HERE"
   ]
  },
  {
   "cell_type": "markdown",
   "metadata": {},
   "source": [
    "- **Reviews Collection**:\n",
    "> ENTER YOUR ANSWER HERE"
   ]
  },
  {
   "cell_type": "markdown",
   "metadata": {},
   "source": [
    "\n",
    "3. **Create Sample Documents:**\n",
    "\n",
    "Now, create a sample document for each of the collection. You can fill in random values of your choice. The purpose of this exercise is to help you envision how the data are going to look like\n",
    "\n",
    "For example\n",
    "**Books Collection**:\n",
    "```json\n",
    "        {\n",
    "            \"_id\": ObjectId(\"60c72b2f9b1d8b3a4c8e4d1a\"),\n",
    "            \"title\": \"MongoDB Basics\",\n",
    "            \"ISBN\": \"1234567890\",\n",
    "            \"publication_date\": ISODate(\"2021-01-01T00:00:00Z\"),\n",
    "            \"authors\": [ObjectId(\"60c72b2f9b1d8b3a4c8e4d1b\")]\n",
    "        }\n",
    "```\n"
   ]
  },
  {
   "cell_type": "markdown",
   "metadata": {},
   "source": [
    "- **Authors Collection**:\n",
    "> ENTER YOUR ANSWER HERE\n"
   ]
  },
  {
   "cell_type": "markdown",
   "metadata": {},
   "source": [
    "- **Customers Collection**:\n",
    "> ENTER YOUR ANSWER HERE"
   ]
  },
  {
   "cell_type": "markdown",
   "metadata": {},
   "source": [
    "- **Purchases Collection**:\n",
    "> ENTER YOUR ANSWER HERE"
   ]
  },
  {
   "cell_type": "markdown",
   "metadata": {},
   "source": [
    "- **Reviews Collection**:\n",
    "> ENTER YOUR ANSWER HERE"
   ]
  },
  {
   "cell_type": "markdown",
   "metadata": {},
   "source": [
    "## Exercise 2: Identify database workload\n",
    "\n",
    "In this exercise, you will extend your data modeling skills by identifying entities and attributes, quantifying entities, and analyzing read and write operations for different types of application users. \n"
   ]
  },
  {
   "cell_type": "markdown",
   "metadata": {},
   "source": [
    "### Quantifying Reads and Writes in the Online Bookstore Example\n",
    "\n",
    "To quantify the read and write operations in the online bookstore example, we need to consider the different types of operations performed by various users (customers and admins) and the frequency of these operations.\n",
    "\n",
    "Fill out the table below with possible operations by customers and admins and specify the estimated frequency, as well as whether it's a read or write operations. You can make your own assumptions.\n",
    "\n",
    "I have added one operation as an example.\n"
   ]
  },
  {
   "cell_type": "markdown",
   "metadata": {},
   "source": [
    "\n",
    "#### Table: Quantifying Reads and Writes\n",
    "\n",
    "| Operation                     | User Type | Read/Write | Frequency (per day) | Description                                                                 |\n",
    "|-------------------------------|-----------|------------|----------------------|-----------------------------------------------------------------------------|\n",
    "| Browse Books                  | Customer  | Read       | 100,000              | Customers browsing the list of available books.                             |\n",
    "|                               |           |            |                      |                                                                             |\n",
    "|                               |           |            |                      |                                                                             |\n",
    "|                               |           |            |                      |                                                                             |\n",
    "|                               |           |            |                      |                                                                             |\n",
    "|                               |           |            |                      |                                                                             |\n",
    "|                               |           |            |                      |                                                                             |\n"
   ]
  },
  {
   "cell_type": "markdown",
   "metadata": {},
   "source": [
    "## Exercise 3: Identifying and Modeling Relationships in MongoDB\n",
    "\n",
    "#### Case Study: Online Bookstore (Continued)\n",
    "\n",
    "In this exercise, you will identify one-to-one, one-to-many, and many-to-many relationships between entities in an online bookstore. You will analyze these entities to determine whether to embed or reference them using common guidelines. Finally, you will model these relationships using both embedded and referenced approaches.\n",
    "\n",
    "#### Objectives:\n",
    "1. Identify one-to-one, one-to-many, and many-to-many relationships between entities.\n",
    "2. Analyze entities to determine whether to embed or reference using common guidelines.\n",
    "3. Model embedded and referenced one-to-one, one-to-many, and many-to-many relationships.\n",
    "\n",
    "#### Step-by-Step Instructions:\n",
    "\n",
    "For each of the following pair of entities, identify:\n",
    "- What type of relationships is there\n",
    "- Determine whether to use embedding or referencing\n",
    "- Give an example in JSON format\n"
   ]
  },
  {
   "cell_type": "markdown",
   "metadata": {},
   "source": [
    "#### Example:\n",
    "\n",
    "**Entities: Books and Reviews**\n",
    "\n",
    "1. **Type of Relationship:** One-to-Many (e.g., one book has many reviews)\n",
    "2. **Embed or Reference:** Embed\n",
    "3. **Explanation:** Reviews are typically small in size and are frequently accessed together with the book details. Embedding reviews within the book document ensures that all related data can be retrieved in a single read operation, improving read performance.\n"
   ]
  },
  {
   "cell_type": "markdown",
   "metadata": {},
   "source": [
    "\n",
    "##### JSON Example:\n",
    "\n"
   ]
  },
  {
   "cell_type": "code",
   "execution_count": null,
   "metadata": {
    "vscode": {
     "languageId": "json"
    }
   },
   "outputs": [],
   "source": [
    "{\n",
    "    \"_id\": ObjectId(\"bookId1\"),\n",
    "    \"title\": \"MongoDB Basics\",\n",
    "    \"ISBN\": \"1234567890\",\n",
    "    \"reviews\": [\n",
    "        {\n",
    "            \"rating\": 5,\n",
    "            \"comment\": \"Great book on MongoDB!\",\n",
    "            \"customer_id\": ObjectId(\"customerId1\")\n",
    "        },\n",
    "        {\n",
    "            \"rating\": 4,\n",
    "            \"comment\": \"Very informative.\",\n",
    "            \"customer_id\": ObjectId(\"customerId2\")\n",
    "        }\n",
    "    ]\n",
    "}"
   ]
  },
  {
   "cell_type": "markdown",
   "metadata": {},
   "source": [
    "\n",
    "**YOUR TURN**\n",
    "\n",
    "For each of the following pairs of entities, identify the type of relationship, decide whether to use embedding or referencing, explain why, and provide a JSON example.\n",
    "\n",
    "1. **Entities: Books and Authors**\n",
    "    - **Type of Relationship:** \n",
    "    - **Embed or Reference:** \n",
    "    - **Explanation:** \n",
    "    - **JSON Example:**\n"
   ]
  },
  {
   "cell_type": "markdown",
   "metadata": {},
   "source": [
    "> YOUR ANSWER HERE"
   ]
  },
  {
   "cell_type": "markdown",
   "metadata": {},
   "source": [
    "\n",
    "1. **Entities: Books and Authors**\n",
    "    - **Type of Relationship:** Many-to-Many\n",
    "    - **Embed or Reference:** Embed for books, and reference for authors\n",
    "    - **Explanation:** Each book can have multiple authors, but each author can also write multiple books. \n",
    "  \n",
    "    - For the books collection, since the number of authors of each book is relatively small, we can directly embed authors information in the books collection. This will help users to retrieve information on authors while browsing a book faster. \n",
    "    - For the authors collection, since each authors can have a large number of books, embedding books information in authors collection would likely result in unbounded documents (it's too long), and slow down the querry time. Hence, it's better to do referencing to books ID in the authors collection\n",
    "    - We will also accept the option to use referencing in authors collection here if you assume each authors only publish a small limited number of books\n",
    "  \n",
    "    - **JSON Example:**\n"
   ]
  },
  {
   "cell_type": "markdown",
   "metadata": {},
   "source": [
    "Books collection (embedded authors)\n",
    "```json\n",
    "{\n",
    "    \"book_id\": \"book_id_3\",\n",
    "    \"title\": \"Good Omens\",\n",
    "    \"ISBN\": \"978-0-06-085398-3\",\n",
    "    \"publication_date\": \"1990-05-01\",\n",
    "    \"authors\": [\n",
    "        {\n",
    "            \"author_id\": \"3\",\n",
    "            \"name\": \"Neil Gaiman\"\n",
    "        },\n",
    "        {\n",
    "            \"author_id\": \"4\",\n",
    "            \"name\": \"Terry Pratchett\"\n",
    "        }\n",
    "    ]\n",
    "}\n",
    "```"
   ]
  },
  {
   "cell_type": "markdown",
   "metadata": {},
   "source": [
    "Authors collection (referencing books)\n",
    "\n",
    "```json\n",
    "{\n",
    "    \"author_id\": \"3\",\n",
    "    \"name\": \"Neil Gaiman\",\n",
    "    \"books\": [\n",
    "        \"book_id_3\",\n",
    "        \"book_id_6\"\n",
    "    ]\n",
    "}\n",
    "```"
   ]
  },
  {
   "cell_type": "markdown",
   "metadata": {},
   "source": [
    "\n",
    "2. **Entities: Customers and Purchases**\n",
    "    - **Type of Relationship:**\n",
    "    - **Embed or Reference:** \n",
    "    - **Explanation:** \n",
    "    - **JSON Example:**\n"
   ]
  },
  {
   "cell_type": "markdown",
   "metadata": {},
   "source": [
    "> YOUR ANSWER HERE"
   ]
  },
  {
   "cell_type": "markdown",
   "metadata": {},
   "source": [
    "\n",
    "2. **Entities: Customers and Purchases**\n",
    "    - **Type of Relationship:** One-to-many\n",
    "    - **Embed or Reference:** We would reference purchase ID in the customers collection. The reason is that each customer can have a large number of purchases, embedding it would result in unbounded documents, extremly long json file and slow down querry time. So referencing would be a better choice here. \n",
    "    - **Explanation:** Each customer can have multiple purchases, but each purchase order belongs to only one customer\n",
    "    - **JSON Example:**\n",
    "\n",
    "```json\n",
    "{\n",
    "    \"customer_id\": \"customer_id_2\",\n",
    "    \"name\": \"Jane Smith\",\n",
    "    \"email\": \"jane.smith@example.com\",\n",
    "    \"purchases\": [\n",
    "        \"purchase_id_1\",\n",
    "        \"purchase_id_2\",\n",
    "        ...,\n",
    "        \"purchase_id_100\"\n",
    "    ]\n",
    "}\n",
    "```\n",
    "\n"
   ]
  },
  {
   "cell_type": "markdown",
   "metadata": {},
   "source": [
    "\n",
    "3. **Entities: Books and Purchases**\n",
    "    - **Type of Relationship:** \n",
    "    - **Embed or Reference:** \n",
    "    - **Explanation:** \n",
    "    - **JSON Example:**\n"
   ]
  },
  {
   "cell_type": "markdown",
   "metadata": {},
   "source": [
    "> YOUR ANSWER HERE"
   ]
  },
  {
   "cell_type": "markdown",
   "metadata": {},
   "source": [
    "\n",
    "3. **Entities: Books and Purchases**\n",
    "    - **Type of Relationship:**: Many-to-many\n",
    "    - **Embed or Reference:** \n",
    "    - **Explanation:** Each book can be purchased multiple times, each purchase order can have multiple books\n",
    "    - For the books collection, we can reference the purchased id since we can have hundreds to millions of purchase orders for a single popular book (e.g. Harry Potter)\n",
    "    - For the purchases collection, we can use either embedding or referencing. If we assume that most purchase order will contain only a small number of books, then we can use embedding. This is most likely to be the case in real-life. If we assume that most purchases order will contain a large number of books (bulk order of 100s of books), then we can use referencing. \n",
    "    - **JSON Example:**\n",
    "**books collection** (referencing purchase ids)\n",
    "```json\n",
    "{\n",
    "    \"book_id\": \"book_id_1\",\n",
    "    \"title\": \"Harry Potter and the Sorcerer's Stone\",\n",
    "    \"ISBN\": \"978-0-590-35340-3\",\n",
    "    \"publication_date\": \"1997-06-26\",\n",
    "    \"purchases\": [\n",
    "        \"purchase_id_1\",\n",
    "        \"purchase_id_2\",\n",
    "        ...,\n",
    "        \"purchase_id_100\"\n",
    "    ]\n",
    "}\n",
    "```\n",
    "\n",
    "**purchase collection** (embed books info)\n",
    "```json\n",
    "{\n",
    "    \"purchase_id\": \"purchase_id_1\",\n",
    "    \"date\": \"2023-10-01\",\n",
    "    \"customer_id\": \"customer_id_1\",\n",
    "    \"books\": [\n",
    "        {\n",
    "            \"book_id\": \"book_id_1\",\n",
    "            \"title\": \"Harry Potter and the Sorcerer's Stone\"\n",
    "        },\n",
    "        {\n",
    "            \"book_id\": \"book_id_2\",\n",
    "            \"title\": \"The Hobbit\"\n",
    "        }\n",
    "    ]\n",
    "}\n",
    "```"
   ]
  },
  {
   "cell_type": "markdown",
   "metadata": {},
   "source": [
    "\n",
    "4. **Entities: Customers and Reviews**\n",
    "    - **Type of Relationship:** \n",
    "    - **Embed or Reference:** \n",
    "    - **Explanation:** \n",
    "    - **JSON Example:**\n"
   ]
  },
  {
   "cell_type": "markdown",
   "metadata": {},
   "source": [
    "> YOUR ANSWER HERE"
   ]
  },
  {
   "cell_type": "markdown",
   "metadata": {},
   "source": [
    "\n",
    "4. **Entities: Customers and Reviews**\n",
    "    - **Type of Relationship:** One-to-many\n",
    "    - **Embed or Reference:** Reference reviews in customer collection\n",
    "    - **Explanation:** Each customer can write multiples reviews, each review belongs to a single customer. We should reference the reviews id in the customer collection because the number of reviews could get quite large, hence referencing would be suitable here. \n",
    "    - **JSON Example:**\n",
    "\n",
    "```json\n",
    "{\n",
    "    \"customer_id\": \"customer_id_1\",\n",
    "    \"name\": \"John Doe\",\n",
    "    \"email\": \"john.doe@example.com\",\n",
    "    \"reviews\": [\n",
    "        \"review_id_1\",\n",
    "        \"review_id_2\",\n",
    "        \"review_id_3\",\n",
    "        \"review_id_4\",\n",
    "        \"review_id_5\",\n",
    "        \"review_id_6\",\n",
    "        \"review_id_7\",\n",
    "        \"review_id_8\",\n",
    "        \"review_id_9\",\n",
    "        \"review_id_10\"\n",
    "    ]\n",
    "}\n",
    "```\n"
   ]
  },
  {
   "cell_type": "markdown",
   "metadata": {},
   "source": [
    "## Submission instructions\n",
    "\n",
    "{rubric: mechanics = 5}\n",
    "\n",
    "- Make sure the notebook can run from top to bottom without any error. Restart the kernel and run all cells.\n",
    "- Commit and push your notebook to the github repo\n",
    "- Double check your notebook is rendered properly on Github and you can see all the outputs clearly\n",
    "- Submit a URL to the github repo that contain this worksheet to Moodle"
   ]
  }
 ],
 "metadata": {
  "kernelspec": {
   "display_name": "adsc_3610",
   "language": "python",
   "name": "python3"
  },
  "language_info": {
   "codemirror_mode": {
    "name": "ipython",
    "version": 3
   },
   "file_extension": ".py",
   "mimetype": "text/x-python",
   "name": "python",
   "nbconvert_exporter": "python",
   "pygments_lexer": "ipython3",
   "version": "3.12.5"
  }
 },
 "nbformat": 4,
 "nbformat_minor": 2
}

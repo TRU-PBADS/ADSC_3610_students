{
 "cells": [
  {
   "cell_type": "markdown",
   "metadata": {},
   "source": [
    "# Worksheet 2: Data modelling with MongoDB"
   ]
  },
  {
   "cell_type": "markdown",
   "metadata": {},
   "source": [
    "### Exercise 1: Identify documents and collections\n",
    "\n",
    "#### Case Study: Online Bookstore\n",
    "\n",
    "You are tasked with designing a MongoDB database for an online bookstore. The bookstore sells books, and each book can have multiple authors. Customers can purchase books, and each purchase can contain multiple books. Additionally, customers can leave reviews for books they have purchased.\n",
    "\n",
    "#### Objectives:\n",
    "1. Design the data model for the online bookstore.\n",
    "2. Define the relationships between different entities.\n",
    "3. Create sample documents for each collection.\n"
   ]
  },
  {
   "cell_type": "markdown",
   "metadata": {},
   "source": [
    "\n",
    "#### Step-by-Step Instructions:\n",
    "\n",
    "1. **Identify Entities and Relationships:**\n",
    "    - **Books**: Each book has a title, ISBN, publication date, and a list of authors.\n",
    "    - **Authors**: Each author has a name and a list of books they have written.\n",
    "    - **Customers**: Each customer has a name, email, and a list of purchases.\n",
    "    - **Purchases**: Each purchase has a date, customer reference, and a list of books purchased.\n",
    "    - **Reviews**: Each review has a rating, comment, customer reference, and book reference.\n"
   ]
  },
  {
   "cell_type": "markdown",
   "metadata": {},
   "source": [
    "\n",
    "2. **Design the Data Model:**\n",
    "  \n",
    "Create a template for each of the collection. This should include the key-value pairs in JSON format, specify the data type, and specify possible relationships between collections.\n",
    "\n",
    "Recall that MongoDB supports date type such as: `ObjectId`, `String`, `Integer`, `ISODATE`, etc...\n",
    "\n",
    "For example\n",
    "\n",
    "**Books Collection**:\n",
    "\n",
    "```json\n",
    "        {\n",
    "            \"_id\": ObjectId,\n",
    "            \"title\": String,\n",
    "            \"ISBN\": String,\n",
    "            \"publication_date\": Date,\n",
    "            \"authors\": [ObjectId]  // References to Authors\n",
    "        }\n",
    "        ```        \n"
   ]
  },
  {
   "cell_type": "markdown",
   "metadata": {},
   "source": [
    "- **Authors Collection**:\n",
    "> ENTER YOUR ANSWER HERE\n"
   ]
  },
  {
   "cell_type": "markdown",
   "metadata": {},
   "source": [
    "- **Customers Collection**:\n",
    "> ENTER YOUR ANSWER HERE"
   ]
  },
  {
   "cell_type": "markdown",
   "metadata": {},
   "source": [
    "- **Purchases Collection**:\n",
    "> ENTER YOUR ANSWER HERE"
   ]
  },
  {
   "cell_type": "markdown",
   "metadata": {},
   "source": [
    "- **Reviews Collection**:\n",
    "> ENTER YOUR ANSWER HERE"
   ]
  },
  {
   "cell_type": "markdown",
   "metadata": {},
   "source": [
    "\n",
    "3. **Create Sample Documents:**\n",
    "\n",
    "Now, create a sample document for each of the collection. You can fill in random values of your choice. The purpose of this exercise is to help you envision how the data are going to look like\n",
    "\n",
    "For example\n",
    "**Books Collection**:\n",
    "```json\n",
    "        {\n",
    "            \"_id\": ObjectId(\"60c72b2f9b1d8b3a4c8e4d1a\"),\n",
    "            \"title\": \"MongoDB Basics\",\n",
    "            \"ISBN\": \"1234567890\",\n",
    "            \"publication_date\": ISODate(\"2021-01-01T00:00:00Z\"),\n",
    "            \"authors\": [ObjectId(\"60c72b2f9b1d8b3a4c8e4d1b\")]\n",
    "        }\n",
    "```\n"
   ]
  },
  {
   "cell_type": "markdown",
   "metadata": {},
   "source": [
    "- **Authors Collection**:\n",
    "> ENTER YOUR ANSWER HERE\n"
   ]
  },
  {
   "cell_type": "markdown",
   "metadata": {},
   "source": [
    "- **Customers Collection**:\n",
    "> ENTER YOUR ANSWER HERE"
   ]
  },
  {
   "cell_type": "markdown",
   "metadata": {},
   "source": [
    "- **Purchases Collection**:\n",
    "> ENTER YOUR ANSWER HERE"
   ]
  },
  {
   "cell_type": "markdown",
   "metadata": {},
   "source": [
    "- **Reviews Collection**:\n",
    "> ENTER YOUR ANSWER HERE"
   ]
  },
  {
   "cell_type": "markdown",
   "metadata": {},
   "source": [
    "## Exercise 2: Identify database workload\n",
    "\n",
    "In this exercise, you will extend your data modeling skills by identifying entities and attributes, quantifying entities, and analyzing read and write operations for different types of application users. \n"
   ]
  },
  {
   "cell_type": "markdown",
   "metadata": {},
   "source": [
    "### Quantifying Reads and Writes in the Online Bookstore Example\n",
    "\n",
    "To quantify the read and write operations in the online bookstore example, we need to consider the different types of operations performed by various users (customers and admins) and the frequency of these operations.\n",
    "\n",
    "Fill out the table below with possible operations by customers and admins and specify the estimated frequency, as well as whether it's a read or write operations. You can make your own assumptions.\n",
    "\n",
    "I have added one operation as an example.\n"
   ]
  },
  {
   "cell_type": "markdown",
   "metadata": {},
   "source": [
    "\n",
    "#### Table: Quantifying Reads and Writes\n",
    "\n",
    "| Operation                     | User Type | Read/Write | Frequency (per day) | Description                                                                 |\n",
    "|-------------------------------|-----------|------------|----------------------|-----------------------------------------------------------------------------|\n",
    "| Browse Books                  | Customer  | Read       | 100,000              | Customers browsing the list of available books.                             |\n",
    "|                               |           |            |                      |                                                                             |\n",
    "|                               |           |            |                      |                                                                             |\n",
    "|                               |           |            |                      |                                                                             |\n",
    "|                               |           |            |                      |                                                                             |\n",
    "|                               |           |            |                      |                                                                             |\n",
    "|                               |           |            |                      |                                                                             |\n"
   ]
  },
  {
   "cell_type": "markdown",
   "metadata": {},
   "source": [
    "## Exercise 3: Identifying and Modeling Relationships in MongoDB\n",
    "\n",
    "#### Case Study: Online Bookstore (Continued)\n",
    "\n",
    "In this exercise, you will identify one-to-one, one-to-many, and many-to-many relationships between entities in an online bookstore. You will analyze these entities to determine whether to embed or reference them using common guidelines. Finally, you will model these relationships using both embedded and referenced approaches.\n",
    "\n",
    "#### Objectives:\n",
    "1. Identify one-to-one, one-to-many, and many-to-many relationships between entities.\n",
    "2. Analyze entities to determine whether to embed or reference using common guidelines.\n",
    "3. Model embedded and referenced one-to-one, one-to-many, and many-to-many relationships.\n",
    "\n",
    "#### Step-by-Step Instructions:\n",
    "\n",
    "For each of the following pair of entities, identify:\n",
    "- What type of relationships is there\n",
    "- Determine whether to use embedding or referencing\n",
    "- Give an example in JSON format\n"
   ]
  },
  {
   "cell_type": "markdown",
   "metadata": {},
   "source": [
    "#### Example:\n",
    "\n",
    "**Entities: Books and Reviews**\n",
    "\n",
    "1. **Type of Relationship:** One-to-Many (e.g., one book has many reviews)\n",
    "2. **Embed or Reference:** Embed\n",
    "3. **Explanation:** Reviews are typically small in size and are frequently accessed together with the book details. Embedding reviews within the book document ensures that all related data can be retrieved in a single read operation, improving read performance.\n"
   ]
  },
  {
   "cell_type": "markdown",
   "metadata": {},
   "source": [
    "\n",
    "##### JSON Example:\n",
    "\n"
   ]
  },
  {
   "cell_type": "code",
   "execution_count": null,
   "metadata": {
    "vscode": {
     "languageId": "json"
    }
   },
   "outputs": [],
   "source": [
    "{\n",
    "    \"_id\": ObjectId(\"bookId1\"),\n",
    "    \"title\": \"MongoDB Basics\",\n",
    "    \"ISBN\": \"1234567890\",\n",
    "    \"reviews\": [\n",
    "        {\n",
    "            \"rating\": 5,\n",
    "            \"comment\": \"Great book on MongoDB!\",\n",
    "            \"customer_id\": ObjectId(\"customerId1\")\n",
    "        },\n",
    "        {\n",
    "            \"rating\": 4,\n",
    "            \"comment\": \"Very informative.\",\n",
    "            \"customer_id\": ObjectId(\"customerId2\")\n",
    "        }\n",
    "    ]\n",
    "}"
   ]
  },
  {
   "cell_type": "markdown",
   "metadata": {},
   "source": [
    "\n",
    "**YOUR TURN**\n",
    "\n",
    "For each of the following pairs of entities, identify the type of relationship, decide whether to use embedding or referencing, explain why, and provide a JSON example.\n",
    "\n",
    "1. **Entities: Books and Authors**\n",
    "    - **Type of Relationship:** \n",
    "    - **Embed or Reference:** \n",
    "    - **Explanation:** \n",
    "    - **JSON Example:**\n"
   ]
  },
  {
   "cell_type": "markdown",
   "metadata": {},
   "source": [
    "> YOUR ANSWER HERE"
   ]
  },
  {
   "cell_type": "markdown",
   "metadata": {},
   "source": [
    "\n",
    "2. **Entities: Customers and Purchases**\n",
    "    - **Type of Relationship:**\n",
    "    - **Embed or Reference:** \n",
    "    - **Explanation:** \n",
    "    - **JSON Example:**\n"
   ]
  },
  {
   "cell_type": "markdown",
   "metadata": {},
   "source": [
    "> YOUR ANSWER HERE"
   ]
  },
  {
   "cell_type": "markdown",
   "metadata": {},
   "source": [
    "\n",
    "3. **Entities: Books and Purchases**\n",
    "    - **Type of Relationship:** \n",
    "    - **Embed or Reference:** \n",
    "    - **Explanation:** \n",
    "    - **JSON Example:**\n"
   ]
  },
  {
   "cell_type": "markdown",
   "metadata": {},
   "source": [
    "> YOUR ANSWER HERE"
   ]
  },
  {
   "cell_type": "markdown",
   "metadata": {},
   "source": [
    "\n",
    "4. **Entities: Customers and Reviews**\n",
    "    - **Type of Relationship:** \n",
    "    - **Embed or Reference:** \n",
    "    - **Explanation:** \n",
    "    - **JSON Example:**\n"
   ]
  },
  {
   "cell_type": "markdown",
   "metadata": {},
   "source": [
    "> YOUR ANSWER HERE"
   ]
  },
  {
   "cell_type": "markdown",
   "metadata": {},
   "source": [
    "## Submission instructions\n",
    "\n",
    "{rubric: mechanics = 5}\n",
    "\n",
    "- Make sure the notebook can run from top to bottom without any error. Restart the kernel and run all cells.\n",
    "- Commit and push your notebook to the github repo\n",
    "- Double check your notebook is rendered properly on Github and you can see all the outputs clearly\n",
    "- Submit a URL to the github repo that contain this worksheet to Moodle"
   ]
  }
 ],
 "metadata": {
  "kernelspec": {
   "display_name": "adsc_3610",
   "language": "python",
   "name": "python3"
  },
  "language_info": {
   "codemirror_mode": {
    "name": "ipython",
    "version": 3
   },
   "file_extension": ".py",
   "mimetype": "text/x-python",
   "name": "python",
   "nbconvert_exporter": "python",
   "pygments_lexer": "ipython3",
   "version": "3.12.5"
  }
 },
 "nbformat": 4,
 "nbformat_minor": 2
}

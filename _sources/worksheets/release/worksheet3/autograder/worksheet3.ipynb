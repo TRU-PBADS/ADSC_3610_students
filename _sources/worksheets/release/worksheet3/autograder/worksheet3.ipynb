{
 "cells": [
  {
   "cell_type": "code",
   "execution_count": null,
   "metadata": {
    "deletable": false,
    "editable": false
   },
   "outputs": [],
   "source": [
    "# Initialize Otter\n",
    "import otter\n",
    "grader = otter.Notebook(\"worksheet3.ipynb\")"
   ]
  },
  {
   "cell_type": "markdown",
   "metadata": {},
   "source": [
    "# Worksheet 3: CRUD operations in MongoDB"
   ]
  },
  {
   "cell_type": "markdown",
   "metadata": {},
   "source": [
    "Welcome! In this week, we will practice some basic CRUD (Create, Replace, Update, Delete) operations in MongoDB using Pymongo."
   ]
  },
  {
   "cell_type": "markdown",
   "metadata": {},
   "source": [
    "## Establish Pymongo connection"
   ]
  },
  {
   "cell_type": "markdown",
   "metadata": {},
   "source": [
    "Recall that in worksheet1, we have created a cluster on MongoDB Atlas and connect to it via Pymongo and a credentials JSON file. Let's reestablish that connection for our exercises.\n",
    "\n",
    "- Make sure you use the `adsc_3610` conda environment.\n",
    "- You might need to copy & paste the `credentials_mongodb.json` file that you used in worksheet1 to the working directory of worksheet3."
   ]
  },
  {
   "cell_type": "code",
   "execution_count": 131,
   "metadata": {},
   "outputs": [],
   "source": [
    "from pymongo import MongoClient # import mongo client to connect\n",
    "import json # import json to load credentials\n",
    "import urllib.parse\n",
    "\n",
    "# load credentials from json file\n",
    "with open('credentials_mongodb.json') as f:\n",
    "    login = json.load(f)\n",
    "\n",
    "# assign credentials to variables\n",
    "username = login['username']\n",
    "password = urllib.parse.quote(login['password'])\n",
    "host = login['host']\n",
    "url = \"mongodb+srv://{}:{}@{}/?retryWrites=true&w=majority\".format(username, password, host)"
   ]
  },
  {
   "cell_type": "code",
   "execution_count": 132,
   "metadata": {},
   "outputs": [],
   "source": [
    "# connect to the database\n",
    "client = MongoClient(url)"
   ]
  },
  {
   "cell_type": "code",
   "execution_count": 133,
   "metadata": {},
   "outputs": [],
   "source": [
    "# drop database books and students if they exist\n",
    "client.drop_database('books')\n",
    "client.drop_database('students')"
   ]
  },
  {
   "cell_type": "markdown",
   "metadata": {},
   "source": [
    "To test if your connection has been succesful, let's try to print out all the databases"
   ]
  },
  {
   "cell_type": "code",
   "execution_count": 134,
   "metadata": {},
   "outputs": [
    {
     "data": {
      "text/plain": [
       "['bookstore',\n",
       " 'sample_airbnb',\n",
       " 'sample_analytics',\n",
       " 'sample_geospatial',\n",
       " 'sample_guides',\n",
       " 'sample_mflix',\n",
       " 'sample_restaurants',\n",
       " 'sample_supplies',\n",
       " 'sample_training',\n",
       " 'sample_weatherdata',\n",
       " 'school',\n",
       " 'admin',\n",
       " 'local']"
      ]
     },
     "execution_count": 134,
     "metadata": {},
     "output_type": "execute_result"
    }
   ],
   "source": [
    "# list all databases\n",
    "client.list_database_names()"
   ]
  },
  {
   "cell_type": "markdown",
   "metadata": {},
   "source": [
    "## MongoDB VScode extension (optional)"
   ]
  },
  {
   "cell_type": "markdown",
   "metadata": {},
   "source": [
    "If you are using VScode, there is a MongoDB extension which provides a handy view of the databases (instead of having to view it on MongoDB Atlas via a browser).\n",
    "\n",
    "To install the extension, navigate to the extension bar in VS code and search for \"mongodb\"\n",
    "\n",
    "![](img/vscode.png)"
   ]
  },
  {
   "cell_type": "markdown",
   "metadata": {},
   "source": [
    "After installing the extension, you can now connect to your MongoDB Atlas cluster via the connection string.\n",
    "\n",
    "![](img/connect.png)"
   ]
  },
  {
   "cell_type": "markdown",
   "metadata": {},
   "source": [
    "To find your connection string, open a browser and navigate to MongoDB Atlas. \n",
    "- Under your cluster, click `connect`\n",
    "- Select `MongoDB for VScode`\n",
    "- Copy that URL and paste it in VScode"
   ]
  },
  {
   "cell_type": "markdown",
   "metadata": {},
   "source": [
    "![](img/string.png)"
   ]
  },
  {
   "cell_type": "markdown",
   "metadata": {},
   "source": [
    "Once connected, you should now be able to see an overview of your databases. Now you can manage your MongoDB and do programming all within VSCode. "
   ]
  },
  {
   "cell_type": "markdown",
   "metadata": {},
   "source": [
    "Now that we have establish the connection to our MongoDB cluster, let's get started with the exercises:"
   ]
  },
  {
   "cell_type": "markdown",
   "metadata": {},
   "source": [
    "## Exercise 1: Import data into MongoDB\n",
    "\n",
    "{rubric: accuracy = 5}\n",
    "\n",
    "Let's first create a new database called `school` and store it in an object named `db`. We then create a new collection called `students`"
   ]
  },
  {
   "cell_type": "code",
   "execution_count": 135,
   "metadata": {},
   "outputs": [],
   "source": [
    "# Step 1: Connect to your MongoDB cluster\n",
    "client = MongoClient(url)\n",
    "\n",
    "# Step 2: Create a new database named 'school' and store it in a variable named db\n",
    "db = client.school\n",
    "\n",
    "# Step 3: Create a collection named 'students' and insert sample documents\n",
    "students = db.students"
   ]
  },
  {
   "cell_type": "markdown",
   "metadata": {},
   "source": [
    "Let's insert a sample student document to our `students` collection"
   ]
  },
  {
   "cell_type": "code",
   "execution_count": 136,
   "metadata": {},
   "outputs": [
    {
     "data": {
      "text/plain": [
       "InsertManyResult([ObjectId('66e8970fc48457d8d5b12655'), ObjectId('66e8970fc48457d8d5b12656'), ObjectId('66e8970fc48457d8d5b12657')], acknowledged=True)"
      ]
     },
     "execution_count": 136,
     "metadata": {},
     "output_type": "execute_result"
    }
   ],
   "source": [
    "# Sample document to insert\n",
    "sample_students = [{\"name\": \"Alice\", \"age\": 20, \"major\": \"Computer Science\"},\n",
    "            {\"name\": \"Bob\", \"age\": 21, \"major\": \"Mathematics\"},\n",
    "            {\"name\": \"Charlie\", \"age\": 22, \"major\": \"Engineering\"}]\n",
    "\n",
    "# Insert the sample document\n",
    "students.insert_many(sample_students)"
   ]
  },
  {
   "cell_type": "markdown",
   "metadata": {},
   "source": [
    "You should see that the document has been inserted into our `students` collection, and it was assigned an `ObjectId`. "
   ]
  },
  {
   "cell_type": "markdown",
   "metadata": {},
   "source": [
    "> Note: Every document in MongoDB must have an `ObjectId`. If it doesn't exist, then MongoDB will create a new one automatically"
   ]
  },
  {
   "cell_type": "markdown",
   "metadata": {},
   "source": [
    "Now we can print out the documents that we just inserted"
   ]
  },
  {
   "cell_type": "code",
   "execution_count": 137,
   "metadata": {},
   "outputs": [
    {
     "data": {
      "text/plain": [
       "{'_id': ObjectId('66e8885dc48457d8d5b1262c'),\n",
       " 'name': 'Alice',\n",
       " 'age': 20,\n",
       " 'major': 'Computer Science',\n",
       " 'gpa': None}"
      ]
     },
     "execution_count": 137,
     "metadata": {},
     "output_type": "execute_result"
    }
   ],
   "source": [
    "# Find the document that was just inserted\n",
    "# The find_one() method returns the first occurrence in the selection.\n",
    "students.find_one()"
   ]
  },
  {
   "cell_type": "code",
   "execution_count": 138,
   "metadata": {},
   "outputs": [
    {
     "data": {
      "text/plain": [
       "{'_id': ObjectId('66e8885dc48457d8d5b1262d'),\n",
       " 'name': 'Bob',\n",
       " 'age': 21,\n",
       " 'major': 'Mathematics',\n",
       " 'gpa': None}"
      ]
     },
     "execution_count": 138,
     "metadata": {},
     "output_type": "execute_result"
    }
   ],
   "source": [
    "# Find the document by a specific attribute\n",
    "students.find_one({\"name\": \"Bob\"})"
   ]
  },
  {
   "cell_type": "code",
   "execution_count": 139,
   "metadata": {},
   "outputs": [
    {
     "name": "stdout",
     "output_type": "stream",
     "text": [
      "{'_id': ObjectId('66e8885dc48457d8d5b1262c'), 'name': 'Alice', 'age': 20, 'major': 'Computer Science', 'gpa': None}\n",
      "{'_id': ObjectId('66e8885dc48457d8d5b1262d'), 'name': 'Bob', 'age': 21, 'major': 'Mathematics', 'gpa': None}\n",
      "{'_id': ObjectId('66e88869c48457d8d5b12631'), 'name': 'Charlie Brown', 'age': 20, 'major': 'Physics', 'email': 'charlie.brown@example.com', 'gpa': None}\n",
      "{'_id': ObjectId('66e88869c48457d8d5b12632'), 'name': 'Diana Prince', 'age': 21, 'major': 'History', 'email': 'diana.prince@example.com', 'gpa': None}\n",
      "{'_id': ObjectId('66e88869c48457d8d5b12636'), 'name': 'Hank Pym', 'age': 21, 'major': 'Biochemistry', 'email': 'hank.pym@example.com', 'gpa': None}\n",
      "{'_id': ObjectId('66e8970fc48457d8d5b12655'), 'name': 'Alice', 'age': 20, 'major': 'Computer Science'}\n",
      "{'_id': ObjectId('66e8970fc48457d8d5b12656'), 'name': 'Bob', 'age': 21, 'major': 'Mathematics'}\n",
      "{'_id': ObjectId('66e8970fc48457d8d5b12657'), 'name': 'Charlie', 'age': 22, 'major': 'Engineering'}\n"
     ]
    }
   ],
   "source": [
    "# Find all documents in the collection\n",
    "# The find() method returns all occurrences in the selection.\n",
    "for student in students.find():\n",
    "    print(student)"
   ]
  },
  {
   "cell_type": "markdown",
   "metadata": {},
   "source": [
    "Now if you navigate to your databases in MongoDB Atlas, or using the VSCode MongoDB extension, you should see there's a new database called `school`. Within that database, there should be a collection named `students`, which contains one document about Alice"
   ]
  },
  {
   "cell_type": "code",
   "execution_count": 140,
   "metadata": {},
   "outputs": [
    {
     "name": "stdout",
     "output_type": "stream",
     "text": [
      "{'_id': ObjectId('66e8885dc48457d8d5b1262d'), 'name': 'Bob', 'age': 21, 'major': 'Mathematics', 'gpa': None}\n",
      "{'_id': ObjectId('66e88869c48457d8d5b12632'), 'name': 'Diana Prince', 'age': 21, 'major': 'History', 'email': 'diana.prince@example.com', 'gpa': None}\n",
      "{'_id': ObjectId('66e88869c48457d8d5b12636'), 'name': 'Hank Pym', 'age': 21, 'major': 'Biochemistry', 'email': 'hank.pym@example.com', 'gpa': None}\n",
      "{'_id': ObjectId('66e8970fc48457d8d5b12656'), 'name': 'Bob', 'age': 21, 'major': 'Mathematics'}\n",
      "{'_id': ObjectId('66e8970fc48457d8d5b12657'), 'name': 'Charlie', 'age': 22, 'major': 'Engineering'}\n"
     ]
    }
   ],
   "source": [
    "# Try to find all documents where age is greater than 20\n",
    "for student in students.find({\"age\": {\"$gt\": 20}}):\n",
    "    print(student)"
   ]
  },
  {
   "cell_type": "markdown",
   "metadata": {},
   "source": [
    "### YOUR TURN\n",
    "\n",
    "### 1.1\n",
    "\n",
    "- Create a new database called `bookstore`, stored it in a variable called `bookstore`\n",
    "- Create a collection called `books`, stored it in a variable called `books`"
   ]
  },
  {
   "cell_type": "code",
   "execution_count": 141,
   "metadata": {
    "tags": [
     "otter_assign_solution_cell"
    ]
   },
   "outputs": [],
   "source": [
    "# Create a new database called `bookstore`, stored it in a variable called `bookstore`\n",
    "# YOUR CODE HERE\n",
    "bookstore = client.bookstore # SOLUTION\n",
    "\n",
    "# Create a collection called `books` \n",
    "# YOUR CODE HERE\n",
    "books = bookstore.books # SOLUTION"
   ]
  },
  {
   "cell_type": "markdown",
   "metadata": {
    "tags": [
     "otter_assign_solution_cell"
    ]
   },
   "source": [
    "Insert the following sample documents in `sample_books` into the `books` collection"
   ]
  },
  {
   "cell_type": "code",
   "execution_count": 142,
   "metadata": {
    "tags": [
     "otter_assign_solution_cell"
    ]
   },
   "outputs": [
    {
     "data": {
      "text/plain": [
       "InsertManyResult([ObjectId('66e8970fc48457d8d5b12658'), ObjectId('66e8970fc48457d8d5b12659'), ObjectId('66e8970fc48457d8d5b1265a')], acknowledged=True)"
      ]
     },
     "execution_count": 142,
     "metadata": {},
     "output_type": "execute_result"
    }
   ],
   "source": [
    "sample_books = [\n",
    "    {\"title\": \"The Great Gatsby\", \"author\": \"F. Scott Fitzgerald\", \"genre\": \"Fiction\", \"price\": 10.99},\n",
    "    {\"title\": \"To Kill a Mockingbird\", \"author\": \"Harper Lee\", \"genre\": \"Fiction\", \"price\": 8.99},\n",
    "    {\"title\": \"A Brief History of Time\", \"author\": \"Stephen Hawking\", \"genre\": \"Non-Fiction\", \"price\": 15.99}\n",
    "]\n",
    "\n",
    "# YOUR CODE HERE\n",
    "\n",
    "# BEGIN SOLUTION\n",
    "# Insert the sample_books into the books collection\n",
    "books.insert_many(sample_books)\n",
    "# END SOLUTION"
   ]
  },
  {
   "cell_type": "markdown",
   "metadata": {
    "tags": [
     "otter_assign_solution_cell"
    ]
   },
   "source": [
    "Print out a book with author as Stephen Hawking"
   ]
  },
  {
   "cell_type": "code",
   "execution_count": 143,
   "metadata": {
    "tags": [
     "otter_assign_solution_cell"
    ]
   },
   "outputs": [
    {
     "data": {
      "text/plain": [
       "{'_id': ObjectId('66e8970fc48457d8d5b1265a'),\n",
       " 'title': 'A Brief History of Time',\n",
       " 'author': 'Stephen Hawking',\n",
       " 'genre': 'Non-Fiction',\n",
       " 'price': 15.99}"
      ]
     },
     "execution_count": 143,
     "metadata": {},
     "output_type": "execute_result"
    }
   ],
   "source": [
    "# Print out a book with author as Stephen Hawking\n",
    "# YOUR CODE HERE\n",
    "books.find_one({\"author\": \"Stephen Hawking\"}) # SOLUTION"
   ]
  },
  {
   "cell_type": "code",
   "execution_count": 144,
   "metadata": {
    "tags": [
     "otter_assign_solution_cell"
    ]
   },
   "outputs": [
    {
     "name": "stdout",
     "output_type": "stream",
     "text": [
      "{'_id': ObjectId('66e89549c48457d8d5b1264a'), 'title': '1984', 'author': 'George Orwell', 'published_year': 1949, 'isbn': '978-0-452-28423-4', 'price': 8.99, 'publisher': 'Unknown'}\n",
      "{'_id': ObjectId('66e89549c48457d8d5b12651'), 'title': 'Fahrenheit 451', 'author': 'Ray Bradbury', 'published_year': 1953, 'isbn': '978-0-7432-4722-2', 'price': 9.49, 'publisher': 'Penguin Books'}\n",
      "{'_id': ObjectId('66e89549c48457d8d5b12652'), 'title': 'Jane Eyre', 'author': 'Charlotte Brontë', 'published_year': 1847, 'isbn': '978-0-14-243720-9', 'price': 8.49, 'publisher': 'Unknown'}\n",
      "{'_id': ObjectId('66e8970fc48457d8d5b12659'), 'title': 'To Kill a Mockingbird', 'author': 'Harper Lee', 'genre': 'Fiction', 'price': 8.99}\n"
     ]
    }
   ],
   "source": [
    "# Print out all books with price less than $10\n",
    "# YOUR CODE HERE\n",
    "for book in books.find({\"price\": {\"$lt\": 10}}): # SOLUTION\n",
    "    print(book) # SOLUTION"
   ]
  },
  {
   "cell_type": "markdown",
   "metadata": {
    "deletable": false,
    "editable": false
   },
   "source": [
    "Run the test below to see if you have done it correctly"
   ]
  },
  {
   "cell_type": "code",
   "execution_count": null,
   "metadata": {
    "deletable": false,
    "editable": false
   },
   "outputs": [],
   "source": [
    "grader.check(\"ex1_1\")"
   ]
  },
  {
   "cell_type": "markdown",
   "metadata": {},
   "source": [
    "### 1.2 Import from JSON"
   ]
  },
  {
   "cell_type": "markdown",
   "metadata": {},
   "source": [
    "Imagine we have a dataset called `students.json` and we would like to import it into the `students` collection in our MongoDB database."
   ]
  },
  {
   "cell_type": "code",
   "execution_count": 148,
   "metadata": {},
   "outputs": [],
   "source": [
    "import json\n",
    "\n",
    "# Step 1: Load JSON data\n",
    "with open('students.json', 'r') as file:\n",
    "    data = json.load(file)\n"
   ]
  },
  {
   "cell_type": "code",
   "execution_count": 149,
   "metadata": {},
   "outputs": [
    {
     "data": {
      "text/plain": [
       "[{'name': 'Alice Johnson',\n",
       "  'age': 22,\n",
       "  'major': 'Computer Science',\n",
       "  'email': 'alice.johnson@example.com'},\n",
       " {'name': 'Bob Smith',\n",
       "  'age': 24,\n",
       "  'major': 'Mathematics',\n",
       "  'email': 'bob.smith@example.com'},\n",
       " {'name': 'Charlie Brown',\n",
       "  'age': 20,\n",
       "  'major': 'Physics',\n",
       "  'email': 'charlie.brown@example.com'},\n",
       " {'name': 'Diana Prince',\n",
       "  'age': 21,\n",
       "  'major': 'History',\n",
       "  'email': 'diana.prince@example.com'},\n",
       " {'name': 'Eve Adams',\n",
       "  'age': 23,\n",
       "  'major': 'Biology',\n",
       "  'email': 'eve.adams@example.com'}]"
      ]
     },
     "execution_count": 149,
     "metadata": {},
     "output_type": "execute_result"
    }
   ],
   "source": [
    "# view what the data looks like (first 5 records)\n",
    "data[:5]"
   ]
  },
  {
   "cell_type": "code",
   "execution_count": 150,
   "metadata": {},
   "outputs": [
    {
     "data": {
      "text/plain": [
       "InsertManyResult([ObjectId('66e89710c48457d8d5b1265b'), ObjectId('66e89710c48457d8d5b1265c'), ObjectId('66e89710c48457d8d5b1265d'), ObjectId('66e89710c48457d8d5b1265e'), ObjectId('66e89710c48457d8d5b1265f'), ObjectId('66e89710c48457d8d5b12660'), ObjectId('66e89710c48457d8d5b12661'), ObjectId('66e89710c48457d8d5b12662'), ObjectId('66e89710c48457d8d5b12663'), ObjectId('66e89710c48457d8d5b12664')], acknowledged=True)"
      ]
     },
     "execution_count": 150,
     "metadata": {},
     "output_type": "execute_result"
    }
   ],
   "source": [
    "\n",
    "# Step 2: Insert JSON data into a collection\n",
    "students.insert_many(data)  # For a list of documents\n"
   ]
  },
  {
   "cell_type": "code",
   "execution_count": 151,
   "metadata": {},
   "outputs": [
    {
     "name": "stdout",
     "output_type": "stream",
     "text": [
      "{'_id': ObjectId('66e8885dc48457d8d5b1262c'), 'name': 'Alice', 'age': 20, 'major': 'Computer Science', 'gpa': None}\n",
      "{'_id': ObjectId('66e8885dc48457d8d5b1262d'), 'name': 'Bob', 'age': 21, 'major': 'Mathematics', 'gpa': None}\n",
      "{'_id': ObjectId('66e88869c48457d8d5b12631'), 'name': 'Charlie Brown', 'age': 20, 'major': 'Physics', 'email': 'charlie.brown@example.com', 'gpa': None}\n",
      "{'_id': ObjectId('66e88869c48457d8d5b12632'), 'name': 'Diana Prince', 'age': 21, 'major': 'History', 'email': 'diana.prince@example.com', 'gpa': None}\n",
      "{'_id': ObjectId('66e88869c48457d8d5b12636'), 'name': 'Hank Pym', 'age': 21, 'major': 'Biochemistry', 'email': 'hank.pym@example.com', 'gpa': None}\n",
      "{'_id': ObjectId('66e8970fc48457d8d5b12655'), 'name': 'Alice', 'age': 20, 'major': 'Computer Science'}\n",
      "{'_id': ObjectId('66e8970fc48457d8d5b12656'), 'name': 'Bob', 'age': 21, 'major': 'Mathematics'}\n",
      "{'_id': ObjectId('66e8970fc48457d8d5b12657'), 'name': 'Charlie', 'age': 22, 'major': 'Engineering'}\n",
      "{'_id': ObjectId('66e89710c48457d8d5b1265b'), 'name': 'Alice Johnson', 'age': 22, 'major': 'Computer Science', 'email': 'alice.johnson@example.com'}\n",
      "{'_id': ObjectId('66e89710c48457d8d5b1265c'), 'name': 'Bob Smith', 'age': 24, 'major': 'Mathematics', 'email': 'bob.smith@example.com'}\n",
      "{'_id': ObjectId('66e89710c48457d8d5b1265d'), 'name': 'Charlie Brown', 'age': 20, 'major': 'Physics', 'email': 'charlie.brown@example.com'}\n",
      "{'_id': ObjectId('66e89710c48457d8d5b1265e'), 'name': 'Diana Prince', 'age': 21, 'major': 'History', 'email': 'diana.prince@example.com'}\n",
      "{'_id': ObjectId('66e89710c48457d8d5b1265f'), 'name': 'Eve Adams', 'age': 23, 'major': 'Biology', 'email': 'eve.adams@example.com'}\n",
      "{'_id': ObjectId('66e89710c48457d8d5b12660'), 'name': 'Frank Wright', 'age': 22, 'major': 'Chemistry', 'email': 'frank.wright@example.com'}\n",
      "{'_id': ObjectId('66e89710c48457d8d5b12661'), 'name': 'Grace Hopper', 'age': 24, 'major': 'Computer Engineering', 'email': 'grace.hopper@example.com'}\n",
      "{'_id': ObjectId('66e89710c48457d8d5b12662'), 'name': 'Hank Pym', 'age': 21, 'major': 'Biochemistry', 'email': 'hank.pym@example.com'}\n",
      "{'_id': ObjectId('66e89710c48457d8d5b12663'), 'name': 'Ivy League', 'age': 23, 'major': 'Literature', 'email': 'ivy.league@example.com'}\n",
      "{'_id': ObjectId('66e89710c48457d8d5b12664'), 'name': 'Jack Daniels', 'age': 22, 'major': 'Business', 'email': 'jack.daniels@example.com'}\n"
     ]
    }
   ],
   "source": [
    "# Find all documents in the collection\n",
    "# The find() method returns all occurrences in the selection.\n",
    "for student in students.find():\n",
    "    print(student)"
   ]
  },
  {
   "cell_type": "markdown",
   "metadata": {
    "deletable": false,
    "editable": false
   },
   "source": [
    "Now it's your turn, import the `books.json` into the `books` collection in the `bookstore` database in your MongoDB."
   ]
  },
  {
   "cell_type": "code",
   "execution_count": 152,
   "metadata": {
    "tags": [
     "otter_assign_solution_cell"
    ]
   },
   "outputs": [
    {
     "data": {
      "text/plain": [
       "InsertManyResult([ObjectId('66e89710c48457d8d5b12665'), ObjectId('66e89710c48457d8d5b12666'), ObjectId('66e89710c48457d8d5b12667'), ObjectId('66e89710c48457d8d5b12668'), ObjectId('66e89710c48457d8d5b12669'), ObjectId('66e89710c48457d8d5b1266a'), ObjectId('66e89710c48457d8d5b1266b'), ObjectId('66e89710c48457d8d5b1266c'), ObjectId('66e89710c48457d8d5b1266d'), ObjectId('66e89710c48457d8d5b1266e')], acknowledged=True)"
      ]
     },
     "execution_count": 152,
     "metadata": {},
     "output_type": "execute_result"
    }
   ],
   "source": [
    "# BEGIN SOLUTION\n",
    "with open('books.json', 'r') as file:\n",
    "    data = json.load(file)\n",
    "\n",
    "books.insert_many(data)  # For a list of documents\n",
    "\n",
    "# END SOLUTION"
   ]
  },
  {
   "cell_type": "code",
   "execution_count": null,
   "metadata": {
    "deletable": false,
    "editable": false
   },
   "outputs": [],
   "source": [
    "grader.check(\"ex1_2\")"
   ]
  },
  {
   "cell_type": "markdown",
   "metadata": {},
   "source": [
    "## Exercise 2: Insert & update new field"
   ]
  },
  {
   "cell_type": "markdown",
   "metadata": {},
   "source": [
    "Let's say we want to add a field called `gpa` to the `students` collection. Here's how"
   ]
  },
  {
   "cell_type": "code",
   "execution_count": 155,
   "metadata": {},
   "outputs": [
    {
     "data": {
      "text/plain": [
       "UpdateResult({'n': 18, 'electionId': ObjectId('7fffffff00000000000000cb'), 'opTime': {'ts': Timestamp(1726519056, 35), 't': 203}, 'nModified': 13, 'ok': 1.0, '$clusterTime': {'clusterTime': Timestamp(1726519056, 35), 'signature': {'hash': b'\\xa0X\\xdd\\x0f\\xde\\x96\\xe2\\xf6\\x19j\\x9e\\xe4\\xe8ab\\x18\\r]\\xd2J', 'keyId': 7381891571605569538}}, 'operationTime': Timestamp(1726519056, 35), 'updatedExisting': True}, acknowledged=True)"
      ]
     },
     "execution_count": 155,
     "metadata": {},
     "output_type": "execute_result"
    }
   ],
   "source": [
    "# Step 1: Define the new field and its value\n",
    "new_field = {\"gpa\": None}\n",
    "\n",
    "# Step 2: Update all documents to include the new field\n",
    "students.update_many({}, {\"$set\": new_field})"
   ]
  },
  {
   "cell_type": "code",
   "execution_count": 156,
   "metadata": {},
   "outputs": [
    {
     "name": "stdout",
     "output_type": "stream",
     "text": [
      "{'_id': ObjectId('66e8885dc48457d8d5b1262c'), 'name': 'Alice', 'age': 20, 'major': 'Computer Science', 'gpa': None}\n",
      "{'_id': ObjectId('66e8885dc48457d8d5b1262d'), 'name': 'Bob', 'age': 21, 'major': 'Mathematics', 'gpa': None}\n",
      "{'_id': ObjectId('66e88869c48457d8d5b12631'), 'name': 'Charlie Brown', 'age': 20, 'major': 'Physics', 'email': 'charlie.brown@example.com', 'gpa': None}\n",
      "{'_id': ObjectId('66e88869c48457d8d5b12632'), 'name': 'Diana Prince', 'age': 21, 'major': 'History', 'email': 'diana.prince@example.com', 'gpa': None}\n",
      "{'_id': ObjectId('66e88869c48457d8d5b12636'), 'name': 'Hank Pym', 'age': 21, 'major': 'Biochemistry', 'email': 'hank.pym@example.com', 'gpa': None}\n",
      "{'_id': ObjectId('66e8970fc48457d8d5b12655'), 'name': 'Alice', 'age': 20, 'major': 'Computer Science', 'gpa': None}\n",
      "{'_id': ObjectId('66e8970fc48457d8d5b12656'), 'name': 'Bob', 'age': 21, 'major': 'Mathematics', 'gpa': None}\n",
      "{'_id': ObjectId('66e8970fc48457d8d5b12657'), 'name': 'Charlie', 'age': 22, 'major': 'Engineering', 'gpa': None}\n",
      "{'_id': ObjectId('66e89710c48457d8d5b1265b'), 'name': 'Alice Johnson', 'age': 22, 'major': 'Computer Science', 'email': 'alice.johnson@example.com', 'gpa': None}\n",
      "{'_id': ObjectId('66e89710c48457d8d5b1265c'), 'name': 'Bob Smith', 'age': 24, 'major': 'Mathematics', 'email': 'bob.smith@example.com', 'gpa': None}\n",
      "{'_id': ObjectId('66e89710c48457d8d5b1265d'), 'name': 'Charlie Brown', 'age': 20, 'major': 'Physics', 'email': 'charlie.brown@example.com', 'gpa': None}\n",
      "{'_id': ObjectId('66e89710c48457d8d5b1265e'), 'name': 'Diana Prince', 'age': 21, 'major': 'History', 'email': 'diana.prince@example.com', 'gpa': None}\n",
      "{'_id': ObjectId('66e89710c48457d8d5b1265f'), 'name': 'Eve Adams', 'age': 23, 'major': 'Biology', 'email': 'eve.adams@example.com', 'gpa': None}\n",
      "{'_id': ObjectId('66e89710c48457d8d5b12660'), 'name': 'Frank Wright', 'age': 22, 'major': 'Chemistry', 'email': 'frank.wright@example.com', 'gpa': None}\n",
      "{'_id': ObjectId('66e89710c48457d8d5b12661'), 'name': 'Grace Hopper', 'age': 24, 'major': 'Computer Engineering', 'email': 'grace.hopper@example.com', 'gpa': None}\n",
      "{'_id': ObjectId('66e89710c48457d8d5b12662'), 'name': 'Hank Pym', 'age': 21, 'major': 'Biochemistry', 'email': 'hank.pym@example.com', 'gpa': None}\n",
      "{'_id': ObjectId('66e89710c48457d8d5b12663'), 'name': 'Ivy League', 'age': 23, 'major': 'Literature', 'email': 'ivy.league@example.com', 'gpa': None}\n",
      "{'_id': ObjectId('66e89710c48457d8d5b12664'), 'name': 'Jack Daniels', 'age': 22, 'major': 'Business', 'email': 'jack.daniels@example.com', 'gpa': None}\n"
     ]
    }
   ],
   "source": [
    "# check if the new field was added\n",
    "for student in students.find():\n",
    "    print(student)"
   ]
  },
  {
   "cell_type": "markdown",
   "metadata": {},
   "source": [
    "Let's try to update the `gpa` of Jack Daniels to 3.4"
   ]
  },
  {
   "cell_type": "code",
   "execution_count": 157,
   "metadata": {},
   "outputs": [
    {
     "data": {
      "text/plain": [
       "UpdateResult({'n': 1, 'electionId': ObjectId('7fffffff00000000000000cb'), 'opTime': {'ts': Timestamp(1726519056, 37), 't': 203}, 'nModified': 1, 'ok': 1.0, '$clusterTime': {'clusterTime': Timestamp(1726519056, 37), 'signature': {'hash': b'\\xa0X\\xdd\\x0f\\xde\\x96\\xe2\\xf6\\x19j\\x9e\\xe4\\xe8ab\\x18\\r]\\xd2J', 'keyId': 7381891571605569538}}, 'operationTime': Timestamp(1726519056, 37), 'updatedExisting': True}, acknowledged=True)"
      ]
     },
     "execution_count": 157,
     "metadata": {},
     "output_type": "execute_result"
    }
   ],
   "source": [
    "# Step 2: Define the filter and the new value\n",
    "filter = {\"name\": \"Jack Daniels\"}\n",
    "new_value = {\"$set\": {\"gpa\": 3.4}}\n",
    "\n",
    "# Step 3: Update the specific document\n",
    "students.update_one(filter, new_value)"
   ]
  },
  {
   "cell_type": "code",
   "execution_count": 158,
   "metadata": {},
   "outputs": [
    {
     "data": {
      "text/plain": [
       "{'_id': ObjectId('66e89710c48457d8d5b12664'),\n",
       " 'name': 'Jack Daniels',\n",
       " 'age': 22,\n",
       " 'major': 'Business',\n",
       " 'email': 'jack.daniels@example.com',\n",
       " 'gpa': 3.4}"
      ]
     },
     "execution_count": 158,
     "metadata": {},
     "output_type": "execute_result"
    }
   ],
   "source": [
    "# check Jack Daniels GPA\n",
    "students.find_one({\"name\": \"Jack Daniels\"})\n",
    "\n"
   ]
  },
  {
   "cell_type": "markdown",
   "metadata": {
    "deletable": false,
    "editable": false
   },
   "source": [
    "Now it's your turn. \n",
    "- Insert a field called `\"publisher\"` into the `books` collection with a default value of `\"Unknown\"`. \n",
    "- Update the `publisher` of the book with the author name is \"Ray Bradbury\", to \"Penguin Books\""
   ]
  },
  {
   "cell_type": "code",
   "execution_count": 159,
   "metadata": {
    "tags": [
     "otter_assign_solution_cell"
    ]
   },
   "outputs": [
    {
     "data": {
      "text/plain": [
       "UpdateResult({'n': 1, 'electionId': ObjectId('7fffffff00000000000000cb'), 'opTime': {'ts': Timestamp(1726519056, 54), 't': 203}, 'nModified': 1, 'ok': 1.0, '$clusterTime': {'clusterTime': Timestamp(1726519056, 54), 'signature': {'hash': b'\\xa0X\\xdd\\x0f\\xde\\x96\\xe2\\xf6\\x19j\\x9e\\xe4\\xe8ab\\x18\\r]\\xd2J', 'keyId': 7381891571605569538}}, 'operationTime': Timestamp(1726519056, 54), 'updatedExisting': True}, acknowledged=True)"
      ]
     },
     "execution_count": 159,
     "metadata": {},
     "output_type": "execute_result"
    }
   ],
   "source": [
    "# BEGIN SOLUTION\n",
    "books.update_many({}, {\"$set\": {\"publisher\": \"Unknown\"}})\n",
    "books.update_one({\"author\": \"Ray Bradbury\"}, {\"$set\": {\"publisher\": \"Penguin Books\"}})\n",
    "# END SOLUTION"
   ]
  },
  {
   "cell_type": "code",
   "execution_count": 160,
   "metadata": {
    "tags": [
     "otter_assign_solution_cell"
    ]
   },
   "outputs": [],
   "source": [
    "# print out the document by Ray Bradbury"
   ]
  },
  {
   "cell_type": "code",
   "execution_count": null,
   "metadata": {
    "deletable": false,
    "editable": false
   },
   "outputs": [],
   "source": [
    "grader.check(\"ex2\")"
   ]
  },
  {
   "cell_type": "markdown",
   "metadata": {},
   "source": [
    "## Exercise 3: Replace"
   ]
  },
  {
   "cell_type": "markdown",
   "metadata": {},
   "source": [
    "Let's print out our student Jack Daniels"
   ]
  },
  {
   "cell_type": "code",
   "execution_count": 162,
   "metadata": {},
   "outputs": [
    {
     "data": {
      "text/plain": [
       "{'_id': ObjectId('66e89710c48457d8d5b12664'),\n",
       " 'name': 'Jack Daniels',\n",
       " 'age': 22,\n",
       " 'major': 'Business',\n",
       " 'email': 'jack.daniels@example.com',\n",
       " 'gpa': 3.4}"
      ]
     },
     "execution_count": 162,
     "metadata": {},
     "output_type": "execute_result"
    }
   ],
   "source": [
    "students.find_one({\"name\": \"Jack Daniels\"})"
   ]
  },
  {
   "cell_type": "markdown",
   "metadata": {},
   "source": [
    "Let's say we want to replace the entire document by a new one. Let's called this `new_student`"
   ]
  },
  {
   "cell_type": "code",
   "execution_count": 163,
   "metadata": {},
   "outputs": [],
   "source": [
    "new_student = {\n",
    "    \"name\": \"John Doe\", \n",
    "    \"age\": 25, \n",
    "    \"major\": \"History\", \n",
    "    \"email\": \"john_doe@gmail.com\",\n",
    "    \"gpa\": 3.1\n",
    "}\n",
    "\n",
    "students.replace_one({\"name\": \"Jack Daniels\"}, new_student)\n",
    "\n",
    "# check if Jack Daniels was replaced\n",
    "students.find_one({\"name\": \"Jack Daniels\"})\n"
   ]
  },
  {
   "cell_type": "code",
   "execution_count": 164,
   "metadata": {},
   "outputs": [
    {
     "data": {
      "text/plain": [
       "{'_id': ObjectId('66e89710c48457d8d5b12664'),\n",
       " 'name': 'John Doe',\n",
       " 'age': 25,\n",
       " 'major': 'History',\n",
       " 'email': 'john_doe@gmail.com',\n",
       " 'gpa': 3.1}"
      ]
     },
     "execution_count": 164,
     "metadata": {},
     "output_type": "execute_result"
    }
   ],
   "source": [
    "students.find_one({\"name\": \"John Doe\"})\n"
   ]
  },
  {
   "cell_type": "markdown",
   "metadata": {},
   "source": [
    "Now it's your turn.\n",
    "\n",
    "Replace the book by Stephen Hawking with the `new_book`"
   ]
  },
  {
   "cell_type": "code",
   "execution_count": 165,
   "metadata": {
    "tags": [
     "otter_assign_solution_cell"
    ]
   },
   "outputs": [
    {
     "data": {
      "text/plain": [
       "UpdateResult({'n': 1, 'electionId': ObjectId('7fffffff00000000000000cb'), 'opTime': {'ts': Timestamp(1726519056, 58), 't': 203}, 'nModified': 1, 'ok': 1.0, '$clusterTime': {'clusterTime': Timestamp(1726519056, 58), 'signature': {'hash': b'\\xa0X\\xdd\\x0f\\xde\\x96\\xe2\\xf6\\x19j\\x9e\\xe4\\xe8ab\\x18\\r]\\xd2J', 'keyId': 7381891571605569538}}, 'operationTime': Timestamp(1726519056, 58), 'updatedExisting': True}, acknowledged=True)"
      ]
     },
     "execution_count": 165,
     "metadata": {},
     "output_type": "execute_result"
    }
   ],
   "source": [
    "new_book = {\n",
    "    \"title\": \"The Universe in a Nutshell\",\n",
    "    \"author\": \"Stephen Hawking\",\n",
    "    \"genre\": \"Non-Fiction\",\n",
    "    \"price\": 12.99,\n",
    "    \"publisher\": \"Bantam Books\"\n",
    "}\n",
    "\n",
    "# YOUR CODE HERE\n",
    "books.replace_one({\"author\": \"Stephen Hawking\"}, new_book) # SOLUTION\n"
   ]
  },
  {
   "cell_type": "code",
   "execution_count": 166,
   "metadata": {
    "tags": [
     "otter_assign_solution_cell"
    ]
   },
   "outputs": [
    {
     "data": {
      "text/plain": [
       "{'_id': ObjectId('66e8970fc48457d8d5b1265a'),\n",
       " 'title': 'The Universe in a Nutshell',\n",
       " 'author': 'Stephen Hawking',\n",
       " 'genre': 'Non-Fiction',\n",
       " 'price': 12.99,\n",
       " 'publisher': 'Bantam Books'}"
      ]
     },
     "execution_count": 166,
     "metadata": {},
     "output_type": "execute_result"
    }
   ],
   "source": [
    "# print out the document by Stephen Hawking\n",
    "books.find_one({\"author\": \"Stephen Hawking\"}) # SOLUTION"
   ]
  },
  {
   "cell_type": "code",
   "execution_count": null,
   "metadata": {
    "deletable": false,
    "editable": false
   },
   "outputs": [],
   "source": [
    "grader.check(\"ex3\")"
   ]
  },
  {
   "cell_type": "markdown",
   "metadata": {},
   "source": [
    "## Exercise 4: Delete\n"
   ]
  },
  {
   "cell_type": "markdown",
   "metadata": {},
   "source": [
    "Let's say I want to delete all documents in the `students` collection where their `age` is above 21"
   ]
  },
  {
   "cell_type": "code",
   "execution_count": 168,
   "metadata": {},
   "outputs": [
    {
     "name": "stdout",
     "output_type": "stream",
     "text": [
      "8  documents deleted.\n",
      "{'_id': ObjectId('66e8885dc48457d8d5b1262c'), 'name': 'Alice', 'age': 20, 'major': 'Computer Science', 'gpa': None}\n",
      "{'_id': ObjectId('66e8885dc48457d8d5b1262d'), 'name': 'Bob', 'age': 21, 'major': 'Mathematics', 'gpa': None}\n",
      "{'_id': ObjectId('66e88869c48457d8d5b12631'), 'name': 'Charlie Brown', 'age': 20, 'major': 'Physics', 'email': 'charlie.brown@example.com', 'gpa': None}\n",
      "{'_id': ObjectId('66e88869c48457d8d5b12632'), 'name': 'Diana Prince', 'age': 21, 'major': 'History', 'email': 'diana.prince@example.com', 'gpa': None}\n",
      "{'_id': ObjectId('66e88869c48457d8d5b12636'), 'name': 'Hank Pym', 'age': 21, 'major': 'Biochemistry', 'email': 'hank.pym@example.com', 'gpa': None}\n",
      "{'_id': ObjectId('66e8970fc48457d8d5b12655'), 'name': 'Alice', 'age': 20, 'major': 'Computer Science', 'gpa': None}\n",
      "{'_id': ObjectId('66e8970fc48457d8d5b12656'), 'name': 'Bob', 'age': 21, 'major': 'Mathematics', 'gpa': None}\n",
      "{'_id': ObjectId('66e89710c48457d8d5b1265d'), 'name': 'Charlie Brown', 'age': 20, 'major': 'Physics', 'email': 'charlie.brown@example.com', 'gpa': None}\n",
      "{'_id': ObjectId('66e89710c48457d8d5b1265e'), 'name': 'Diana Prince', 'age': 21, 'major': 'History', 'email': 'diana.prince@example.com', 'gpa': None}\n",
      "{'_id': ObjectId('66e89710c48457d8d5b12662'), 'name': 'Hank Pym', 'age': 21, 'major': 'Biochemistry', 'email': 'hank.pym@example.com', 'gpa': None}\n"
     ]
    }
   ],
   "source": [
    "# Step 1: Define the filter to find the documents to be deleted\n",
    "filter = {\"age\": {\"$gt\": 21}}\n",
    "\n",
    "# Step 2: Delete the documents\n",
    "result = students.delete_many(filter)\n",
    "\n",
    "# Step 3: Print the number of documents deleted\n",
    "print(result.deleted_count, \" documents deleted.\")\n",
    "\n",
    "# check if the documents were deleted\n",
    "for student in students.find():\n",
    "    print(student)"
   ]
  },
  {
   "cell_type": "markdown",
   "metadata": {},
   "source": [
    "Now it's your turn.\n",
    "\n",
    "Delete all the documents in the `books` collection where the `title` start with letter \"T\" "
   ]
  },
  {
   "cell_type": "markdown",
   "metadata": {},
   "source": [
    "> Hint: You can use regex expression in the filter. For example, if I want all students start with letter \"M\", I would use \n",
    "> \n",
    "> `filter = {\"name\": {\"$regex\": \"^M\"}}`"
   ]
  },
  {
   "cell_type": "code",
   "execution_count": 169,
   "metadata": {
    "tags": [
     "otter_assign_solution_cell"
    ]
   },
   "outputs": [],
   "source": [
    "# Delete all the documents in the `books` collection where the `title` start with letter \"T\"\n",
    "# YOUR CODE HERE\n",
    "# BEGIN SOLUTION\n",
    "filter = {\"title\": {\"$regex\": \"^T\"}} \n",
    "result = books.delete_many(filter) \n",
    "# END SOLUTION\n"
   ]
  },
  {
   "cell_type": "code",
   "execution_count": 170,
   "metadata": {
    "tags": [
     "otter_assign_solution_cell"
    ]
   },
   "outputs": [
    {
     "name": "stdout",
     "output_type": "stream",
     "text": [
      "7  documents deleted.\n"
     ]
    }
   ],
   "source": [
    "# Print the number of documents deleted\n",
    "print(result.deleted_count, \" documents deleted.\") # SOLUTION"
   ]
  },
  {
   "cell_type": "code",
   "execution_count": 171,
   "metadata": {
    "tags": [
     "otter_assign_solution_cell"
    ]
   },
   "outputs": [],
   "source": [
    "# check if the documents were deleted\n",
    "# find all books that start with letter \"T\"\n",
    "for book in books.find({\"title\": {\"$regex\": \"^T\"}}): # SOLUTION\n",
    "    print(book) # SOLUTION"
   ]
  },
  {
   "cell_type": "code",
   "execution_count": 172,
   "metadata": {
    "tags": [
     "otter_assign_solution_cell"
    ]
   },
   "outputs": [
    {
     "name": "stdout",
     "output_type": "stream",
     "text": [
      "{'_id': ObjectId('66e89549c48457d8d5b1264a'), 'title': '1984', 'author': 'George Orwell', 'published_year': 1949, 'isbn': '978-0-452-28423-4', 'price': 8.99, 'publisher': 'Unknown'}\n",
      "{'_id': ObjectId('66e89549c48457d8d5b1264b'), 'title': 'Pride and Prejudice', 'author': 'Jane Austen', 'published_year': 1813, 'isbn': '978-0-19-953556-9', 'price': 12.99, 'publisher': 'Unknown'}\n",
      "{'_id': ObjectId('66e89549c48457d8d5b1264d'), 'title': 'Moby-Dick', 'author': 'Herman Melville', 'published_year': 1851, 'isbn': '978-0-14-243724-7', 'price': 11.99, 'publisher': 'Unknown'}\n",
      "{'_id': ObjectId('66e89549c48457d8d5b1264e'), 'title': 'War and Peace', 'author': 'Leo Tolstoy', 'published_year': 1869, 'isbn': '978-0-14-044793-4', 'price': 14.99, 'publisher': 'Unknown'}\n",
      "{'_id': ObjectId('66e89549c48457d8d5b12651'), 'title': 'Fahrenheit 451', 'author': 'Ray Bradbury', 'published_year': 1953, 'isbn': '978-0-7432-4722-2', 'price': 9.49, 'publisher': 'Penguin Books'}\n",
      "{'_id': ObjectId('66e89549c48457d8d5b12652'), 'title': 'Jane Eyre', 'author': 'Charlotte Brontë', 'published_year': 1847, 'isbn': '978-0-14-243720-9', 'price': 8.49, 'publisher': 'Unknown'}\n",
      "{'_id': ObjectId('66e89710c48457d8d5b12666'), 'title': '1984', 'author': 'George Orwell', 'published_year': 1949, 'isbn': '978-0-452-28423-4', 'price': 8.99, 'publisher': 'Unknown'}\n",
      "{'_id': ObjectId('66e89710c48457d8d5b12667'), 'title': 'Pride and Prejudice', 'author': 'Jane Austen', 'published_year': 1813, 'isbn': '978-0-19-953556-9', 'price': 12.99, 'publisher': 'Unknown'}\n",
      "{'_id': ObjectId('66e89710c48457d8d5b12669'), 'title': 'Moby-Dick', 'author': 'Herman Melville', 'published_year': 1851, 'isbn': '978-0-14-243724-7', 'price': 11.99, 'publisher': 'Unknown'}\n",
      "{'_id': ObjectId('66e89710c48457d8d5b1266a'), 'title': 'War and Peace', 'author': 'Leo Tolstoy', 'published_year': 1869, 'isbn': '978-0-14-044793-4', 'price': 14.99, 'publisher': 'Unknown'}\n",
      "{'_id': ObjectId('66e89710c48457d8d5b1266d'), 'title': 'Fahrenheit 451', 'author': 'Ray Bradbury', 'published_year': 1953, 'isbn': '978-0-7432-4722-2', 'price': 9.49, 'publisher': 'Unknown'}\n",
      "{'_id': ObjectId('66e89710c48457d8d5b1266e'), 'title': 'Jane Eyre', 'author': 'Charlotte Brontë', 'published_year': 1847, 'isbn': '978-0-14-243720-9', 'price': 8.49, 'publisher': 'Unknown'}\n"
     ]
    }
   ],
   "source": [
    "# print all the documents in the collection\n",
    "for book in books.find():   # SOLUTION\n",
    "    print(book) # SOLUTION"
   ]
  },
  {
   "cell_type": "code",
   "execution_count": null,
   "metadata": {
    "deletable": false,
    "editable": false
   },
   "outputs": [],
   "source": [
    "grader.check(\"ex4\")"
   ]
  },
  {
   "cell_type": "markdown",
   "metadata": {},
   "source": [
    "## Exercise 5: Visualize"
   ]
  },
  {
   "cell_type": "markdown",
   "metadata": {},
   "source": [
    "Let's say that we are retriving students data and we want to convert the results to pandas DataFrame"
   ]
  },
  {
   "cell_type": "code",
   "execution_count": 173,
   "metadata": {},
   "outputs": [
    {
     "data": {
      "text/html": [
       "<div>\n",
       "<style scoped>\n",
       "    .dataframe tbody tr th:only-of-type {\n",
       "        vertical-align: middle;\n",
       "    }\n",
       "\n",
       "    .dataframe tbody tr th {\n",
       "        vertical-align: top;\n",
       "    }\n",
       "\n",
       "    .dataframe thead th {\n",
       "        text-align: right;\n",
       "    }\n",
       "</style>\n",
       "<table border=\"1\" class=\"dataframe\">\n",
       "  <thead>\n",
       "    <tr style=\"text-align: right;\">\n",
       "      <th></th>\n",
       "      <th>_id</th>\n",
       "      <th>name</th>\n",
       "      <th>age</th>\n",
       "      <th>major</th>\n",
       "      <th>gpa</th>\n",
       "      <th>email</th>\n",
       "    </tr>\n",
       "  </thead>\n",
       "  <tbody>\n",
       "    <tr>\n",
       "      <th>0</th>\n",
       "      <td>66e8885dc48457d8d5b1262c</td>\n",
       "      <td>Alice</td>\n",
       "      <td>20</td>\n",
       "      <td>Computer Science</td>\n",
       "      <td>None</td>\n",
       "      <td>NaN</td>\n",
       "    </tr>\n",
       "    <tr>\n",
       "      <th>1</th>\n",
       "      <td>66e8885dc48457d8d5b1262d</td>\n",
       "      <td>Bob</td>\n",
       "      <td>21</td>\n",
       "      <td>Mathematics</td>\n",
       "      <td>None</td>\n",
       "      <td>NaN</td>\n",
       "    </tr>\n",
       "    <tr>\n",
       "      <th>2</th>\n",
       "      <td>66e88869c48457d8d5b12631</td>\n",
       "      <td>Charlie Brown</td>\n",
       "      <td>20</td>\n",
       "      <td>Physics</td>\n",
       "      <td>None</td>\n",
       "      <td>charlie.brown@example.com</td>\n",
       "    </tr>\n",
       "    <tr>\n",
       "      <th>3</th>\n",
       "      <td>66e88869c48457d8d5b12632</td>\n",
       "      <td>Diana Prince</td>\n",
       "      <td>21</td>\n",
       "      <td>History</td>\n",
       "      <td>None</td>\n",
       "      <td>diana.prince@example.com</td>\n",
       "    </tr>\n",
       "    <tr>\n",
       "      <th>4</th>\n",
       "      <td>66e88869c48457d8d5b12636</td>\n",
       "      <td>Hank Pym</td>\n",
       "      <td>21</td>\n",
       "      <td>Biochemistry</td>\n",
       "      <td>None</td>\n",
       "      <td>hank.pym@example.com</td>\n",
       "    </tr>\n",
       "  </tbody>\n",
       "</table>\n",
       "</div>"
      ],
      "text/plain": [
       "                        _id           name  age             major   gpa  \\\n",
       "0  66e8885dc48457d8d5b1262c          Alice   20  Computer Science  None   \n",
       "1  66e8885dc48457d8d5b1262d            Bob   21       Mathematics  None   \n",
       "2  66e88869c48457d8d5b12631  Charlie Brown   20           Physics  None   \n",
       "3  66e88869c48457d8d5b12632   Diana Prince   21           History  None   \n",
       "4  66e88869c48457d8d5b12636       Hank Pym   21      Biochemistry  None   \n",
       "\n",
       "                       email  \n",
       "0                        NaN  \n",
       "1                        NaN  \n",
       "2  charlie.brown@example.com  \n",
       "3   diana.prince@example.com  \n",
       "4       hank.pym@example.com  "
      ]
     },
     "execution_count": 173,
     "metadata": {},
     "output_type": "execute_result"
    }
   ],
   "source": [
    "import pandas as pd\n",
    "# Step 2: Query all documents in the collection\n",
    "cursor = students.find()\n",
    "\n",
    "# Step 3: Convert the cursor to a list and then to a DataFrame\n",
    "students_data = list(cursor)\n",
    "df = pd.DataFrame(students_data)\n",
    "\n",
    "# Print the DataFrame to verify\n",
    "df.head()"
   ]
  },
  {
   "cell_type": "markdown",
   "metadata": {},
   "source": [
    "Now let's create a simple bar chart of students' age"
   ]
  },
  {
   "cell_type": "code",
   "execution_count": 174,
   "metadata": {},
   "outputs": [
    {
     "data": {
      "text/plain": [
       "<Axes: title={'center': 'Age Distribution of Students'}, ylabel='Frequency'>"
      ]
     },
     "execution_count": 174,
     "metadata": {},
     "output_type": "execute_result"
    },
    {
     "data": {
      "image/png": "[encoded data removed]",
      "text/plain": [
       "<Figure size 640x480 with 1 Axes>"
      ]
     },
     "metadata": {},
     "output_type": "display_data"
    }
   ],
   "source": [
    "# create a histogram of students age\n",
    "df['age'].plot(kind='hist', title='Age Distribution of Students')"
   ]
  },
  {
   "cell_type": "markdown",
   "metadata": {},
   "source": [
    "Now it's your turn\n",
    "\n",
    "- Convert the `books` collection into a pd.Dataframe called `df_books`\n",
    "- Create a histogram of books' prices"
   ]
  },
  {
   "cell_type": "code",
   "execution_count": 175,
   "metadata": {
    "tags": [
     "otter_assign_solution_cell"
    ]
   },
   "outputs": [
    {
     "data": {
      "text/html": [
       "<div>\n",
       "<style scoped>\n",
       "    .dataframe tbody tr th:only-of-type {\n",
       "        vertical-align: middle;\n",
       "    }\n",
       "\n",
       "    .dataframe tbody tr th {\n",
       "        vertical-align: top;\n",
       "    }\n",
       "\n",
       "    .dataframe thead th {\n",
       "        text-align: right;\n",
       "    }\n",
       "</style>\n",
       "<table border=\"1\" class=\"dataframe\">\n",
       "  <thead>\n",
       "    <tr style=\"text-align: right;\">\n",
       "      <th></th>\n",
       "      <th>_id</th>\n",
       "      <th>title</th>\n",
       "      <th>author</th>\n",
       "      <th>published_year</th>\n",
       "      <th>isbn</th>\n",
       "      <th>price</th>\n",
       "      <th>publisher</th>\n",
       "    </tr>\n",
       "  </thead>\n",
       "  <tbody>\n",
       "    <tr>\n",
       "      <th>0</th>\n",
       "      <td>66e89549c48457d8d5b1264a</td>\n",
       "      <td>1984</td>\n",
       "      <td>George Orwell</td>\n",
       "      <td>1949</td>\n",
       "      <td>978-0-452-28423-4</td>\n",
       "      <td>8.99</td>\n",
       "      <td>Unknown</td>\n",
       "    </tr>\n",
       "    <tr>\n",
       "      <th>1</th>\n",
       "      <td>66e89549c48457d8d5b1264b</td>\n",
       "      <td>Pride and Prejudice</td>\n",
       "      <td>Jane Austen</td>\n",
       "      <td>1813</td>\n",
       "      <td>978-0-19-953556-9</td>\n",
       "      <td>12.99</td>\n",
       "      <td>Unknown</td>\n",
       "    </tr>\n",
       "    <tr>\n",
       "      <th>2</th>\n",
       "      <td>66e89549c48457d8d5b1264d</td>\n",
       "      <td>Moby-Dick</td>\n",
       "      <td>Herman Melville</td>\n",
       "      <td>1851</td>\n",
       "      <td>978-0-14-243724-7</td>\n",
       "      <td>11.99</td>\n",
       "      <td>Unknown</td>\n",
       "    </tr>\n",
       "    <tr>\n",
       "      <th>3</th>\n",
       "      <td>66e89549c48457d8d5b1264e</td>\n",
       "      <td>War and Peace</td>\n",
       "      <td>Leo Tolstoy</td>\n",
       "      <td>1869</td>\n",
       "      <td>978-0-14-044793-4</td>\n",
       "      <td>14.99</td>\n",
       "      <td>Unknown</td>\n",
       "    </tr>\n",
       "    <tr>\n",
       "      <th>4</th>\n",
       "      <td>66e89549c48457d8d5b12651</td>\n",
       "      <td>Fahrenheit 451</td>\n",
       "      <td>Ray Bradbury</td>\n",
       "      <td>1953</td>\n",
       "      <td>978-0-7432-4722-2</td>\n",
       "      <td>9.49</td>\n",
       "      <td>Penguin Books</td>\n",
       "    </tr>\n",
       "    <tr>\n",
       "      <th>5</th>\n",
       "      <td>66e89549c48457d8d5b12652</td>\n",
       "      <td>Jane Eyre</td>\n",
       "      <td>Charlotte Brontë</td>\n",
       "      <td>1847</td>\n",
       "      <td>978-0-14-243720-9</td>\n",
       "      <td>8.49</td>\n",
       "      <td>Unknown</td>\n",
       "    </tr>\n",
       "    <tr>\n",
       "      <th>6</th>\n",
       "      <td>66e89710c48457d8d5b12666</td>\n",
       "      <td>1984</td>\n",
       "      <td>George Orwell</td>\n",
       "      <td>1949</td>\n",
       "      <td>978-0-452-28423-4</td>\n",
       "      <td>8.99</td>\n",
       "      <td>Unknown</td>\n",
       "    </tr>\n",
       "    <tr>\n",
       "      <th>7</th>\n",
       "      <td>66e89710c48457d8d5b12667</td>\n",
       "      <td>Pride and Prejudice</td>\n",
       "      <td>Jane Austen</td>\n",
       "      <td>1813</td>\n",
       "      <td>978-0-19-953556-9</td>\n",
       "      <td>12.99</td>\n",
       "      <td>Unknown</td>\n",
       "    </tr>\n",
       "    <tr>\n",
       "      <th>8</th>\n",
       "      <td>66e89710c48457d8d5b12669</td>\n",
       "      <td>Moby-Dick</td>\n",
       "      <td>Herman Melville</td>\n",
       "      <td>1851</td>\n",
       "      <td>978-0-14-243724-7</td>\n",
       "      <td>11.99</td>\n",
       "      <td>Unknown</td>\n",
       "    </tr>\n",
       "    <tr>\n",
       "      <th>9</th>\n",
       "      <td>66e89710c48457d8d5b1266a</td>\n",
       "      <td>War and Peace</td>\n",
       "      <td>Leo Tolstoy</td>\n",
       "      <td>1869</td>\n",
       "      <td>978-0-14-044793-4</td>\n",
       "      <td>14.99</td>\n",
       "      <td>Unknown</td>\n",
       "    </tr>\n",
       "    <tr>\n",
       "      <th>10</th>\n",
       "      <td>66e89710c48457d8d5b1266d</td>\n",
       "      <td>Fahrenheit 451</td>\n",
       "      <td>Ray Bradbury</td>\n",
       "      <td>1953</td>\n",
       "      <td>978-0-7432-4722-2</td>\n",
       "      <td>9.49</td>\n",
       "      <td>Unknown</td>\n",
       "    </tr>\n",
       "    <tr>\n",
       "      <th>11</th>\n",
       "      <td>66e89710c48457d8d5b1266e</td>\n",
       "      <td>Jane Eyre</td>\n",
       "      <td>Charlotte Brontë</td>\n",
       "      <td>1847</td>\n",
       "      <td>978-0-14-243720-9</td>\n",
       "      <td>8.49</td>\n",
       "      <td>Unknown</td>\n",
       "    </tr>\n",
       "  </tbody>\n",
       "</table>\n",
       "</div>"
      ],
      "text/plain": [
       "                         _id                title            author  \\\n",
       "0   66e89549c48457d8d5b1264a                 1984     George Orwell   \n",
       "1   66e89549c48457d8d5b1264b  Pride and Prejudice       Jane Austen   \n",
       "2   66e89549c48457d8d5b1264d            Moby-Dick   Herman Melville   \n",
       "3   66e89549c48457d8d5b1264e        War and Peace       Leo Tolstoy   \n",
       "4   66e89549c48457d8d5b12651       Fahrenheit 451      Ray Bradbury   \n",
       "5   66e89549c48457d8d5b12652            Jane Eyre  Charlotte Brontë   \n",
       "6   66e89710c48457d8d5b12666                 1984     George Orwell   \n",
       "7   66e89710c48457d8d5b12667  Pride and Prejudice       Jane Austen   \n",
       "8   66e89710c48457d8d5b12669            Moby-Dick   Herman Melville   \n",
       "9   66e89710c48457d8d5b1266a        War and Peace       Leo Tolstoy   \n",
       "10  66e89710c48457d8d5b1266d       Fahrenheit 451      Ray Bradbury   \n",
       "11  66e89710c48457d8d5b1266e            Jane Eyre  Charlotte Brontë   \n",
       "\n",
       "    published_year               isbn  price      publisher  \n",
       "0             1949  978-0-452-28423-4   8.99        Unknown  \n",
       "1             1813  978-0-19-953556-9  12.99        Unknown  \n",
       "2             1851  978-0-14-243724-7  11.99        Unknown  \n",
       "3             1869  978-0-14-044793-4  14.99        Unknown  \n",
       "4             1953  978-0-7432-4722-2   9.49  Penguin Books  \n",
       "5             1847  978-0-14-243720-9   8.49        Unknown  \n",
       "6             1949  978-0-452-28423-4   8.99        Unknown  \n",
       "7             1813  978-0-19-953556-9  12.99        Unknown  \n",
       "8             1851  978-0-14-243724-7  11.99        Unknown  \n",
       "9             1869  978-0-14-044793-4  14.99        Unknown  \n",
       "10            1953  978-0-7432-4722-2   9.49        Unknown  \n",
       "11            1847  978-0-14-243720-9   8.49        Unknown  "
      ]
     },
     "execution_count": 175,
     "metadata": {},
     "output_type": "execute_result"
    }
   ],
   "source": [
    "# Convert the `books` collection into a pd.Dataframe called `df_books`\n",
    "# YOUR CODE HERE\n",
    "# BEGIN SOLUTION\n",
    "cursor = books.find()\n",
    "books_data = list(cursor)\n",
    "df_books = pd.DataFrame(books_data)\n",
    "df_books\n",
    "# END SOLUTION"
   ]
  },
  {
   "cell_type": "code",
   "execution_count": 176,
   "metadata": {
    "tags": [
     "otter_assign_solution_cell"
    ]
   },
   "outputs": [
    {
     "data": {
      "text/plain": [
       "<Axes: title={'center': 'Price Distribution of Books'}, ylabel='Frequency'>"
      ]
     },
     "execution_count": 176,
     "metadata": {},
     "output_type": "execute_result"
    },
    {
     "data": {
      "image/png": "[encoded data removed]",
      "text/plain": [
       "<Figure size 640x480 with 1 Axes>"
      ]
     },
     "metadata": {},
     "output_type": "display_data"
    }
   ],
   "source": [
    "# visualize the distribution of book prices\n",
    "df_books['price'].plot(kind='hist', title='Price Distribution of Books') # SOLUTION"
   ]
  },
  {
   "cell_type": "code",
   "execution_count": null,
   "metadata": {
    "deletable": false,
    "editable": false
   },
   "outputs": [],
   "source": [
    "grader.check(\"ex5\")"
   ]
  },
  {
   "cell_type": "markdown",
   "metadata": {},
   "source": [
    "## Submission instructions\n",
    "\n",
    "{rubric: mechanics = 5}\n",
    "\n",
    "- Make sure the notebook can run from top to bottom without any error. Restart the kernel and run all cells.\n",
    "- Commit and push your notebook to the github repo\n",
    "- Double check your notebook is rendered properly on Github and you can see all the outputs clearly"
   ]
  }
 ],
 "metadata": {
  "kernelspec": {
   "display_name": "adsc_3610",
   "language": "python",
   "name": "python3"
  },
  "language_info": {
   "codemirror_mode": {
    "name": "ipython",
    "version": 3
   },
   "file_extension": ".py",
   "mimetype": "text/x-python",
   "name": "python",
   "nbconvert_exporter": "python",
   "pygments_lexer": "ipython3",
   "version": "3.12.5"
  },
  "otter": {
   "OK_FORMAT": true,
   "tests": {
    "ex1_1": {
     "name": "ex1_1",
     "points": 5,
     "suites": [
      {
       "cases": [
        {
         "code": ">>> assert 'bookstore' in client.list_database_names(), 'bookstore database does not exist'\n>>> assert 'books' in bookstore.list_collection_names(), 'books collection does not exist'\n",
         "hidden": false,
         "locked": false
        },
        {
         "code": ">>> assert books.find_one({'author': 'Stephen Hawking'}) is not None, 'sample_books were not inserted'\n",
         "hidden": false,
         "locked": false
        },
        {
         "code": ">>> assert books.find_one({'title': 'To Kill a Mockingbird'}) is not None, 'To Kill a Mockingbird is not in the collection'\n",
         "hidden": false,
         "locked": false
        }
       ],
       "scored": true,
       "setup": "",
       "teardown": "",
       "type": "doctest"
      }
     ]
    },
    "ex1_2": {
     "name": "ex1_2",
     "points": 5,
     "suites": [
      {
       "cases": [
        {
         "code": ">>> assert books.find_one({'title': 'Pride and Prejudice'}) is not None, 'Pride and Prejudice is not in the collection'\n",
         "hidden": false,
         "locked": false
        },
        {
         "code": ">>> assert books.find_one({'isbn': '978-0-06-112008-4'}) is not None, 'ISBN 978-0-06-112008-4 is not in the collection'\n",
         "hidden": false,
         "locked": false
        }
       ],
       "scored": true,
       "setup": "",
       "teardown": "",
       "type": "doctest"
      }
     ]
    },
    "ex2": {
     "name": "ex2",
     "points": 5,
     "suites": [
      {
       "cases": [
        {
         "code": ">>> assert books.find_one({'author': 'Ray Bradbury'})['publisher'] == 'Penguin Books', 'publisher field was not added'\n",
         "hidden": false,
         "locked": false
        }
       ],
       "scored": true,
       "setup": "",
       "teardown": "",
       "type": "doctest"
      }
     ]
    },
    "ex3": {
     "name": "ex3",
     "points": 5,
     "suites": [
      {
       "cases": [
        {
         "code": ">>> assert books.find_one({'title': 'The Universe in a Nutshell'}) is not None, 'The Universe in a Nutshell is not in the collection'\n",
         "hidden": false,
         "locked": false
        }
       ],
       "scored": true,
       "setup": "",
       "teardown": "",
       "type": "doctest"
      }
     ]
    },
    "ex4": {
     "name": "ex4",
     "points": 5,
     "suites": [
      {
       "cases": [
        {
         "code": ">>> assert books.find_one({'title': {'$regex': '^T'}}) is None, 'There are documents that start with letter T'\n",
         "hidden": false,
         "locked": false
        }
       ],
       "scored": true,
       "setup": "",
       "teardown": "",
       "type": "doctest"
      }
     ]
    },
    "ex5": {
     "name": "ex5",
     "points": 5,
     "suites": [
      {
       "cases": [
        {
         "code": ">>> assert df_books is not None, 'df_books does not exist'\n",
         "hidden": false,
         "locked": false
        },
        {
         "code": ">>> assert 'title' in df_books.columns, 'title column is missing'\n>>> assert 'author' in df_books.columns, 'author column is missing'\n>>> assert 'price' in df_books.columns, 'price column is missing'\n",
         "hidden": false,
         "locked": false
        }
       ],
       "scored": true,
       "setup": "",
       "teardown": "",
       "type": "doctest"
      }
     ]
    }
   }
  }
 },
 "nbformat": 4,
 "nbformat_minor": 2
}

{
 "cells": [
  {
   "cell_type": "code",
   "execution_count": null,
   "metadata": {
    "deletable": false,
    "editable": false
   },
   "outputs": [],
   "source": [
    "# Initialize Otter\n",
    "import otter\n",
    "grader = otter.Notebook(\"worksheet4.ipynb\")"
   ]
  },
  {
   "cell_type": "markdown",
   "metadata": {},
   "source": [
    "# Worksheet 4: Aggregations and ACID transaction in MongoDB"
   ]
  },
  {
   "cell_type": "markdown",
   "metadata": {},
   "source": [
    "## Establish Pymongo connection"
   ]
  },
  {
   "cell_type": "markdown",
   "metadata": {},
   "source": [
    "Recall that in worksheet1, we have created a cluster on MongoDB Atlas and connect to it via Pymongo and a credentials JSON file. Let's reestablish that connection for our exercises.\n",
    "\n",
    "- Make sure you use the `adsc_3610` conda environment.\n",
    "- You might need to copy & paste the `credentials_mongodb.json` file that you used in worksheet1 to the working directory of worksheet3."
   ]
  },
  {
   "cell_type": "code",
   "execution_count": null,
   "metadata": {},
   "outputs": [],
   "source": [
    "from pymongo import MongoClient # import mongo client to connect\n",
    "import json # import json to load credentials\n",
    "import urllib.parse\n",
    "\n",
    "# load credentials from json file\n",
    "with open('credentials_mongodb.json') as f:\n",
    "    login = json.load(f)\n",
    "\n",
    "# assign credentials to variables\n",
    "username = login['username']\n",
    "password = urllib.parse.quote(login['password'])\n",
    "host = login['host']\n",
    "url = \"mongodb+srv://{}:{}@{}/?retryWrites=true&w=majority\".format(username, password, host)"
   ]
  },
  {
   "cell_type": "code",
   "execution_count": null,
   "metadata": {},
   "outputs": [],
   "source": [
    "# connect to the database\n",
    "client = MongoClient(url)"
   ]
  },
  {
   "cell_type": "code",
   "execution_count": null,
   "metadata": {},
   "outputs": [],
   "source": [
    "# drop database books and students if they exist\n",
    "client.drop_database('bookstore')\n",
    "client.drop_database('students')"
   ]
  },
  {
   "cell_type": "markdown",
   "metadata": {},
   "source": [
    "To test if your connection has been succesful, let's try to print out all the databases"
   ]
  },
  {
   "cell_type": "code",
   "execution_count": null,
   "metadata": {},
   "outputs": [],
   "source": [
    "# list all databases\n",
    "client.list_database_names()"
   ]
  },
  {
   "cell_type": "markdown",
   "metadata": {},
   "source": [
    "- Load `sample_mflix` database into an object called db\n",
    "- Load the `movies` collection into an object called `collection`"
   ]
  },
  {
   "cell_type": "code",
   "execution_count": null,
   "metadata": {
    "tags": []
   },
   "outputs": [],
   "source": [
    "db = ...\n",
    "collection = ..."
   ]
  },
  {
   "cell_type": "code",
   "execution_count": null,
   "metadata": {
    "tags": []
   },
   "outputs": [],
   "source": [
    "...\n"
   ]
  },
  {
   "cell_type": "code",
   "execution_count": null,
   "metadata": {
    "deletable": false,
    "editable": false
   },
   "outputs": [],
   "source": [
    "grader.check(\"ex0\")"
   ]
  },
  {
   "cell_type": "markdown",
   "metadata": {},
   "source": [
    "#### Exercise 1: Calculate the Average Rating of Movies by Genre\n",
    "\n",
    "rubric: {accuracy = 2}\n",
    "\n",
    "**Task**: Write an aggregation pipeline to calculate the average imdb rating of movies grouped by genre.\n",
    "\n",
    "**Hint**: First, use `$unwind` stage to unwind the `genres` array before grouping by genre. Use the `$group` stage to group by genre and the `$avg` operator to calculate the average rating.\n",
    "\n"
   ]
  },
  {
   "cell_type": "markdown",
   "metadata": {},
   "source": [
    "Expected output should look something like this:\n",
    "\n",
    "```json\n",
    "{'_id': 'War', 'averageRating': 7.128591954022989}\n",
    "{'_id': 'News', 'averageRating': 7.252272727272728}\n",
    "{'_id': 'Romance', 'averageRating': 6.6564272782136396}\n",
    "...\n",
    "{'_id': 'Sci-Fi', 'averageRating': 6.123609653725079}\n",
    "{'_id': 'Film-Noir', 'averageRating': 7.397402597402598}\n",
    "```"
   ]
  },
  {
   "cell_type": "code",
   "execution_count": null,
   "metadata": {
    "tags": []
   },
   "outputs": [],
   "source": [
    "# Exercise 1: Calculate the Average Rating of Movies by Genre\n",
    "\n",
    "pipeline1 = [\n",
    "    ...\n",
    "]\n",
    "\n",
    "# Execute the pipeline\n",
    "result1 = list(collection.aggregate(pipeline1))\n",
    "for doc in result1:\n",
    "    print(doc)"
   ]
  },
  {
   "cell_type": "code",
   "execution_count": null,
   "metadata": {
    "deletable": false,
    "editable": false
   },
   "outputs": [],
   "source": [
    "grader.check(\"ex1\")"
   ]
  },
  {
   "cell_type": "markdown",
   "metadata": {},
   "source": [
    "\n",
    "\n",
    "#### Exercise 2: Find the Top 5 Movies with the Highest IMDb Rating\n",
    "\n",
    "rubric: {accuracy = 3}\n",
    "\n",
    "**Task**: Write an aggregation pipeline to find the top 5 movies with the highest Tomatoes Viewer rating. In the result, only keep the movies `title` and `tomatoes.viewer.rating` field only, remove `_id` from the result.\n",
    "\n",
    "**Hint**: Use the `$sort` stage to sort by Tomatoes Viewer rating in descending order and the `$limit` stage to limit the results to the top 5. Use `$project` to select fields that you want to include/exclude in the output.\n",
    "\n"
   ]
  },
  {
   "cell_type": "markdown",
   "metadata": {},
   "source": [
    "Expected output:\n",
    "\n",
    "```json\n",
    "...\n",
    "{'title': 'Murder by Natural Causes', 'tomatoes': {'viewer': {'rating': 5.0}}}\n",
    "{'title': 'I Am Maria', 'tomatoes': {'viewer': {'rating': 5.0}}}\n",
    "```"
   ]
  },
  {
   "cell_type": "code",
   "execution_count": null,
   "metadata": {},
   "outputs": [],
   "source": [
    "# print out tomatoes viewer rating of some movies\n",
    "for doc in collection.find({}, {\"_id\": 0,\n",
    "                                \"title\": 1, \n",
    "                                \"tomatoes.viewer.rating\": 1}).limit(5):\n",
    "    print(doc)"
   ]
  },
  {
   "cell_type": "code",
   "execution_count": null,
   "metadata": {
    "tags": []
   },
   "outputs": [],
   "source": [
    "# Exercise 2: Find the Top 5 Movies with the Highest Tomatoes Viewer Rating\n",
    "\n",
    "pipeline2 = [\n",
    "    ...\n",
    "]\n",
    "\n",
    "# Execute the pipeline\n",
    "result2 = list(collection.aggregate(pipeline2))\n",
    "for doc in result2:\n",
    "    print(doc)"
   ]
  },
  {
   "cell_type": "code",
   "execution_count": null,
   "metadata": {
    "deletable": false,
    "editable": false
   },
   "outputs": [],
   "source": [
    "grader.check(\"ex2\")"
   ]
  },
  {
   "cell_type": "markdown",
   "metadata": {},
   "source": [
    "\n",
    "\n",
    "#### Exercise 3: Count the Number of Movies by Year\n",
    "\n",
    "rubric: {accuracy = 2}\n",
    "\n",
    "**Task**: Write an aggregation pipeline to count the number of movies released each year. Sort by count in descending order\n",
    "\n",
    "**Hint**: Use the `$group` stage to group by year and the `$count` operator to count the number of movies. Use the `sort` stage to sort by count\n",
    "\n"
   ]
  },
  {
   "cell_type": "markdown",
   "metadata": {},
   "source": [
    "Expected output:\n",
    "```json\n",
    "...\n",
    "{'_id': 2008, 'count': 886}\n",
    "{'_id': 2010, 'count': 866}\n",
    "...\n",
    "```"
   ]
  },
  {
   "cell_type": "code",
   "execution_count": null,
   "metadata": {
    "tags": []
   },
   "outputs": [],
   "source": [
    "# Exercise 3: Count the Number of Movies by Year\n",
    "\n",
    "pipeline3 = [\n",
    "    ...\n",
    "]\n",
    "\n",
    "# Execute the pipeline\n",
    "result3 = list(collection.aggregate(pipeline3))\n",
    "for doc in result3:\n",
    "    print(doc)"
   ]
  },
  {
   "cell_type": "code",
   "execution_count": null,
   "metadata": {
    "deletable": false,
    "editable": false
   },
   "outputs": [],
   "source": [
    "grader.check(\"ex3\")"
   ]
  },
  {
   "cell_type": "markdown",
   "metadata": {},
   "source": [
    "\n",
    "\n",
    "#### Exercise 4: Find the Top 3 Directors with the Most Movies\n",
    "\n",
    "rubric: {accuracy = 4}\n",
    "\n",
    "**Task**: Write an aggregation pipeline to find the top 3 directors who have directed the most movies.\n",
    "\n",
    "**Hint**: Use the `$group` stage to group by director, the `$count` operator to count the number of movies, the `$sort` stage to sort by the count in descending order, and the `$limit` stage to limit the results to the top 3.\n",
    "\n",
    "You might need to `$unwind` the directors array.\n",
    "\n"
   ]
  },
  {
   "cell_type": "markdown",
   "metadata": {},
   "source": [
    "Expected output:\n",
    "```json\n",
    "{'_id': ..., 'movieCount': ...}\n",
    "{'_id': ..., 'movieCount': ...}\n",
    "{'_id': ..., 'movieCount': ...}\n",
    "```"
   ]
  },
  {
   "cell_type": "code",
   "execution_count": null,
   "metadata": {
    "tags": []
   },
   "outputs": [],
   "source": [
    "# Exercise 4: Find the Top 3 Directors with the Most Movies\n",
    "\n",
    "pipeline4 = [\n",
    "    ...\n",
    "]\n",
    "\n",
    "# Execute the pipeline\n",
    "result4 = list(collection.aggregate(pipeline4))\n",
    "for doc in result4:\n",
    "    print(doc)"
   ]
  },
  {
   "cell_type": "code",
   "execution_count": null,
   "metadata": {
    "deletable": false,
    "editable": false
   },
   "outputs": [],
   "source": [
    "grader.check(\"ex4\")"
   ]
  },
  {
   "cell_type": "markdown",
   "metadata": {},
   "source": [
    "### Exercise 5: Calculate the Average IMDb Rating and Number of Movies for Each Genre (Rounded to 2 Decimals)\n",
    "\n",
    "rubric: {accuracy = 3}\n",
    "\n",
    "**Task**: Write an aggregation pipeline to calculate the average IMDb rating (rounded to 2 decimals) and the number of movies for each genre.\n",
    "\n",
    "**Hint**: Use the `$unwind` stage to deconstruct the genres array, the `$group` stage to group by genre, the `$avg` operator to calculate the average rating, and the `$project` stage to round the average rating to 2 decimal places.\n",
    "\n"
   ]
  },
  {
   "cell_type": "markdown",
   "metadata": {},
   "source": [
    "Expected output:\n",
    "\n",
    "```json\n",
    "...\n",
    "{'_id': 'Crime', 'movieCount': 2457, 'averageRating': 6.69}\n",
    "{'_id': 'Sci-Fi', 'movieCount': 958, 'averageRating': 6.12}\n",
    "...\n",
    "```"
   ]
  },
  {
   "cell_type": "code",
   "execution_count": null,
   "metadata": {
    "tags": []
   },
   "outputs": [],
   "source": [
    "# Exercise 5: Calculate the Average IMDb Rating and Number of Movies for Each Genre (Rounded to 2 Decimals)\n",
    "\n",
    "pipeline5 = [\n",
    "    ...\n",
    "]\n",
    "\n",
    "# Execute the pipeline\n",
    "result5 = list(collection.aggregate(pipeline5))\n",
    "for doc in result5:\n",
    "    print(doc)"
   ]
  },
  {
   "cell_type": "code",
   "execution_count": null,
   "metadata": {
    "deletable": false,
    "editable": false
   },
   "outputs": [],
   "source": [
    "grader.check(\"ex5\")"
   ]
  },
  {
   "cell_type": "markdown",
   "metadata": {},
   "source": [
    "### Exercise 6: Implementing ACID Transactions for a Shopping Cart\n",
    "\n",
    "rubric: {accuracy = 4}\n",
    "\n",
    "In this exercise, you will implement an ACID (Atomicity, Consistency, Isolation, Durability) transaction using MongoDB. The goal is to ensure that a series of operations either all succeed or all fail, maintaining the integrity of the database.\n",
    "\n",
    "#### Instructions\n",
    "\n",
    "1. **Setup MongoDB Client**: Ensure you have the MongoDB client installed and connected to your database.\n",
    "2. **Create Collections**: Create two collections in your MongoDB database: `inventory` and `carts`.\n",
    "3. **Insert Sample Data**:\n",
    "    - Insert sample items into the `inventory` collection with fields `item_id` and `quantity`.\n",
    "    - Insert a sample user into the `carts` collection with fields `user_id` and `items`.\n",
    "4. **Implement the Transaction**:\n",
    "    - Write a function `add_to_cart` that performs the following operations within a transaction:\n",
    "        - Check if the inventory has enough quantity for the specified item.\n",
    "        - Deduct the quantity from the inventory.\n",
    "        - Add the item to the user's shopping cart.\n",
    "    - Ensure that if any operation fails, the transaction is aborted and no changes are made to the database.\n",
    "5. **Run the Transaction**: Execute the transaction and handle any errors that may occur.\n",
    "\n",
    "\n"
   ]
  },
  {
   "cell_type": "code",
   "execution_count": null,
   "metadata": {},
   "outputs": [],
   "source": [
    "from pymongo.errors import ConnectionFailure, OperationFailure\n",
    "from pymongo.write_concern import WriteConcern\n",
    "from pymongo.read_concern import ReadConcern\n",
    "from pymongo.read_preferences import ReadPreference\n",
    "\n",
    "client.drop_database('shop')  # drop the shop database if it exists\n",
    "\n",
    "# Select the database and collections\n",
    "db = client['shop']\n",
    "inventory = db['inventory']\n",
    "carts = db['carts']\n",
    "\n",
    "# Insert sample data into the inventory collection\n",
    "inventory.insert_many([\n",
    "    {'item_id': 'item456', 'quantity': 10},\n",
    "    {'item_id': 'item789', 'quantity': 5},\n",
    "    {'item_id': 'item123', 'quantity': 20}\n",
    "])\n",
    "\n",
    "# Insert sample data into the carts collection\n",
    "carts.insert_one({\n",
    "    'user_id': 'user123',\n",
    "    'items': []\n",
    "})\n"
   ]
  },
  {
   "cell_type": "markdown",
   "metadata": {},
   "source": [
    "#### 6.1 Write a function to check if the inventory has enough quantity for a particular item\n",
    "- raise ValueError if the order_quantity exceed the inventory quantity\n",
    "- Print out a message `Item {item_id} has enough quantity` if the order_quantity <= the inventory quantity"
   ]
  },
  {
   "cell_type": "code",
   "execution_count": null,
   "metadata": {
    "tags": []
   },
   "outputs": [],
   "source": [
    "def check_quantity(item_id, order_quantity):\n",
    "    ...\n"
   ]
  },
  {
   "cell_type": "code",
   "execution_count": null,
   "metadata": {},
   "outputs": [],
   "source": [
    "# print out the quantity of item123 from the inventory collection\n",
    "print(inventory.find_one({'item_id': 'item123'}))\n"
   ]
  },
  {
   "cell_type": "code",
   "execution_count": null,
   "metadata": {},
   "outputs": [],
   "source": [
    "check_quantity('item123', 10) # this should print out a message that item123 has enough quantity"
   ]
  },
  {
   "cell_type": "code",
   "execution_count": null,
   "metadata": {},
   "outputs": [],
   "source": [
    "check_quantity('item123', 100) # this should raise a ValueError"
   ]
  },
  {
   "cell_type": "markdown",
   "metadata": {},
   "source": [
    "#### 6.2 Write a function to update the quantity from the inventory\n",
    "\n",
    "- Use the `update_one` function to update the quantity of inventory\n",
    "- You can use the `$inc` to increment the quantity of inventory based on the order quantity"
   ]
  },
  {
   "cell_type": "code",
   "execution_count": null,
   "metadata": {
    "tags": []
   },
   "outputs": [],
   "source": [
    "def update_quantity(order_quantity, item_id):\n",
    "    ...\n"
   ]
  },
  {
   "cell_type": "code",
   "execution_count": null,
   "metadata": {},
   "outputs": [],
   "source": [
    "# print out the quantity of item_id 'item123' before updating\n",
    "print(inventory.find_one({'item_id': 'item123'}))"
   ]
  },
  {
   "cell_type": "code",
   "execution_count": null,
   "metadata": {},
   "outputs": [],
   "source": [
    "\n",
    "# Update the quantity for item_id 'item123'\n",
    "order_quantity = 10\n",
    "item_id = 'item123'\n",
    "update_quantity(order_quantity, item_id)"
   ]
  },
  {
   "cell_type": "code",
   "execution_count": null,
   "metadata": {},
   "outputs": [],
   "source": [
    "# print out the quantity of item_id 'item123' after updating\n",
    "print(inventory.find_one({'item_id': 'item123'}))"
   ]
  },
  {
   "cell_type": "markdown",
   "metadata": {},
   "source": [
    "#### 6.3 Write a function to update user's shopping cart"
   ]
  },
  {
   "cell_type": "markdown",
   "metadata": {},
   "source": [
    "- Use the `update_one` function to update the shopping cart\n",
    "- Use the `$push` operator to an element to an array. If the array does not exist, it will be created."
   ]
  },
  {
   "cell_type": "code",
   "execution_count": null,
   "metadata": {
    "tags": []
   },
   "outputs": [],
   "source": [
    "# print out shopping cart before adding items\n",
    "print(carts.find_one({'user_id': 'user123'}))"
   ]
  },
  {
   "cell_type": "code",
   "execution_count": null,
   "metadata": {
    "tags": []
   },
   "outputs": [],
   "source": [
    "# write a function to add items to the shopping cart\n",
    "def add_to_cart(user_id, item_id, quantity):\n",
    "    ..."
   ]
  },
  {
   "cell_type": "code",
   "execution_count": null,
   "metadata": {},
   "outputs": [],
   "source": [
    "# test the function by adding items to the shopping cart\n",
    "add_to_cart('user123', 'item123', 5)"
   ]
  },
  {
   "cell_type": "code",
   "execution_count": null,
   "metadata": {},
   "outputs": [],
   "source": [
    "# print out shopping cart after adding items\n",
    "print(carts.find_one({'user_id': 'user123'}))"
   ]
  },
  {
   "cell_type": "markdown",
   "metadata": {},
   "source": [
    "#### 6.4 Combine everything into a transaction function\n",
    "\n",
    "Create a transaction function that:\n",
    "- First check if the quantity is enough in the inventory, if not, it should raise a ValueError\n",
    "- Update the quantity from the inventory by substracting the order_quantity\n",
    "- Update user's shopping cart with the item_id and the order_quantity"
   ]
  },
  {
   "cell_type": "markdown",
   "metadata": {},
   "source": [
    "Note: You need to add a line `session=session` in the update_one function for inventory and shopping carts"
   ]
  },
  {
   "cell_type": "code",
   "execution_count": null,
   "metadata": {
    "tags": []
   },
   "outputs": [],
   "source": [
    "\n",
    "# Define the transaction function\n",
    "def add_to_cart(session, user_id, item_id, quantity):\n",
    "    # Check if the inventory has enough quantity\n",
    "    # Deduct the quantity from the inventory \n",
    "    # Add the item to the user's shopping cart\n",
    "          \n",
    "    ...\n"
   ]
  },
  {
   "cell_type": "code",
   "execution_count": null,
   "metadata": {},
   "outputs": [],
   "source": [
    "\n",
    "# Start a session\n",
    "with client.start_session() as session:\n",
    "    try:\n",
    "        # Start a transaction\n",
    "        session.start_transaction()\n",
    "\n",
    "        # Perform the add to cart operation\n",
    "        add_to_cart(session, 'user123', 'item456', 2)\n",
    "\n",
    "        # Commit the transaction\n",
    "        session.commit_transaction()\n",
    "        print(\"Transaction committed.\")\n",
    "    except (ConnectionFailure, OperationFailure, ValueError) as e:\n",
    "        # Abort the transaction on error\n",
    "        session.abort_transaction()\n",
    "        print(f\"Transaction aborted due to error: {e}\")"
   ]
  },
  {
   "cell_type": "markdown",
   "metadata": {},
   "source": [
    "Let's test the constraint of the transaction. This should throws an error because order_quantity of 200 is exceeding the inventory quantity"
   ]
  },
  {
   "cell_type": "code",
   "execution_count": null,
   "metadata": {},
   "outputs": [],
   "source": [
    "\n",
    "# Start a session\n",
    "with client.start_session() as session:\n",
    "    try:\n",
    "        # Start a transaction\n",
    "        session.start_transaction()\n",
    "\n",
    "        # Perform the add to cart operation\n",
    "        add_to_cart(session, 'user123', 'item456', 200)\n",
    "\n",
    "        # Commit the transaction\n",
    "        session.commit_transaction()\n",
    "        print(\"Transaction committed.\")\n",
    "    except (ConnectionFailure, OperationFailure, ValueError) as e:\n",
    "        # Abort the transaction on error\n",
    "        session.abort_transaction()\n",
    "        print(f\"Transaction aborted due to error: {e}\")"
   ]
  },
  {
   "cell_type": "markdown",
   "metadata": {},
   "source": [
    "**There are no auto-tests for Q6, it will be graded manually**"
   ]
  },
  {
   "cell_type": "markdown",
   "metadata": {},
   "source": [
    "## Submission instructions\n",
    "\n",
    "{rubric: mechanics = 5}\n",
    "\n",
    "- Make sure the notebook can run from top to bottom without any error. Restart the kernel and run all cells.\n",
    "- Commit and push your notebook to the github repo\n",
    "- Double check your notebook is rendered properly on Github and you can see all the outputs clearly"
   ]
  }
 ],
 "metadata": {
  "kernelspec": {
   "display_name": "adsc_3610",
   "language": "python",
   "name": "python3"
  },
  "language_info": {
   "codemirror_mode": {
    "name": "ipython",
    "version": 3
   },
   "file_extension": ".py",
   "mimetype": "text/x-python",
   "name": "python",
   "nbconvert_exporter": "python",
   "pygments_lexer": "ipython3",
   "version": "3.12.5"
  },
  "otter": {
   "OK_FORMAT": true,
   "tests": {
    "ex0": {
     "name": "ex0",
     "points": 1,
     "suites": [
      {
       "cases": [
        {
         "code": ">>> assert db.name == 'sample_mflix', f\"expected db name to be 'sample_mflix' but got {db.name}\"\n>>> assert set(db.list_collection_names()) == set(['sessions', 'comments', 'movies', 'theaters', 'users', 'embedded_movies'])\n>>> assert collection.name == 'movies', f\"expected collection name to be 'movies' but got {collection.name}\"\n>>> assert collection.count_documents({}) == 21349, f'expected 21349 documents but got {collection.count_documents({})}'\n",
         "hidden": false,
         "locked": false
        }
       ],
       "scored": true,
       "setup": "",
       "teardown": "",
       "type": "doctest"
      }
     ]
    },
    "ex1": {
     "name": "ex1",
     "points": 5,
     "suites": [
      {
       "cases": [
        {
         "code": ">>> import numpy as np\n>>> mystery_rating = list(filter(lambda x: x['_id'] == 'Mystery', result1))[0]['averageRating']\n>>> assert np.isclose(mystery_rating, 6.527425044091, atol=0.01), f'expected average rating close to 6.53 but got {mystery_rating}'\n",
         "hidden": false,
         "locked": false
        }
       ],
       "scored": true,
       "setup": "",
       "teardown": "",
       "type": "doctest"
      }
     ]
    },
    "ex2": {
     "name": "ex2",
     "points": 5,
     "suites": [
      {
       "cases": [
        {
         "code": ">>> assert len(result2) == 5, f'Expected 5 documents, but found {len(result2)}'\n>>> assert set(result2[0].keys()) == set(['title', 'tomatoes']), f\"Expected keys: ['title', 'tomatoes'], but found {result2[0].keys()}\"\n>>> expected_titles = ['Kadin Hamlet', 'The Seine Meets Paris', 'Night Function', 'Murder by Natural Causes', 'I Am Maria']\n>>> result_titles = [doc['title'] for doc in result2]\n>>> assert set(result_titles) == set(expected_titles), f'Expected titles: {expected_titles}, but found: {result_titles}'\n",
         "hidden": false,
         "locked": false
        }
       ],
       "scored": true,
       "setup": "",
       "teardown": "",
       "type": "doctest"
      }
     ]
    },
    "ex3": {
     "name": "ex3",
     "points": 5,
     "suites": [
      {
       "cases": [
        {
         "code": ">>> count_2013 = list(filter(lambda x: x['_id'] == 2013, result3))[0]['count']\n>>> assert count_2013 == 1105, f'expected count 1105 for the year 2013 but got {count_2013}'\n",
         "hidden": false,
         "locked": false
        },
        {
         "code": ">>> count_2014 = list(filter(lambda x: x['_id'] == 2014, result3))[0]['count']\n>>> assert count_2014 == 1073, f'expected count 1073 for the year 2014 but got {count_2014}'\n",
         "hidden": false,
         "locked": false
        }
       ],
       "scored": true,
       "setup": "",
       "teardown": "",
       "type": "doctest"
      }
     ]
    },
    "ex4": {
     "name": "ex4",
     "points": 5,
     "suites": [
      {
       "cases": [
        {
         "code": ">>> assert set([doc['_id'] for doc in result4]) == set(['Woody Allen', 'Martin Scorsese', 'Takashi Miike']), f\"expected directors: ['Woody Allen', 'Martin Scorsese', 'Takashi Miike'], but got {[doc['_id'] for doc in result4]}\"\n",
         "hidden": false,
         "locked": false
        },
        {
         "code": ">>> assert list(filter(lambda x: x['_id'] == 'Woody Allen', result4))[0]['movieCount'] == 40, f'expected Woody Allen to have 40 movies, but got {list(filter(lambda x: x['_id'] == 'Woody Allen', result4))[0]['movieCount']}'\n",
         "hidden": false,
         "locked": false
        }
       ],
       "scored": true,
       "setup": "",
       "teardown": "",
       "type": "doctest"
      }
     ]
    },
    "ex5": {
     "name": "ex5",
     "points": 5,
     "suites": [
      {
       "cases": [
        {
         "code": ">>> adventure_doc = list(filter(lambda x: x['_id'] == 'Adventure', result5))[0]\n>>> assert adventure_doc['movieCount'] == 1900, f\"expected movieCount 1900 for 'Adventure' but got {adventure_doc['movieCount']}\"\n>>> assert adventure_doc['averageRating'] == 6.49, f\"expected averageRating 6.49 for 'Adventure' but got {adventure_doc['averageRating']}\"\n",
         "hidden": false,
         "locked": false
        }
       ],
       "scored": true,
       "setup": "",
       "teardown": "",
       "type": "doctest"
      }
     ]
    }
   }
  }
 },
 "nbformat": 4,
 "nbformat_minor": 2
}
